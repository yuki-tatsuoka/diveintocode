{
 "cells": [
  {
   "cell_type": "code",
   "execution_count": 94,
   "metadata": {
    "scrolled": false
   },
   "outputs": [
    {
     "data": {
      "text/plain": [
       "array([[  0,   4,   3],\n",
       "       [  0, -10, -48],\n",
       "       [ 14,  72,   9]])"
      ]
     },
     "execution_count": 94,
     "metadata": {},
     "output_type": "execute_result"
    }
   ],
   "source": [
    "#メモ\n",
    "import numpy as np\n",
    "a_ndarray = np.array([[-1, 2, 3], [4, -5, 6], [7, 8, -9]])\n",
    "b_ndarray = np.array([[0, 2, 1], [0, 2, -8], [2, 9, -1]])\n",
    "\n",
    "#アダマール積\n",
    "a_ndarray * b_ndarray"
   ]
  },
  {
   "cell_type": "markdown",
   "metadata": {},
   "source": [
    "# 【問題1】行列積を手計算する\n",
    "\n",
    "上記セルの１番上のa_ndarray,b_ndarrayの行列積を実施する。\n",
    "\n",
    "\n",
    "[-1,2,3]    [0,2,1] =       [-1×0 + 2×0 + 3×2, -1×2 + 2×2 + 3×9, -1×1 + 2×-8 + 3×-1]<br>\n",
    "[4,-5,6]   [0,2,-8] =     [4×0 + -5×0 + 6×2, 4×2 + -5×2 + 6×9, 4×1 + -5×-8 + 6×-1] <br>\n",
    "[7,8,-9]    [2,9,-1] =      [7×0 + 8×0 + -9×2, 7×2 + 8×2 + -9×9, 7×1 + 8×8 + -9×-1]<br>\n",
    "\n",
    "答え：<br>\n",
    "[6, 29, -20]<br>\n",
    "[12, 52, 38]<br>\n",
    "[-18,-51,-48]<br>\n",
    "\n",
    "後述：\n",
    "基本的には左の行列は→、右の行列は↓の方向に進み、計算を行う。\n"
   ]
  },
  {
   "cell_type": "code",
   "execution_count": 95,
   "metadata": {},
   "outputs": [
    {
     "name": "stdout",
     "output_type": "stream",
     "text": [
      "[[  0   4   3]\n",
      " [  0 -10 -48]\n",
      " [ 14  72   9]]\n"
     ]
    },
    {
     "data": {
      "text/plain": [
       "array([[  6,  29, -20],\n",
       "       [ 12,  52,  38],\n",
       "       [-18, -51, -48]])"
      ]
     },
     "execution_count": 95,
     "metadata": {},
     "output_type": "execute_result"
    }
   ],
   "source": [
    "# 問題２\n",
    "# この行列積はNumPyのnp.matmul()やnp.dot()、または@演算子を使うことで簡単に計算できます。\n",
    "# これらを使い行列積を計算してください。\n",
    "\n",
    "'''\n",
    "# matrixを使った行列計算\n",
    "a_ndarray = np.matrix([[-1, 2, 3], [4, -5, 6], [7, 8, -9]])\n",
    "b_ndarray = np.matrix([[0, 2, 1], [0, 2, -8], [2, 9, -1]])\n",
    "'''\n",
    "\n",
    "# 行列積\n",
    "print(a_ndarray * b_ndarray)\n",
    "\n",
    "# 行列積（matmul）\n",
    "np.matmul(a_ndarray, b_ndarray)"
   ]
  },
  {
   "cell_type": "code",
   "execution_count": 96,
   "metadata": {},
   "outputs": [
    {
     "data": {
      "text/plain": [
       "array([[  6,  29, -20],\n",
       "       [ 12,  52,  38],\n",
       "       [-18, -51, -48]])"
      ]
     },
     "execution_count": 96,
     "metadata": {},
     "output_type": "execute_result"
    }
   ],
   "source": [
    "# 問題３\n",
    "# 手計算をする際はまず行列Aの0行目と行列Bの0列目に注目し、以下の計算を行ったかと思います。\n",
    "# この計算をnp.matmul()やnp.dot()、または@演算子を使わずに行うコードを書いてください。\n",
    "\n",
    "\n",
    "#for文を使った要素を出力する計算式\n",
    "list_amount = []\n",
    "for i, j, k in a_ndarray:\n",
    "    for x,y,z in b_ndarray.T:\n",
    "        amount = (i * x + j * y + k * z)\n",
    "        list_amount.append(amount)\n",
    "              \n",
    "np.array(list_amount).reshape(3,3)       \n"
   ]
  },
  {
   "cell_type": "code",
   "execution_count": 139,
   "metadata": {},
   "outputs": [
    {
     "data": {
      "text/plain": [
       "array([[  6,  29, -20],\n",
       "       [ 12,  52,  38],\n",
       "       [-18, -51, -48]])"
      ]
     },
     "execution_count": 139,
     "metadata": {},
     "output_type": "execute_result"
    }
   ],
   "source": [
    "# 問題4\n",
    "# 行列AとBを引数に受け取り、行列積を返す関数としてください。\n",
    "\n",
    "def matrix_calculation(A, B):\n",
    "    list_amount = []\n",
    "    for i, j, k in A:\n",
    "        for x,y,z in B.T:\n",
    "            amount = (i * x + j * y + k * z)\n",
    "            list_amount.append(amount)\n",
    "    ndarray_list_amount = np.array(list_amount).reshape(3,3)\n",
    "    return ndarray_list_amount\n",
    "\n",
    "ndarray_list_amount = matrix_calculation(a_ndarray, b_ndarray)\n",
    "ndarray_list_amount"
   ]
  },
  {
   "cell_type": "code",
   "execution_count": null,
   "metadata": {},
   "outputs": [],
   "source": [
    "\n",
    "            "
   ]
  },
  {
   "cell_type": "code",
   "execution_count": 143,
   "metadata": {},
   "outputs": [
    {
     "name": "stdout",
     "output_type": "stream",
     "text": [
      "配列が正しくないため、計算できません\n"
     ]
    }
   ],
   "source": [
    "# 問題5\n",
    "# 問題4で作成した関数は、実装方法によってはこのDとEの配列を入力しても動いてしまう可能性があります\n",
    "# if文などによってこれを防ぎ、入力される形に問題があることをprint()を使い表示するコードを書き加えてください。\n",
    "\n",
    "d_ndarray = np.array([[-1, 2, 3], [4, -5, 6]])\n",
    "e_ndarray = np.array([[-9, 8, 7], [6, -5, 4]])\n",
    "\n",
    "# 問題4にエラー検知を加えた関数\n",
    "def matrix_calculation(A, B):\n",
    "    if len(A[0,:]) == len(B[:,0]):\n",
    "        list_amount = []\n",
    "        for i, j, k in A:\n",
    "            for x,y,z in B.T:\n",
    "                amount = (i * x + j * y + k * z)\n",
    "                list_amount.append(amount)\n",
    "        ndarray_list_amount = np.array(list_amount).reshape(3,3)\n",
    "        return ndarray_list_amount\n",
    "    else:\n",
    "        print(\"配列が正しくないため、計算できません\")\n",
    "\n",
    "matrix_calculation(d_ndarray, e_ndarray)"
   ]
  },
  {
   "cell_type": "code",
   "execution_count": 47,
   "metadata": {},
   "outputs": [
    {
     "data": {
      "text/plain": [
       "array([[ 46,  -4],\n",
       "       [-34,  73]])"
      ]
     },
     "execution_count": 47,
     "metadata": {},
     "output_type": "execute_result"
    }
   ],
   "source": [
    "#  問題6\n",
    "# 転置する\n",
    "\n",
    "d_ndarray = np.array([[-1, 2, 3], [4, -5, 6]])\n",
    "e_ndarray = np.array([[-9, 8, 7], [6, -5, 4]])\n",
    "new_e_ndarray = e_ndarray.T\n",
    "\n",
    "np.matmul(d_ndarray,new_e_ndarray)"
   ]
  },
  {
   "cell_type": "code",
   "execution_count": null,
   "metadata": {},
   "outputs": [],
   "source": []
  }
 ],
 "metadata": {
  "kernelspec": {
   "display_name": "Python 3",
   "language": "python",
   "name": "python3"
  },
  "language_info": {
   "codemirror_mode": {
    "name": "ipython",
    "version": 3
   },
   "file_extension": ".py",
   "mimetype": "text/x-python",
   "name": "python",
   "nbconvert_exporter": "python",
   "pygments_lexer": "ipython3",
   "version": "3.8.3"
  }
 },
 "nbformat": 4,
 "nbformat_minor": 4
}
