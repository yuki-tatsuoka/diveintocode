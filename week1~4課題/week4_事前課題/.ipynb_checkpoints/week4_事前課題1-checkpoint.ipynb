{
 "cells": [
  {
   "cell_type": "markdown",
   "metadata": {},
   "source": [
    "### 今回使う手法の一覧\n",
    "scikit-laernを使い以下の手法で学習と推定を行っていきます。それぞれの手法についての詳細は今の段階では扱いません。ライブラリを使えばどれも気軽に利用できることや、手法毎の結果に違いがあることを簡単に見ていきます。\n",
    "\n",
    "\n",
    "最近傍法\n",
    "ロジスティック回帰\n",
    "SVM\n",
    "決定木\n",
    "ランダムフォレスト"
   ]
  },
  {
   "cell_type": "markdown",
   "metadata": {},
   "source": [
    "### 練習のための準備\n",
    "練習する上で結果の可視化を行いたいため、特徴量は4つの中で2つだけを使うことにします。こうすることで2次元の散布図を描き確認することができます。また、**問題を単純化するためアヤメの種類を2つだけ使うことにします**。分類対象が2種類の場合を 2値分類 と呼び、それ以上の 多値分類 とは区別をします。それぞれで手法や評価方法が変わります。今回はまずより基本的な2値分類を行います。"
   ]
  },
  {
   "cell_type": "markdown",
   "metadata": {},
   "source": [
    "### 【課題1】練習のために特徴量とカテゴリを選択\n",
    "選び方は合計18通りありますが、以下の組み合わせで練習することにします。irisデータセットをWeek3同様に取得した後、データフレームからこれらを抜き出してください。\n",
    "\n",
    "\n",
    "virgicolorとvirginica<br>\n",
    "sepal_lengthとpetal_length\n",
    "\n",
    "《実際の問題では？》\n",
    "\n",
    "\n",
    "実際の問題を解く上でも結果の可視化は有効です。しかし、そのために学習や推定に使う特徴量を2つに絞るのは望ましくありません。そのため学習や推定は多次元で行い、可視化をする際にだけ主成分分析などの特徴抽出手法を適用するといったことが行われます。また、Week3で利用した散布図行列を使い可視化することも可能です。"
   ]
  },
  {
   "cell_type": "code",
   "execution_count": 378,
   "metadata": {},
   "outputs": [
    {
     "data": {
      "text/html": [
       "<div>\n",
       "<style scoped>\n",
       "    .dataframe tbody tr th:only-of-type {\n",
       "        vertical-align: middle;\n",
       "    }\n",
       "\n",
       "    .dataframe tbody tr th {\n",
       "        vertical-align: top;\n",
       "    }\n",
       "\n",
       "    .dataframe thead th {\n",
       "        text-align: right;\n",
       "    }\n",
       "</style>\n",
       "<table border=\"1\" class=\"dataframe\">\n",
       "  <thead>\n",
       "    <tr style=\"text-align: right;\">\n",
       "      <th></th>\n",
       "      <th>sepal length (cm)</th>\n",
       "      <th>sepal width (cm)</th>\n",
       "      <th>petal length (cm)</th>\n",
       "      <th>petal width (cm)</th>\n",
       "      <th>target</th>\n",
       "    </tr>\n",
       "  </thead>\n",
       "  <tbody>\n",
       "    <tr>\n",
       "      <th>0</th>\n",
       "      <td>5.1</td>\n",
       "      <td>3.5</td>\n",
       "      <td>1.4</td>\n",
       "      <td>0.2</td>\n",
       "      <td>0</td>\n",
       "    </tr>\n",
       "    <tr>\n",
       "      <th>1</th>\n",
       "      <td>4.9</td>\n",
       "      <td>3.0</td>\n",
       "      <td>1.4</td>\n",
       "      <td>0.2</td>\n",
       "      <td>0</td>\n",
       "    </tr>\n",
       "    <tr>\n",
       "      <th>2</th>\n",
       "      <td>4.7</td>\n",
       "      <td>3.2</td>\n",
       "      <td>1.3</td>\n",
       "      <td>0.2</td>\n",
       "      <td>0</td>\n",
       "    </tr>\n",
       "    <tr>\n",
       "      <th>3</th>\n",
       "      <td>4.6</td>\n",
       "      <td>3.1</td>\n",
       "      <td>1.5</td>\n",
       "      <td>0.2</td>\n",
       "      <td>0</td>\n",
       "    </tr>\n",
       "    <tr>\n",
       "      <th>4</th>\n",
       "      <td>5.0</td>\n",
       "      <td>3.6</td>\n",
       "      <td>1.4</td>\n",
       "      <td>0.2</td>\n",
       "      <td>0</td>\n",
       "    </tr>\n",
       "    <tr>\n",
       "      <th>...</th>\n",
       "      <td>...</td>\n",
       "      <td>...</td>\n",
       "      <td>...</td>\n",
       "      <td>...</td>\n",
       "      <td>...</td>\n",
       "    </tr>\n",
       "    <tr>\n",
       "      <th>145</th>\n",
       "      <td>6.7</td>\n",
       "      <td>3.0</td>\n",
       "      <td>5.2</td>\n",
       "      <td>2.3</td>\n",
       "      <td>2</td>\n",
       "    </tr>\n",
       "    <tr>\n",
       "      <th>146</th>\n",
       "      <td>6.3</td>\n",
       "      <td>2.5</td>\n",
       "      <td>5.0</td>\n",
       "      <td>1.9</td>\n",
       "      <td>2</td>\n",
       "    </tr>\n",
       "    <tr>\n",
       "      <th>147</th>\n",
       "      <td>6.5</td>\n",
       "      <td>3.0</td>\n",
       "      <td>5.2</td>\n",
       "      <td>2.0</td>\n",
       "      <td>2</td>\n",
       "    </tr>\n",
       "    <tr>\n",
       "      <th>148</th>\n",
       "      <td>6.2</td>\n",
       "      <td>3.4</td>\n",
       "      <td>5.4</td>\n",
       "      <td>2.3</td>\n",
       "      <td>2</td>\n",
       "    </tr>\n",
       "    <tr>\n",
       "      <th>149</th>\n",
       "      <td>5.9</td>\n",
       "      <td>3.0</td>\n",
       "      <td>5.1</td>\n",
       "      <td>1.8</td>\n",
       "      <td>2</td>\n",
       "    </tr>\n",
       "  </tbody>\n",
       "</table>\n",
       "<p>150 rows × 5 columns</p>\n",
       "</div>"
      ],
      "text/plain": [
       "     sepal length (cm)  sepal width (cm)  ...  petal width (cm)  target\n",
       "0                  5.1               3.5  ...               0.2       0\n",
       "1                  4.9               3.0  ...               0.2       0\n",
       "2                  4.7               3.2  ...               0.2       0\n",
       "3                  4.6               3.1  ...               0.2       0\n",
       "4                  5.0               3.6  ...               0.2       0\n",
       "..                 ...               ...  ...               ...     ...\n",
       "145                6.7               3.0  ...               2.3       2\n",
       "146                6.3               2.5  ...               1.9       2\n",
       "147                6.5               3.0  ...               2.0       2\n",
       "148                6.2               3.4  ...               2.3       2\n",
       "149                5.9               3.0  ...               1.8       2\n",
       "\n",
       "[150 rows x 5 columns]"
      ]
     },
     "execution_count": 378,
     "metadata": {},
     "output_type": "execute_result"
    }
   ],
   "source": [
    "import pandas as pd\n",
    "from sklearn.datasets import load_iris\n",
    "\n",
    "# 下準備\n",
    "iris = load_iris()\n",
    "X = pd.DataFrame(iris.data, columns=iris.feature_names)\n",
    "y = pd.DataFrame(iris.target, columns=[\"target\"])\n",
    "df = pd.concat([X, y], axis=1)\n",
    "df"
   ]
  },
  {
   "cell_type": "code",
   "execution_count": 379,
   "metadata": {},
   "outputs": [
    {
     "data": {
      "text/html": [
       "<div>\n",
       "<style scoped>\n",
       "    .dataframe tbody tr th:only-of-type {\n",
       "        vertical-align: middle;\n",
       "    }\n",
       "\n",
       "    .dataframe tbody tr th {\n",
       "        vertical-align: top;\n",
       "    }\n",
       "\n",
       "    .dataframe thead th {\n",
       "        text-align: right;\n",
       "    }\n",
       "</style>\n",
       "<table border=\"1\" class=\"dataframe\">\n",
       "  <thead>\n",
       "    <tr style=\"text-align: right;\">\n",
       "      <th></th>\n",
       "      <th>sepal length (cm)</th>\n",
       "      <th>petal length (cm)</th>\n",
       "      <th>target</th>\n",
       "    </tr>\n",
       "  </thead>\n",
       "  <tbody>\n",
       "    <tr>\n",
       "      <th>50</th>\n",
       "      <td>7.0</td>\n",
       "      <td>4.7</td>\n",
       "      <td>1</td>\n",
       "    </tr>\n",
       "    <tr>\n",
       "      <th>51</th>\n",
       "      <td>6.4</td>\n",
       "      <td>4.5</td>\n",
       "      <td>1</td>\n",
       "    </tr>\n",
       "    <tr>\n",
       "      <th>52</th>\n",
       "      <td>6.9</td>\n",
       "      <td>4.9</td>\n",
       "      <td>1</td>\n",
       "    </tr>\n",
       "    <tr>\n",
       "      <th>53</th>\n",
       "      <td>5.5</td>\n",
       "      <td>4.0</td>\n",
       "      <td>1</td>\n",
       "    </tr>\n",
       "    <tr>\n",
       "      <th>54</th>\n",
       "      <td>6.5</td>\n",
       "      <td>4.6</td>\n",
       "      <td>1</td>\n",
       "    </tr>\n",
       "    <tr>\n",
       "      <th>...</th>\n",
       "      <td>...</td>\n",
       "      <td>...</td>\n",
       "      <td>...</td>\n",
       "    </tr>\n",
       "    <tr>\n",
       "      <th>145</th>\n",
       "      <td>6.7</td>\n",
       "      <td>5.2</td>\n",
       "      <td>2</td>\n",
       "    </tr>\n",
       "    <tr>\n",
       "      <th>146</th>\n",
       "      <td>6.3</td>\n",
       "      <td>5.0</td>\n",
       "      <td>2</td>\n",
       "    </tr>\n",
       "    <tr>\n",
       "      <th>147</th>\n",
       "      <td>6.5</td>\n",
       "      <td>5.2</td>\n",
       "      <td>2</td>\n",
       "    </tr>\n",
       "    <tr>\n",
       "      <th>148</th>\n",
       "      <td>6.2</td>\n",
       "      <td>5.4</td>\n",
       "      <td>2</td>\n",
       "    </tr>\n",
       "    <tr>\n",
       "      <th>149</th>\n",
       "      <td>5.9</td>\n",
       "      <td>5.1</td>\n",
       "      <td>2</td>\n",
       "    </tr>\n",
       "  </tbody>\n",
       "</table>\n",
       "<p>100 rows × 3 columns</p>\n",
       "</div>"
      ],
      "text/plain": [
       "     sepal length (cm)  petal length (cm)  target\n",
       "50                 7.0                4.7       1\n",
       "51                 6.4                4.5       1\n",
       "52                 6.9                4.9       1\n",
       "53                 5.5                4.0       1\n",
       "54                 6.5                4.6       1\n",
       "..                 ...                ...     ...\n",
       "145                6.7                5.2       2\n",
       "146                6.3                5.0       2\n",
       "147                6.5                5.2       2\n",
       "148                6.2                5.4       2\n",
       "149                5.9                5.1       2\n",
       "\n",
       "[100 rows x 3 columns]"
      ]
     },
     "execution_count": 379,
     "metadata": {},
     "output_type": "execute_result"
    }
   ],
   "source": [
    "# 抜き出す\n",
    "df = pd.concat([df[\"sepal length (cm)\"], df[\"petal length (cm)\"],df[\"target\"]], axis=1)\n",
    "df.drop(range(0,50), axis=0, inplace=True)\n",
    "df"
   ]
  },
  {
   "cell_type": "markdown",
   "metadata": {},
   "source": [
    "# 【問題2】データの分析\n",
    "まずはデータの分析を行いますが、これはWeek3の課題1で行いました。その際出力した散布図行列を見ることで、先ほどの18通りそれぞれの散布図も確認できます。sepal_lengthとpetal_lengthを使い、virgicolorとvirginicaを分類するのは少し難しそうな状況であることが分かるはずです。\n",
    "\n",
    "\n",
    "ここでは復習を兼ねて、抜き出したデータの散布図と箱ひげ図（boxplot）、バイオリン図（violinplot）を表示してください。\n",
    "\n",
    "\n",
    "《実際の問題では？》\n",
    "\n",
    "\n",
    "このデータ分析の結果を元に前処理として特徴量エンジニアリングを行っていきます。\n",
    "\n",
    "\n",
    "今回はsepal_lengthとpetal_lengthを抜き出しましたが、分析した上で、問題を少々難しくするための前処理をしたと言えます。\n",
    "\n"
   ]
  },
  {
   "cell_type": "code",
   "execution_count": 380,
   "metadata": {},
   "outputs": [
    {
     "data": {
      "image/png": "[encoded data removed]",
      "text/plain": [
       "<Figure size 432x288 with 1 Axes>"
      ]
     },
     "metadata": {
      "needs_background": "light"
     },
     "output_type": "display_data"
    },
    {
     "data": {
      "image/png": "[encoded data removed]",
      "text/plain": [
       "<Figure size 432x288 with 1 Axes>"
      ]
     },
     "metadata": {
      "needs_background": "light"
     },
     "output_type": "display_data"
    },
    {
     "data": {
      "image/png": "[encoded data removed]",
      "text/plain": [
       "<Figure size 432x288 with 1 Axes>"
      ]
     },
     "metadata": {
      "needs_background": "light"
     },
     "output_type": "display_data"
    }
   ],
   "source": [
    "import matplotlib.pyplot as plt\n",
    "import seaborn as sns\n",
    "\n",
    "# 散布図\n",
    "plt.scatter(df[\"sepal length (cm)\"], df[\"petal length (cm)\"])\n",
    "plt.show()\n",
    "\n",
    "# 箱ひげ図\n",
    "plt.boxplot([df[\"sepal length (cm)\"], df[\"petal length (cm)\"]])\n",
    "plt.show()\n",
    "\n",
    "# バイオリン図\n",
    "sns.violinplot(data=df)\n",
    "plt.show()"
   ]
  },
  {
   "cell_type": "markdown",
   "metadata": {},
   "source": [
    "# 【問題3】前処理・訓練データと検証データの分割\n",
    "前処理の一貫として、訓練データと検証データの分割を行います。今回は訓練データ75%、検証データ25%として分割してください。\n",
    "\n",
    "\n",
    "scikit-learnのtrain_test_splitが利用できます。公式ドキュメントのExamplesを参考に動かしてください。\n",
    "\n",
    "\n",
    "sklearn.model_selection.train_test_split — scikit-learn 0.21.3 documentation\n",
    "\n",
    "\n",
    "《注意点》\n",
    "\n",
    "\n",
    "データの分析まではPandasのDataFrameを使用してきました。しかし、scikit-learnはNumPyのndarrayを想定して作られています。そのため、この段階でndarrayへの変換を行いましょう。特徴量（説明変数）をX、正解（目的変数）をyというndarrayに格納します。\n",
    "\n",
    "\n",
    "《分割する理由》\n",
    "\n",
    "\n",
    "分類問題の目的は未知のデータを正しく分類することです。その目的が達成できているかを確認するため、実際には答えの分かっているデータの一部を学習には使わず残しておきます。この学習に使用していないデータで推定を行い、そこから求めた指標値によって検証します。学習に使うデータを訓練データ、検証に使うデータが検証データで、一般的に7対3から8対2程度の割合にします。"
   ]
  },
  {
   "cell_type": "code",
   "execution_count": 381,
   "metadata": {},
   "outputs": [],
   "source": [
    "from sklearn.model_selection import train_test_split\n",
    "\n",
    "X = pd.concat([df[\"sepal length (cm)\"], df[\"petal length (cm)\"]],axis=1).to_numpy()\n",
    "y = df[\"target\"].to_numpy()\n",
    "\n",
    "X_train, X_test, y_train, y_test = train_test_split(X, y, test_size=0.25, random_state=0)\n"
   ]
  },
  {
   "cell_type": "markdown",
   "metadata": {},
   "source": [
    "# 【問題4】前処理・標準化\n",
    "分類精度をあげるための加工を行います。手法ごとに適切な方法は異なりますが、ここでは一例として 標準化 を行うことにします。\n",
    "\n",
    "\n",
    "標準化を行うライブラリもscikit-learnに用意されています。これを使って標準化してください。\n",
    "\n",
    "\n",
    "sklearn.model_selection.train_test_split — scikit-learn 0.21.3 documentation\n",
    "\n",
    "\n",
    "《注意点》\n",
    "\n",
    "\n",
    "標準化は訓練用のデータでfitを行い、訓練用、検証用双方のデータにtransformを行います。検証データは学習の段階には存在しない未知のデータの代わりなので、標準化のための平均や標準偏差の計算に使ってはいけません。また、今回は分類問題なので、ラベルについては標準化させる必要はありません。\n",
    "\n",
    "\n",
    "《実際の問題での前処理は？》\n",
    "\n",
    "\n",
    "アヤメのデータセットのように綺麗で扱いやすい状況で提供されることはまずありません。分析を行いながら、様々な加工が必要になってきます。例えばWeek3の課題2で行った欠損値の確認の後、場合により欠損値の補間も行います。外れ値の確認や、複数のデータセットの整理などもあります。\n",
    "\n"
   ]
  },
  {
   "cell_type": "code",
   "execution_count": 382,
   "metadata": {},
   "outputs": [],
   "source": [
    "from sklearn.preprocessing import  StandardScaler\n",
    "scaler = StandardScaler()\n",
    "scaler_train = scaler.fit_transform(X_train)\n",
    "scaler_test = scaler.transform(X_test)"
   ]
  },
  {
   "cell_type": "markdown",
   "metadata": {},
   "source": [
    "# 【問題5】学習と推定\n",
    "最近傍法（k-nearest neighbors, k-nn）で学習を行います。scikit-learnの公式ドキュメントのExamplesを参考に、k-nnの学習を行ってください。ここで入力するのは訓練データです。\n",
    "\n",
    "\n",
    "sklearn.neighbors.KNeighborsClassifier — scikit-learn 0.21.3 documentation\n",
    "\n",
    "\n",
    "学習が終わった後、検証データをpredictメソッドに入力し、推定を行ってください。\n",
    "\n",
    "\n",
    "パラメータが複数ありますが、今はそれらの理解を重視しません。最も基本的な要素として、n_neighborsの数があるため、これは複数試してみましょう。デフォルトの5、および1と3を最低限行ってください。5の場合を5-nn、3の場合を3-nnのように呼びます。\n",
    "\n"
   ]
  },
  {
   "cell_type": "code",
   "execution_count": 383,
   "metadata": {},
   "outputs": [
    {
     "data": {
      "text/plain": [
       "array([1, 2, 1, 2, 2, 2, 1, 2, 2, 2, 2, 2, 2, 2, 1, 1, 2, 1, 2, 1, 1, 2,\n",
       "       1, 2, 1])"
      ]
     },
     "execution_count": 383,
     "metadata": {},
     "output_type": "execute_result"
    }
   ],
   "source": [
    "from sklearn.neighbors import KNeighborsClassifier\n",
    "import warnings\n",
    "warnings.simplefilter(\"ignore\")\n",
    "\n",
    "model = KNeighborsClassifier(n_neighbors=5)\n",
    "model.fit(scaler_train, y_train)\n",
    "\n",
    "# 推定\n",
    "pred = model.predict(scaler_test)\n",
    "pred"
   ]
  },
  {
   "cell_type": "markdown",
   "metadata": {},
   "source": [
    "# 【問題6】評価\n",
    "検証データの特徴量を入力して得られた推定値と、検証データの正解値の近さを計算し、学習したモデルを評価します。\n",
    "\n",
    "\n",
    "2値分類を評価するための指標値には Accuracy（正解率）、Precision（適合率）、Recall（再現率）、F値 があります。それぞれの意味を理解するには、 混同行列（confusion matrix） を見ることになります。\n",
    "\n",
    "\n",
    "scikit-learnを使い4種類の指標を計算する\n",
    "混同行列をscikit-learnを使い表示する\n",
    "4種類の指標値の意味について簡単に調査して文章でまとめる\n",
    "\n",
    "sklearn.metrics.accuracy_score — scikit-learn 0.21.3 documentation\n",
    "\n",
    "\n",
    "sklearn.metrics.precision_score — scikit-learn 0.21.3 documentation\n",
    "\n",
    "\n",
    "sklearn.metrics.recall_score — scikit-learn 0.21.3 documentation\n",
    "\n",
    "\n",
    "sklearn.metrics.f1_score — scikit-learn 0.21.3 documentation\n",
    "\n",
    "\n",
    "sklearn.metrics.confusion_matrix — scikit-learn 0.21.3 documentation"
   ]
  },
  {
   "cell_type": "code",
   "execution_count": 384,
   "metadata": {},
   "outputs": [
    {
     "name": "stdout",
     "output_type": "stream",
     "text": [
      "[[10  0]\n",
      " [ 3 12]]\n",
      "正解率は0.88\n",
      "適合率は0.7692307692307693\n",
      "再現率は1.0\n",
      "F値は0.8695652173913044\n"
     ]
    },
    {
     "data": {
      "text/plain": [
       "'\\n意味\\nconfusion_matrix：\\nTN,FP,FN,TPの4つの指標があり、Nはnegative、Pはpositiveを示す。\\n猫に例えるとNは実際の値が猫ではない、Pは実際の値が猫である、という状況下で分類されている。\\n\\naccuracy_score：\\n数式で表すと(TP+TN)/(TP+FP+FN+TN)\\n意味は単純に正解した値が全体でどれくらいあったかを見ている。\\nそのため、FPとFNは考慮されていないためこの値のみを信じるのは危険。\\n\\nprecision_score：\\n数式で表すと(TP)/(TP+FP)\\n猫だけど間違えて猫ではない、と予測する確率を見る事が可能。\\nFNは考慮しないので、FNを許容できる場合に利用する。\\n\\nrecall_score：\\n数式で表すと(TP)/(TP+FN)\\n猫ではないものを猫、と予測する確率を見る事が可能。\\nFPは考慮しないので、FPを許容できる場合に利用する。\\n\\nf1_score：\\n数式で表すと(2*recall*precision)/(recall+precision)\\nprecisionとrecallの中間のイメージ。\\nFP,FN両方考慮する時に利用する。\\n\\n'"
      ]
     },
     "execution_count": 384,
     "metadata": {},
     "output_type": "execute_result"
    }
   ],
   "source": [
    "from sklearn.metrics import recall_score,accuracy_score,precision_score, f1_score, confusion_matrix\n",
    "\n",
    "#混合行列\n",
    "print(confusion_matrix(pred, y_test)) \n",
    "# TN11,FP2,FN0,TP12\n",
    "\n",
    "\n",
    "# 各指標\n",
    "print(\"正解率は{}\".format(accuracy_score(pred, y_test))) \n",
    "print(\"適合率は{}\".format(precision_score(pred, y_test)))\n",
    "print(\"再現率は{}\".format(recall_score(pred, y_test)))\n",
    "print(\"F値は{}\".format(f1_score(pred, y_test)))\n",
    "\n",
    "'''\n",
    "意味\n",
    "confusion_matrix：\n",
    "TN,FP,FN,TPの4つの指標があり、Nはnegative、Pはpositiveを示す。\n",
    "猫に例えるとNは実際の値が猫ではない、Pは実際の値が猫である、という状況下で分類されている。\n",
    "\n",
    "accuracy_score：\n",
    "数式で表すと(TP+TN)/(TP+FP+FN+TN)\n",
    "意味は単純に正解した値が全体でどれくらいあったかを見ている。\n",
    "そのため、FPとFNは考慮されていないためこの値のみを信じるのは危険。\n",
    "\n",
    "precision_score：\n",
    "数式で表すと(TP)/(TP+FP)\n",
    "猫だけど間違えて猫ではない、と予測する確率を見る事が可能。\n",
    "FNは考慮しないので、FNを許容できる場合に利用する。\n",
    "\n",
    "recall_score：\n",
    "数式で表すと(TP)/(TP+FN)\n",
    "猫ではないものを猫、と予測する確率を見る事が可能。\n",
    "FPは考慮しないので、FPを許容できる場合に利用する。\n",
    "\n",
    "f1_score：\n",
    "数式で表すと(2*recall*precision)/(recall+precision)\n",
    "precisionとrecallの中間のイメージ。\n",
    "FP,FN両方考慮する時に利用する。\n",
    "\n",
    "'''"
   ]
  },
  {
   "cell_type": "markdown",
   "metadata": {},
   "source": [
    "# 【問題7】可視化\n",
    "評価の一貫として可視化を行います。今回の場合2次元の特徴量で分類を行いましたから、散布図で可視化が可能です。以下にどう分割するかという 決定領域 を描く関数を用意しました。これを利用して可視化を行ってください。Xとyには訓練データまたは検証データを与えます。"
   ]
  },
  {
   "cell_type": "code",
   "execution_count": 385,
   "metadata": {},
   "outputs": [
    {
     "data": {
      "image/png": "[encoded data removed]",
      "text/plain": [
       "<Figure size 432x288 with 1 Axes>"
      ]
     },
     "metadata": {
      "needs_background": "light"
     },
     "output_type": "display_data"
    }
   ],
   "source": [
    "import numpy as np\n",
    "import matplotlib.pyplot as plt\n",
    "from matplotlib.colors import ListedColormap\n",
    "import matplotlib.patches as mpatches\n",
    "def decision_region(X, y, model, step=0.01, title='decision region', xlabel='xlabel', ylabel='ylabel', target_names=['versicolor', 'virginica']):\n",
    "    \"\"\"\n",
    "    2値分類を2次元の特徴量で学習したモデルの決定領域を描く。\n",
    "    背景の色が学習したモデルによる推定値から描画される。\n",
    "    散布図の点は訓練データまたは検証データである。\n",
    "    Parameters\n",
    "    ----------------\n",
    "    X : ndarray, shape(n_samples, 2)\n",
    "        特徴量\n",
    "    y : ndarray, shape(n_samples,)\n",
    "        ラベル\n",
    "    model : object\n",
    "        学習したモデルのインスンタスを入れる\n",
    "    step : float, (default : 0.1)\n",
    "        推定値を計算する間隔を設定する\n",
    "    title : str\n",
    "        グラフのタイトルの文章を与える\n",
    "    xlabel, ylabel : str\n",
    "        軸ラベルの文章を与える\n",
    "    target_names= : list of str\n",
    "        凡例の一覧を与える\n",
    "    \"\"\"\n",
    "    # setting\n",
    "    scatter_color = ['red', 'blue']\n",
    "    contourf_color = ['pink', 'skyblue']\n",
    "    n_class = 2\n",
    "    # pred\n",
    "    mesh_f0, mesh_f1  = np.meshgrid(np.arange(np.min(X[:,0])-0.5, np.max(X[:,0])+0.5, step), np.arange(np.min(X[:,1])-0.5, np.max(X[:,1])+0.5, step))\n",
    "    mesh = np.c_[np.ravel(mesh_f0),np.ravel(mesh_f1)]\n",
    "    y_pred = model.predict(mesh).reshape(mesh_f0.shape)\n",
    "    # plot\n",
    "\n",
    "    plt.title(title)\n",
    "    plt.xlabel(xlabel)\n",
    "    plt.ylabel(ylabel)\n",
    "    plt.contourf(mesh_f0, mesh_f1, y_pred, n_class-1, cmap=ListedColormap(contourf_color))\n",
    "    plt.contour(mesh_f0, mesh_f1, y_pred, n_class-1, colors='y', linewidths=3, alpha=0.5)\n",
    "    for i, target in enumerate(set(y)):\n",
    "        plt.scatter(X[y==target][:, 0], X[y==target][:, 1], s=80, color=scatter_color[i], label=target_names[i], marker='o')\n",
    "    patches = [mpatches.Patch(color=scatter_color[i], label=target_names[i]) for i in range(n_class)]\n",
    "    plt.legend(handles=patches)\n",
    "    plt.legend()\n",
    "    plt.show()\n",
    "decision_region(X_train, y_train, model)"
   ]
  },
  {
   "cell_type": "markdown",
   "metadata": {},
   "source": [
    "# 問題8】他の手法の学習\n",
    "以下の全ての手法について学習・推定・評価・可視化を行ってください。そして、指標値を１つの表にまとめてください。その表と決定領域を利用して結果を簡単に考察してください。どの手法がどの指標値で良かったかや、どういった決定領域になっていたかを述べてください。\n",
    "\n",
    "\n",
    "最近傍法\n",
    "ロジスティック回帰\n",
    "SVM\n",
    "決定木\n",
    "ランダムフォレスト\n",
    "\n",
    "公式ドキュメントへのリンクは以下です。それぞれ調整すべき引数（ハイパーパラメータ）がありますが、この課題では扱いません。まずはデフォルトの値で実行してください。\n",
    "\n",
    "\n",
    "sklearn.neighbors.KNeighborsClassifier — scikit-learn 0.21.3 documentation\n",
    "sklearn.linear_model.LogisticRegression — scikit-learn 0.21.3 documentation\n",
    "sklearn.svm.SVC — scikit-learn 0.21.3 documentation\n",
    "sklearn.tree.DecisionTreeClassifier — scikit-learn 0.21.3 documentation\n",
    "sklearn.ensemble.RandomForestClassifier — scikit-learn 0.21.3 documentation\n",
    "\n",
    "《実際の問題では？》\n",
    "\n",
    "\n",
    "ハイパーパラメータの調整は パラメータチューニング と呼ばれる工程で、その手法としてグリッドサーチなどが存在します。\n",
    "\n"
   ]
  },
  {
   "cell_type": "code",
   "execution_count": 386,
   "metadata": {},
   "outputs": [
    {
     "name": "stdout",
     "output_type": "stream",
     "text": [
      "正解率は0.88\n",
      "適合率は0.7692307692307693\n",
      "再現率は1.0\n",
      "F値は0.8695652173913044\n",
      "[[10  0]\n",
      " [ 3 12]]\n"
     ]
    },
    {
     "data": {
      "image/png": "[encoded data removed]",
      "text/plain": [
       "<Figure size 432x288 with 1 Axes>"
      ]
     },
     "metadata": {
      "needs_background": "light"
     },
     "output_type": "display_data"
    },
    {
     "data": {
      "text/plain": [
       "'\\n考察\\nロジスティック回帰を使うと、k近傍法より精度が落ちている。\\nパラメータのチューニング次第で変化があると思う。\\nこの場合CをGridserchで調整する感じ。\\nまた、シグモイド関数に重回帰分析の式を入れるイメージなので、高次元に対応しないはず。\\nあまり利用するイメージがない。。。\\nただ、このチューニングにfor文やrandom_stateも変更すれば処理がとても重くなるので\\n組み込みPCなど処理をあげたマシンを使うのが一般的？？\\n'"
      ]
     },
     "execution_count": 386,
     "metadata": {},
     "output_type": "execute_result"
    }
   ],
   "source": [
    "# ロジスティック回帰\n",
    "from sklearn.linear_model import LogisticRegression\n",
    "\n",
    "# DLと学習\n",
    "model_log = LogisticRegression()\n",
    "model_log.fit(X_train, y_train)\n",
    "\n",
    "# 推定\n",
    "pred = model_log.predict(X_test)\n",
    "\n",
    "# 評価\n",
    "print(\"正解率は{}\".format(accuracy_score(pred, y_test))) \n",
    "print(\"適合率は{}\".format(precision_score(pred, y_test)))\n",
    "print(\"再現率は{}\".format(recall_score(pred, y_test)))\n",
    "print(\"F値は{}\".format(f1_score(pred, y_test)))\n",
    "print(confusion_matrix(pred, y_test)) \n",
    "\n",
    "decision_region(X_train, y_train, model_log)\n",
    "\n",
    "'''\n",
    "考察\n",
    "ロジスティック回帰を使うと、k近傍法より精度が落ちている。\n",
    "パラメータのチューニング次第で変化があると思う。\n",
    "この場合CをGridserchで調整する感じ。\n",
    "また、シグモイド関数に重回帰分析の式を入れるイメージなので、高次元に対応しないはず。\n",
    "あまり利用するイメージがない。。。\n",
    "ただ、このチューニングにfor文やrandom_stateも変更すれば処理がとても重くなるので\n",
    "組み込みPCなど処理をあげたマシンを使うのが一般的？？\n",
    "'''"
   ]
  },
  {
   "cell_type": "code",
   "execution_count": 387,
   "metadata": {},
   "outputs": [
    {
     "name": "stdout",
     "output_type": "stream",
     "text": [
      "正解率は0.88\n",
      "適合率は0.7692307692307693\n",
      "再現率は1.0\n",
      "F値は0.8695652173913044\n",
      "[[10  0]\n",
      " [ 3 12]]\n"
     ]
    },
    {
     "data": {
      "image/png": "[encoded data removed]",
      "text/plain": [
       "<Figure size 432x288 with 1 Axes>"
      ]
     },
     "metadata": {
      "needs_background": "light"
     },
     "output_type": "display_data"
    },
    {
     "data": {
      "text/plain": [
       "'\\n考察\\nロジスティック回帰とSVCの精度が一緒。\\nパラメータのチューニング次第で変化があると思う。\\nこの場合C,tol,penalty,損失をGridserchで調整する感じ。\\nlinearを使う場面も少なそうで、どちらかというと非線形のSVCを使うイメージ。\\n基本２値分類で説明されるので、利用頻度は低そう？\\n\\n'"
      ]
     },
     "execution_count": 387,
     "metadata": {},
     "output_type": "execute_result"
    }
   ],
   "source": [
    "# SVM\n",
    "from sklearn.svm import LinearSVC\n",
    "\n",
    "# DLと学習\n",
    "model_svc = LinearSVC()\n",
    "model_svc.fit(X_train, y_train)\n",
    "\n",
    "# 推定\n",
    "pred = model_svm.predict(X_test)\n",
    "\n",
    "# 評価\n",
    "print(\"正解率は{}\".format(accuracy_score(pred, y_test))) \n",
    "print(\"適合率は{}\".format(precision_score(pred, y_test)))\n",
    "print(\"再現率は{}\".format(recall_score(pred, y_test)))\n",
    "print(\"F値は{}\".format(f1_score(pred, y_test)))\n",
    "print(confusion_matrix(pred, y_test)) \n",
    "\n",
    "decision_region(X_train, y_train, model_svc)\n",
    "'''\n",
    "考察\n",
    "ロジスティック回帰とSVCの精度が一緒。\n",
    "パラメータのチューニング次第で変化があると思う。\n",
    "この場合C,tol,penalty,損失をGridserchで調整する感じ。\n",
    "linearを使う場面も少なそうで、どちらかというと非線形のSVCを使うイメージ。\n",
    "基本２値分類で説明されるので、利用頻度は低そう？\n",
    "\n",
    "'''"
   ]
  },
  {
   "cell_type": "code",
   "execution_count": 388,
   "metadata": {},
   "outputs": [
    {
     "name": "stdout",
     "output_type": "stream",
     "text": [
      "正解率は0.84\n",
      "適合率は0.7692307692307693\n",
      "再現率は0.9090909090909091\n",
      "F値は0.8333333333333333\n",
      "[[10  1]\n",
      " [ 3 11]]\n"
     ]
    },
    {
     "data": {
      "image/png": "[encoded data removed]",
      "text/plain": [
       "<Figure size 432x288 with 1 Axes>"
      ]
     },
     "metadata": {
      "needs_background": "light"
     },
     "output_type": "display_data"
    },
    {
     "data": {
      "text/plain": [
       "'\\n考察\\n精度はどっこいどっこい。\\nパラメータのチューニング次第でもそこまで差が出るか不明。\\nmaxdepthの調整と、giniかentorpyかで若干変化があるか、程度の予感なので\\n個人的には特徴量を可視化する以外の方法では利用しないと思う。\\n'"
      ]
     },
     "execution_count": 388,
     "metadata": {},
     "output_type": "execute_result"
    }
   ],
   "source": [
    " # 決定木\n",
    "from sklearn.tree import DecisionTreeClassifier\n",
    "\n",
    "#モデルと学習\n",
    "model_tree = DecisionTreeClassifier().fit(X_train, y_train)\n",
    "\n",
    "# 推定\n",
    "pred = model_tree.predict(X_test)\n",
    "\n",
    "# 評価\n",
    "print(\"正解率は{}\".format(accuracy_score(pred, y_test))) \n",
    "print(\"適合率は{}\".format(precision_score(pred, y_test)))\n",
    "print(\"再現率は{}\".format(recall_score(pred, y_test)))\n",
    "print(\"F値は{}\".format(f1_score(pred, y_test)))\n",
    "print(confusion_matrix(pred, y_test)) \n",
    "\n",
    "\n",
    "decision_region(X_train, y_train, model_tree)\n",
    "\n",
    "'''\n",
    "考察\n",
    "精度はどっこいどっこい。\n",
    "パラメータのチューニング次第でもそこまで差が出るか不明。\n",
    "maxdepthの調整と、giniかentorpyかで若干変化があるか、程度の予感なので\n",
    "個人的には特徴量を可視化する以外の方法では利用しないと思う。\n",
    "'''"
   ]
  },
  {
   "cell_type": "code",
   "execution_count": 389,
   "metadata": {},
   "outputs": [
    {
     "name": "stdout",
     "output_type": "stream",
     "text": [
      "正解率は0.84\n",
      "適合率は0.6923076923076923\n",
      "再現率は1.0\n",
      "F値は0.8181818181818181\n",
      "[[ 9  0]\n",
      " [ 4 12]]\n"
     ]
    },
    {
     "data": {
      "image/png": "[encoded data removed]",
      "text/plain": [
       "<Figure size 432x288 with 1 Axes>"
      ]
     },
     "metadata": {
      "needs_background": "light"
     },
     "output_type": "display_data"
    },
    {
     "data": {
      "text/plain": [
       "'\\nまとめ\\n図を見ると、k近傍法の線が最も柔軟に対応しているので１番値が高い。\\nロジスティック回帰はシグモイドのように分断されているかと思っていたので予想外だった。\\nまた、ランダムフォレストが決定木よりも精度が低いのでチューニングが欲しいところ。\\n'"
      ]
     },
     "execution_count": 389,
     "metadata": {},
     "output_type": "execute_result"
    }
   ],
   "source": [
    "# ランダムフォレスト\n",
    "from sklearn.ensemble import RandomForestClassifier\n",
    "\n",
    "model_random = RandomForestClassifier().fit(X_train, y_train)\n",
    "\n",
    "# 推定\n",
    "pred = model_random.predict(X_test)\n",
    "\n",
    "# 評価\n",
    "print(\"正解率は{}\".format(accuracy_score(pred, y_test))) \n",
    "print(\"適合率は{}\".format(precision_score(pred, y_test)))\n",
    "print(\"再現率は{}\".format(recall_score(pred, y_test)))\n",
    "print(\"F値は{}\".format(f1_score(pred, y_test)))\n",
    "print(confusion_matrix(pred, y_test)) \n",
    "\n",
    "\n",
    "decision_region(X_train, y_train, model_random)\n",
    "\n",
    "'''\n",
    "考察\n",
    "決定木よりも評価が低いことが以外。\n",
    "おそらく学習木が多いので精度が落ちていると思える。\n",
    "チューニングは決定木と違いはほとんどないが、メソッドを10個ほど使ったことがないので\n",
    "そこら辺で差が出そう。\n",
    "'''\n",
    "\n",
    "'''\n",
    "まとめ\n",
    "図を見ると、k近傍法の線が最も柔軟に対応しているので１番値が高い。\n",
    "ロジスティック回帰はシグモイドのように分断されているかと思っていたので予想外だった。\n",
    "また、ランダムフォレストが決定木よりも精度が低いのでチューニングが欲しいところ。\n",
    "'''"
   ]
  },
  {
   "cell_type": "markdown",
   "metadata": {},
   "source": [
    "# 【問題9】（アドバンス課題）標準化の有無の比較\n",
    "前処理として標準化を行いましたが、これを行わなかった場合どのような結果が得られるでしょうか。各手法に対しての指標値の表と決定領域の図を作成し比較および考察を行ってください。考察には標準化が機械学習の前処理としてどのような意味があるかを絡めてください。"
   ]
  },
  {
   "cell_type": "code",
   "execution_count": 390,
   "metadata": {},
   "outputs": [
    {
     "data": {
      "image/png": "[encoded data removed]",
      "text/plain": [
       "<Figure size 432x288 with 1 Axes>"
      ]
     },
     "metadata": {
      "needs_background": "light"
     },
     "output_type": "display_data"
    }
   ],
   "source": [
    "# 正規化の意味\n",
    "# そもそも数値の意味が違うから。（身長と年齢等）\n",
    "# 正規化をすると意味が統一されるため、扱いやすい。\n",
    "\n",
    "X_train, X_test, y_train, y_test = train_test_split(X, y, test_size=0.25, random_state=0)\n",
    "\n",
    "scaler_train = scaler.fit_transform(X_train)\n",
    "scaler_test = scaler.transform(X_test)\n",
    "\n",
    "# 図\n",
    "plt.scatter(scaler_train[:,0], scaler_train[:, 1])\n",
    "plt.scatter(df[\"sepal length (cm)\"], df[\"petal length (cm)\"])\n",
    "plt.show()\n",
    "\n",
    "# 微妙に単位と点の位置が異なる。"
   ]
  },
  {
   "cell_type": "markdown",
   "metadata": {},
   "source": [
    "# 【問題10】（アドバンス課題）全ての目的変数を使用して精度が高い手法\n",
    "ここまではアヤメの種類を減らし2値分類を行ってきましたが、3種類全てを使った多値分類を行います。学習と推定、評価を行って、最も精度の高い手法を探してください。\n",
    "\n",
    "\n",
    "《多値になることでの変更点》\n",
    "\n",
    "\n",
    "指標値Precision（適合率）、Recall（再現率）、F値はライブラリのパラメータをデフォルトから変更する必要があります。マイクロ平均やマクロ平均という考え方を使います。\n",
    "\n",
    "\n",
    "決定領域を可視化する前述の関数は適切に書き換える必要があります。以下が出力例です。\n",
    "\n"
   ]
  },
  {
   "cell_type": "code",
   "execution_count": 413,
   "metadata": {},
   "outputs": [],
   "source": [
    "# 下準備\n",
    "iris = load_iris()\n",
    "X = pd.DataFrame(iris.data, columns=iris.feature_names)\n",
    "X = X.loc[:, [\"sepal length (cm)\",\"petal length (cm)\"]]\n",
    "y = pd.DataFrame(iris.target, columns=[\"target\"])\n",
    "\n",
    "# 分割\n",
    "X = X.to_numpy()\n",
    "y = y.to_numpy()\n",
    "\n",
    "X_train, X_test, y_train, y_test = train_test_split(X, y, test_size=0.25, random_state=0)\n",
    "\n",
    "y_train = y_train.reshape(-1)\n",
    "y_test = y_test.reshape(-1)\n",
    "\n",
    "# 標準化\n",
    "scaler = StandardScaler()\n",
    "scaler_train = scaler.fit_transform(X_train)\n",
    "scaler_test = scaler.transform(X_test)\n",
    "\n",
    "# アルゴリズム\n",
    "model_log = LogisticRegression().fit(scaler_train, y_train.ravel())\n",
    "model_random = RandomForestClassifier().fit(scaler_train, y_train.ravel())\n",
    "model_svc = LinearSVC().fit(scaler_train, y_train.ravel())\n",
    "model_tree = DecisionTreeClassifier().fit(scaler_train, y_train.ravel())\n",
    "\n",
    "# 推測\n",
    "pred_log =model_log.predict(scaler_test) \n",
    "pred_ramdom = model_random.predict(scaler_test)\n",
    "pred_svc = model_svc.predict(scaler_test)\n",
    "pred_tree =model_tree.predict(scaler_test)\n",
    "\n"
   ]
  },
  {
   "cell_type": "code",
   "execution_count": 414,
   "metadata": {},
   "outputs": [],
   "source": [
    "import numpy as np\n",
    "import matplotlib.pyplot as plt\n",
    "from matplotlib.colors import ListedColormap\n",
    "import matplotlib.patches as mpatches\n",
    "def decision_region(X, y, model, step=0.01, title='decision region', xlabel='xlabel', ylabel='ylabel', target_names=['setosa','versicolor', 'virginica']):\n",
    "    \"\"\"\n",
    "    2値分類を2次元の特徴量で学習したモデルの決定領域を描く。\n",
    "    背景の色が学習したモデルによる推定値から描画される。\n",
    "    散布図の点は訓練データまたは検証データである。\n",
    "    Parameters\n",
    "    ----------------\n",
    "    X : ndarray, shape(n_samples, 2)\n",
    "        特徴量\n",
    "    y : ndarray, shape(n_samples,)\n",
    "        ラベル\n",
    "    model : object\n",
    "        学習したモデルのインスンタスを入れる\n",
    "    step : float, (default : 0.1)\n",
    "        推定値を計算する間隔を設定する\n",
    "    title : str\n",
    "        グラフのタイトルの文章を与える\n",
    "    xlabel, ylabel : str\n",
    "        軸ラベルの文章を与える\n",
    "    target_names= : list of str\n",
    "        凡例の一覧を与える\n",
    "    \"\"\"\n",
    "    # setting\n",
    "    scatter_color = ['red', 'blue', 'green']\n",
    "    contourf_color = ['pink', 'skyblue', 'lightgreen']\n",
    "    n_class = 3\n",
    "    # pred\n",
    "    mesh_f0, mesh_f1  = np.meshgrid(np.arange(np.min(X[:,0])-0.5, np.max(X[:,0])+0.5, step), np.arange(np.min(X[:,1])-0.5, np.max(X[:,1])+0.5, step))\n",
    "    mesh = np.c_[np.ravel(mesh_f0),np.ravel(mesh_f1)]\n",
    "    y_pred = model.predict(mesh).reshape(mesh_f0.shape)\n",
    "    # plot\n",
    "    plt.title(title)\n",
    "    plt.xlabel(xlabel)\n",
    "    plt.ylabel(ylabel)\n",
    "    plt.contourf(mesh_f0, mesh_f1, y_pred, n_class-1, cmap=ListedColormap(contourf_color))\n",
    "    plt.contour(mesh_f0, mesh_f1, y_pred, n_class-1, colors='y', linewidths=3, alpha=0.5)\n",
    "    for i, target in enumerate(set(y)):\n",
    "        plt.scatter(X[y==target][:, 0], X[y==target][:, 1], s=80, color=scatter_color[i], label=target_names[i], marker='o')\n",
    "    patches = [mpatches.Patch(color=scatter_color[i], label=target_names[i]) for i in range(n_class)]\n",
    "    plt.legend(handles=patches)\n",
    "    plt.legend()\n",
    "    plt.show()"
   ]
  },
  {
   "cell_type": "code",
   "execution_count": 415,
   "metadata": {},
   "outputs": [
    {
     "name": "stdout",
     "output_type": "stream",
     "text": [
      "正解率は0.9473684210526315\n",
      "適合率は0.9473684210526315\n",
      "再現率は0.9473684210526315\n",
      "F値は0.9444444444444445\n",
      "[[13  0  0]\n",
      " [ 0 14  0]\n",
      " [ 0  2  9]]\n"
     ]
    },
    {
     "data": {
      "image/png": "[encoded data removed]",
      "text/plain": [
       "<Figure size 432x288 with 1 Axes>"
      ]
     },
     "metadata": {
      "needs_background": "light"
     },
     "output_type": "display_data"
    }
   ],
   "source": [
    "# 評価（ロジスティック）\n",
    "print(\"正解率は{}\".format(accuracy_score(pred_log, y_test))) \n",
    "print(\"適合率は{}\".format(precision_score(pred_log, y_test, average=\"micro\")))\n",
    "print(\"再現率は{}\".format(recall_score(pred_log, y_test, average=\"weighted\")))\n",
    "print(\"F値は{}\".format(f1_score(pred_log, y_test, average=\"macro\")))\n",
    "print(confusion_matrix(pred_log, y_test)) \n",
    "\n",
    "decision_region2(scaler_train , y_train, model_log)"
   ]
  },
  {
   "cell_type": "code",
   "execution_count": 416,
   "metadata": {},
   "outputs": [
    {
     "name": "stdout",
     "output_type": "stream",
     "text": [
      "正解率は0.9473684210526315\n",
      "適合率は0.9473684210526315\n",
      "再現率は0.9473684210526315\n",
      "F値は0.9421296296296297\n",
      "[[13  0  0]\n",
      " [ 0 14  0]\n",
      " [ 0  2  9]]\n"
     ]
    },
    {
     "data": {
      "image/png": "[encoded data removed]",
      "text/plain": [
       "<Figure size 432x288 with 1 Axes>"
      ]
     },
     "metadata": {
      "needs_background": "light"
     },
     "output_type": "display_data"
    }
   ],
   "source": [
    "# 評価（ランダムフォレスト）\n",
    "print(\"正解率は{}\".format(accuracy_score(pred_ramdom, y_test))) \n",
    "print(\"適合率は{}\".format(precision_score(pred_ramdom, y_test, average=\"micro\")))\n",
    "print(\"再現率は{}\".format(recall_score(pred_ramdom, y_test, average=\"weighted\")))\n",
    "print(\"F値は{}\".format(f1_score(pred_ramdom, y_test, average=\"macro\")))\n",
    "print(confusion_matrix(pred_log, y_test)) \n",
    "\n",
    "decision_region2(scaler_train , y_train, model_random)"
   ]
  },
  {
   "cell_type": "code",
   "execution_count": 417,
   "metadata": {},
   "outputs": [
    {
     "name": "stdout",
     "output_type": "stream",
     "text": [
      "正解率は0.868421052631579\n",
      "適合率は0.868421052631579\n",
      "再現率は0.868421052631579\n",
      "F値は0.8658078368223295\n",
      "[[13  0  0]\n",
      " [ 0 11  0]\n",
      " [ 0  5  9]]\n"
     ]
    },
    {
     "data": {
      "image/png": "[encoded data removed]",
      "text/plain": [
       "<Figure size 432x288 with 1 Axes>"
      ]
     },
     "metadata": {
      "needs_background": "light"
     },
     "output_type": "display_data"
    }
   ],
   "source": [
    "# 評価（SVC）\n",
    "print(\"正解率は{}\".format(accuracy_score(pred_svc, y_test))) \n",
    "print(\"適合率は{}\".format(precision_score(pred_svc, y_test, average=\"micro\")))\n",
    "print(\"再現率は{}\".format(recall_score(pred_svc, y_test, average=\"weighted\")))\n",
    "print(\"F値は{}\".format(f1_score(pred_svc, y_test, average=\"macro\")))\n",
    "print(confusion_matrix(pred_svc, y_test)) \n",
    "\n",
    "decision_region2(scaler_train , y_train, model_svc)"
   ]
  },
  {
   "cell_type": "code",
   "execution_count": 418,
   "metadata": {},
   "outputs": [
    {
     "name": "stdout",
     "output_type": "stream",
     "text": [
      "正解率は0.9210526315789473\n",
      "適合率は0.9210526315789473\n",
      "再現率は0.9210526315789473\n",
      "F値は0.9108734402852051\n",
      "[[13  0  0]\n",
      " [ 0 15  2]\n",
      " [ 0  1  7]]\n"
     ]
    },
    {
     "data": {
      "image/png": "[encoded data removed]",
      "text/plain": [
       "<Figure size 432x288 with 1 Axes>"
      ]
     },
     "metadata": {
      "needs_background": "light"
     },
     "output_type": "display_data"
    }
   ],
   "source": [
    "# 評価（決定木）\n",
    "print(\"正解率は{}\".format(accuracy_score(pred_tree, y_test))) \n",
    "print(\"適合率は{}\".format(precision_score(pred_tree, y_test, average=\"micro\")))\n",
    "print(\"再現率は{}\".format(recall_score(pred_tree, y_test, average=\"weighted\")))\n",
    "print(\"F値は{}\".format(f1_score(pred_tree, y_test, average=\"macro\")))\n",
    "print(confusion_matrix(pred_tree, y_test)) \n",
    "\n",
    "'''\n",
    "結論\n",
    "ランダムフォレストが最も優れている。\n",
    "'''\n",
    "decision_region2(scaler_train , y_train, model_tree)"
   ]
  },
  {
   "cell_type": "code",
   "execution_count": null,
   "metadata": {},
   "outputs": [],
   "source": []
  },
  {
   "cell_type": "code",
   "execution_count": null,
   "metadata": {},
   "outputs": [],
   "source": []
  },
  {
   "cell_type": "code",
   "execution_count": null,
   "metadata": {},
   "outputs": [],
   "source": []
  },
  {
   "cell_type": "code",
   "execution_count": null,
   "metadata": {},
   "outputs": [],
   "source": []
  },
  {
   "cell_type": "code",
   "execution_count": null,
   "metadata": {},
   "outputs": [],
   "source": []
  }
 ],
 "metadata": {
  "kernelspec": {
   "display_name": "Python 3",
   "language": "python",
   "name": "python3"
  },
  "language_info": {
   "codemirror_mode": {
    "name": "ipython",
    "version": 3
   },
   "file_extension": ".py",
   "mimetype": "text/x-python",
   "name": "python",
   "nbconvert_exporter": "python",
   "pygments_lexer": "ipython3",
   "version": "3.8.3"
  }
 },
 "nbformat": 4,
 "nbformat_minor": 4
}
