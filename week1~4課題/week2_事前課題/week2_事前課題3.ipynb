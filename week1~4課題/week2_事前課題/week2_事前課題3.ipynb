{
 "cells": [
  {
   "cell_type": "markdown",
   "metadata": {},
   "source": [
    "# 【問題1】行列積を手計算する\n",
    "\n",
    "上記セルの１番上のa_ndarray,b_ndarrayの行列積を実施する。\n",
    "\n",
    "\n",
    "[-1,2,3]    [0,2,1] =       [-1×0 + 2×0 + 3×2, -1×2 + 2×2 + 3×9, -1×1 + 2×-8 + 3×-1]<br>\n",
    "[4,-5,6]   [0,2,-8] =     [4×0 + -5×0 + 6×2, 4×2 + -5×2 + 6×9, 4×1 + -5×-8 + 6×-1] <br>\n",
    "[7,8,-9]    [2,9,-1] =      [7×0 + 8×0 + -9×2, 7×2 + 8×2 + -9×9, 7×1 + 8×8 + -9×-1]<br>\n",
    "\n",
    "答え：<br>\n",
    "[6, 29, -20]<br>\n",
    "[12, 52, 38]<br>\n",
    "[-18,-51,-48]<br>\n",
    "\n",
    "後述：\n",
    "基本的には左の行列は→、右の行列は↓の方向に進み、計算を行う。\n"
   ]
  },
  {
   "cell_type": "markdown",
   "metadata": {},
   "source": [
    "# 【問題2】NumPyの関数による計算\n",
    "この行列積はNumPyのnp.matmul()やnp.dot()、または@演算子を使うことで簡単に計算できます。\n",
    "\n",
    "\n",
    "これらを使い行列積を計算してください。\n",
    "\n",
    "\n",
    "numpy.matmul — NumPy v1.16 Manual\n",
    "\n",
    "\n",
    "numpy.dot — NumPy v1.16 Manual\n",
    "\n",
    "\n",
    "《3種類の違い》\n",
    "\n",
    "\n",
    "np.matmul()とnp.dot()は3次元以上の配列で挙動が変わります。@演算子はnp.matmul()と同じ働きをします。\n",
    "\n",
    "\n"
   ]
  },
  {
   "cell_type": "code",
   "execution_count": 94,
   "metadata": {
    "scrolled": false
   },
   "outputs": [
    {
     "data": {
      "text/plain": [
       "array([[  0,   4,   3],\n",
       "       [  0, -10, -48],\n",
       "       [ 14,  72,   9]])"
      ]
     },
     "execution_count": 94,
     "metadata": {},
     "output_type": "execute_result"
    }
   ],
   "source": [
    "#メモ\n",
    "import numpy as np\n",
    "a_ndarray = np.array([[-1, 2, 3], [4, -5, 6], [7, 8, -9]])\n",
    "b_ndarray = np.array([[0, 2, 1], [0, 2, -8], [2, 9, -1]])\n",
    "\n",
    "#アダマール積\n",
    "a_ndarray * b_ndarray"
   ]
  },
  {
   "cell_type": "code",
   "execution_count": 95,
   "metadata": {},
   "outputs": [
    {
     "name": "stdout",
     "output_type": "stream",
     "text": [
      "[[  0   4   3]\n",
      " [  0 -10 -48]\n",
      " [ 14  72   9]]\n"
     ]
    },
    {
     "data": {
      "text/plain": [
       "array([[  6,  29, -20],\n",
       "       [ 12,  52,  38],\n",
       "       [-18, -51, -48]])"
      ]
     },
     "execution_count": 95,
     "metadata": {},
     "output_type": "execute_result"
    }
   ],
   "source": [
    "'''\n",
    "# matrixを使った行列計算\n",
    "a_ndarray = np.matrix([[-1, 2, 3], [4, -5, 6], [7, 8, -9]])\n",
    "b_ndarray = np.matrix([[0, 2, 1], [0, 2, -8], [2, 9, -1]])\n",
    "'''\n",
    "\n",
    "# 行列積\n",
    "print(a_ndarray * b_ndarray)\n",
    "\n",
    "# 行列積（matmul）\n",
    "np.matmul(a_ndarray, b_ndarray)"
   ]
  },
  {
   "cell_type": "markdown",
   "metadata": {},
   "source": [
    "# 行列Aの(0,0)の要素 \n",
    "a0,0\n",
    " と行列Bの(0,0)の要素 \n",
    "b\n",
    "0\n",
    ",\n",
    "0\n",
    " を掛け合わせる\n",
    "行列Aの(0,1)の要素 \n",
    "a\n",
    "0\n",
    ",\n",
    "1\n",
    " と行列Bの(1,0)の要素 \n",
    "b\n",
    "1\n",
    ",\n",
    "0\n",
    " を掛け合わせる\n",
    "行列Aの(0,2)の要素 \n",
    "a\n",
    "0\n",
    ",\n",
    "2\n",
    " と行列Bの(2,0)の要素 \n",
    "b\n",
    "2\n",
    ",\n",
    "0\n",
    " を掛け合わせる\n",
    "それらの値をすべて足し合わせる\n",
    "\n",
    "数式で表すと\n",
    "\n",
    "$$\n",
    " Σ_{k=0} ^ {2} a_{0,k}b_{k,0}\n",
    "$$\n",
    "です。\n",
    "\n",
    "\n",
    "この計算をnp.matmul()やnp.dot()、または@演算子を使わずに行うコードを書いてください。\n",
    "\n"
   ]
  },
  {
   "cell_type": "code",
   "execution_count": 96,
   "metadata": {},
   "outputs": [
    {
     "data": {
      "text/plain": [
       "array([[  6,  29, -20],\n",
       "       [ 12,  52,  38],\n",
       "       [-18, -51, -48]])"
      ]
     },
     "execution_count": 96,
     "metadata": {},
     "output_type": "execute_result"
    }
   ],
   "source": [
    "# 問題３\n",
    "# 手計算をする際はまず行列Aの0行目と行列Bの0列目に注目し、以下の計算を行ったかと思います。\n",
    "# この計算をnp.matmul()やnp.dot()、または@演算子を使わずに行うコードを書いてください。\n",
    "\n",
    "\n",
    "#for文を使った要素を出力する計算式\n",
    "list_amount = []\n",
    "for i, j, k in a_ndarray:\n",
    "    for x,y,z in b_ndarray.T:\n",
    "        amount = (i * x + j * y + k * z)\n",
    "        list_amount.append(amount)\n",
    "              \n",
    "np.array(list_amount).reshape(3,3)       \n"
   ]
  },
  {
   "cell_type": "markdown",
   "metadata": {},
   "source": [
    "# 【問題4】行列積を行う関数の作成\n",
    "問題3のコードを拡張し、行列積のスクラッチ実装を完成させてください。行列AとBを引数に受け取り、行列積を返す関数としてください。\n",
    "\n",
    "\n",
    "行列積を計算する場合は、問題3の計算を異なる行や列に対して繰り返していくことになります。\n",
    "\n",
    "\n",
    "計算結果である \n",
    "3\n",
    "×\n",
    "3\n",
    " の行列Cの各要素 \n",
    "$$c_i,_j$$\n",
    " は数式で表すと次のようになります。\n",
    "\n",
    "$$\n",
    "c_i,_j = Σ_{k=0} ^ {2} a_{i,k}b_{k,j}\n",
    "$$\n",
    "\n",
    "for文を使い、ndarrayのインデックスを動かしていくことで、合計9つの要素が計算できます。インデックス \n",
    "i\n",
    " や \n",
    "j\n",
    " を1増やすと、次の行や列に移ることができます。\n",
    "\n"
   ]
  },
  {
   "cell_type": "code",
   "execution_count": 139,
   "metadata": {},
   "outputs": [
    {
     "data": {
      "text/plain": [
       "array([[  6,  29, -20],\n",
       "       [ 12,  52,  38],\n",
       "       [-18, -51, -48]])"
      ]
     },
     "execution_count": 139,
     "metadata": {},
     "output_type": "execute_result"
    }
   ],
   "source": [
    "def matrix_calculation(A, B):\n",
    "    list_amount = []\n",
    "    for i, j, k in A:\n",
    "        for x,y,z in B.T:\n",
    "            amount = (i * x + j * y + k * z)\n",
    "            list_amount.append(amount)\n",
    "    ndarray_list_amount = np.array(list_amount).reshape(3,3)\n",
    "    return ndarray_list_amount\n",
    "\n",
    "ndarray_list_amount = matrix_calculation(a_ndarray, b_ndarray)\n",
    "ndarray_list_amount"
   ]
  },
  {
   "cell_type": "markdown",
   "metadata": {},
   "source": [
    "# 【問題5】計算が定義されない入力を判定する\n",
    "問題4で作成した関数は、実装方法によってはこのDとEの配列を入力しても動いてしまう可能性があります。この場合、不適切な計算が行われることになります。また、途中でエラーになる場合でも、なぜエラーになったかが直接的には分かりづらいメッセージが表示されます。\n",
    "\n",
    "\n",
    "if文などによってこれを防ぎ、入力される形に問題があることをprint()を使い表示するコードを書き加えてください。\n",
    "\n"
   ]
  },
  {
   "cell_type": "code",
   "execution_count": 143,
   "metadata": {},
   "outputs": [
    {
     "name": "stdout",
     "output_type": "stream",
     "text": [
      "配列が正しくないため、計算できません\n"
     ]
    }
   ],
   "source": [
    "d_ndarray = np.array([[-1, 2, 3], [4, -5, 6]])\n",
    "e_ndarray = np.array([[-9, 8, 7], [6, -5, 4]])\n",
    "\n",
    "# 問題4にエラー検知を加えた関数\n",
    "def matrix_calculation(A, B):\n",
    "    if len(A[0,:]) == len(B[:,0]):\n",
    "        list_amount = []\n",
    "        for i, j, k in A:\n",
    "            for x,y,z in B.T:\n",
    "                amount = (i * x + j * y + k * z)\n",
    "                list_amount.append(amount)\n",
    "        ndarray_list_amount = np.array(list_amount).reshape(3,3)\n",
    "        return ndarray_list_amount\n",
    "    else:\n",
    "        print(\"配列が正しくないため、計算できません\")\n",
    "\n",
    "matrix_calculation(d_ndarray, e_ndarray)"
   ]
  },
  {
   "cell_type": "markdown",
   "metadata": {},
   "source": [
    "# 【問題6】転置\n",
    "片方の行列を転置することで、行列積が計算できるようになります。\n",
    "\n",
    "\n",
    "np.transpose()や.Tアトリビュートを用いて転置し、行列積を計算してください。\n",
    "\n",
    "\n",
    "numpy.transpose — NumPy v1.16 Manual\n",
    "\n",
    "\n",
    "numpy.ndarray.T — NumPy v1.16 Manual"
   ]
  },
  {
   "cell_type": "code",
   "execution_count": 47,
   "metadata": {},
   "outputs": [
    {
     "data": {
      "text/plain": [
       "array([[ 46,  -4],\n",
       "       [-34,  73]])"
      ]
     },
     "execution_count": 47,
     "metadata": {},
     "output_type": "execute_result"
    }
   ],
   "source": [
    "d_ndarray = np.array([[-1, 2, 3], [4, -5, 6]])\n",
    "e_ndarray = np.array([[-9, 8, 7], [6, -5, 4]])\n",
    "new_e_ndarray = e_ndarray.T\n",
    "\n",
    "np.matmul(d_ndarray,new_e_ndarray)"
   ]
  }
 ],
 "metadata": {
  "kernelspec": {
   "display_name": "Python 3",
   "language": "python",
   "name": "python3"
  },
  "language_info": {
   "codemirror_mode": {
    "name": "ipython",
    "version": 3
   },
   "file_extension": ".py",
   "mimetype": "text/x-python",
   "name": "python",
   "nbconvert_exporter": "python",
   "pygments_lexer": "ipython3",
   "version": "3.8.3"
  }
 },
 "nbformat": 4,
 "nbformat_minor": 4
}
