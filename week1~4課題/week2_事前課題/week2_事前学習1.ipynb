{
 "cells": [
  {
   "cell_type": "code",
   "execution_count": 189,
   "metadata": {},
   "outputs": [
    {
     "name": "stdout",
     "output_type": "stream",
     "text": [
      "4マスの板に小麦を並べる（リスト）：[1, 2, 4, 8]\n",
      "4マスの板に小麦を並べる（ndarray）：[1 2 4 8]\n"
     ]
    },
    {
     "data": {
      "text/plain": [
       "array([[1, 2],\n",
       "       [4, 8]])"
      ]
     },
     "execution_count": 189,
     "metadata": {},
     "output_type": "execute_result"
    }
   ],
   "source": [
    "# 問題１ サンプルコードを変形する\n",
    "# 2×2マスのチェス盤をndarrayによって表現し、各マスの小麦の数を計算してください。\n",
    "#左上のマスに小麦を1つ置いた後、その右が2つ、左下が4つ、右下が8つという風に進みます。\n",
    "#サンプルコードで作成したndarrayのshapeの変形を行ってください。\n",
    "\n",
    "n_squares = 4\n",
    "small_board_list = [1]\n",
    "for _ in range(n_squares - 1): \n",
    "    small_board_list.append(2*small_board_list[-1])\n",
    "print(\"4マスの板に小麦を並べる（リスト）：{}\".format(small_board_list))\n",
    "\n",
    "import numpy as np\n",
    "small_board_ndarray = np.array(small_board_list)\n",
    "print(\"4マスの板に小麦を並べる（ndarray）：{}\".format(small_board_ndarray))\n",
    "\n",
    "# 問題1 サンプルコードを変形する\n",
    "small_board_ndarray = np.array(small_board_list)\n",
    "small_board_ndarray.reshape(2,2)"
   ]
  },
  {
   "cell_type": "code",
   "execution_count": 200,
   "metadata": {},
   "outputs": [
    {
     "data": {
      "text/plain": [
       "array([[1.00000000e+00, 2.00000000e+00, 4.00000000e+00, 8.00000000e+00,\n",
       "        1.60000000e+01, 3.20000000e+01, 6.40000000e+01, 1.28000000e+02],\n",
       "       [2.56000000e+02, 5.12000000e+02, 1.02400000e+03, 2.04800000e+03,\n",
       "        4.09600000e+03, 8.19200000e+03, 1.63840000e+04, 3.27680000e+04],\n",
       "       [6.55360000e+04, 1.31072000e+05, 2.62144000e+05, 5.24288000e+05,\n",
       "        1.04857600e+06, 2.09715200e+06, 4.19430400e+06, 8.38860800e+06],\n",
       "       [1.67772160e+07, 3.35544320e+07, 6.71088640e+07, 1.34217728e+08,\n",
       "        2.68435456e+08, 5.36870912e+08, 1.07374182e+09, 2.14748365e+09],\n",
       "       [4.29496730e+09, 8.58993459e+09, 1.71798692e+10, 3.43597384e+10,\n",
       "        6.87194767e+10, 1.37438953e+11, 2.74877907e+11, 5.49755814e+11],\n",
       "       [1.09951163e+12, 2.19902326e+12, 4.39804651e+12, 8.79609302e+12,\n",
       "        1.75921860e+13, 3.51843721e+13, 7.03687442e+13, 1.40737488e+14],\n",
       "       [2.81474977e+14, 5.62949953e+14, 1.12589991e+15, 2.25179981e+15,\n",
       "        4.50359963e+15, 9.00719925e+15, 1.80143985e+16, 3.60287970e+16],\n",
       "       [7.20575940e+16, 1.44115188e+17, 2.88230376e+17, 5.76460752e+17,\n",
       "        1.15292150e+18, 2.30584301e+18, 4.61168602e+18, 9.22337204e+18]])"
      ]
     },
     "execution_count": 200,
     "metadata": {},
     "output_type": "execute_result"
    }
   ],
   "source": [
    "#問題2\n",
    "#n×mマスのチェス盤の小麦の数を記したndarrayを返す関数を作成してください。\n",
    "#そして、この関数を使い8×8マスのチェス盤の小麦の数を求めてください。\n",
    "import numpy as np\n",
    "\n",
    "def  chess(n, m):\n",
    "    n_squares = n * m\n",
    "    small_board_list = [1]\n",
    "    for _ in range(n_squares -1):\n",
    "        small_board_list.append(2 * small_board_list[-1])\n",
    "    small_board_ndarray = np.array(small_board_list).reshape(n,m)\n",
    "    return small_board_ndarray\n",
    "\n",
    "small_board_ndarray =chess(8,8)\n",
    "small_board_ndarray"
   ]
  },
  {
   "cell_type": "code",
   "execution_count": 105,
   "metadata": {},
   "outputs": [
    {
     "name": "stdout",
     "output_type": "stream",
     "text": [
      "1.8446744073709552e+19\n"
     ]
    },
    {
     "data": {
      "image/png": "[encoded data removed]",
      "text/plain": [
       "<Figure size 432x288 with 1 Axes>"
      ]
     },
     "metadata": {
      "needs_background": "light"
     },
     "output_type": "display_data"
    }
   ],
   "source": [
    "# 問題3 \n",
    "# 8×8マスのチェス盤の小麦の数の合計を求めてください。\n",
    "# また、各列の平均を求め、それを棒グラフで可視化してください。\n",
    "\n",
    "#問題2参照\n",
    "def  chess(n, m):\n",
    "    n_squares = n * m\n",
    "    small_board_list = [1]\n",
    "    for _ in range(n_squares -1):\n",
    "        small_board_list.append(2 * small_board_list[-1])\n",
    "    small_board_ndarray = np.array(small_board_list).reshape(n,m)\n",
    "    return small_board_ndarray\n",
    "\n",
    "small_board_ndarray =chess(8,8)\n",
    "\n",
    "# 合計値を所得する\n",
    "print(small_board_ndarray.sum())\n",
    "\n",
    "# 図式化\n",
    "import matplotlib.pyplot as plt\n",
    "%matplotlib inline\n",
    "\n",
    "#図式にするためにリストを用意\n",
    "list_small_board_ndarray = []\n",
    "\n",
    "# 列の合計値を所得し、リストに格納する\n",
    "for num in range(len(small_board_ndarray[0,:])):\n",
    "    small_board_ndarray_sum = small_board_ndarray[:,num].sum()\n",
    "    list_small_board_ndarray.append(small_board_ndarray_sum)\n",
    "                    \n",
    "plt.xlabel(\"column\")\n",
    "plt.ylabel(\"number\")\n",
    "plt.title(\"number in each column\")\n",
    "plt.bar(np.arange(len(small_board_ndarray[0,:])), \n",
    "          np.array((list_small_board_ndarray))) \n",
    "plt.show()"
   ]
  },
  {
   "cell_type": "code",
   "execution_count": 115,
   "metadata": {},
   "outputs": [
    {
     "data": {
      "image/png": "[encoded data removed]",
      "text/plain": [
       "<Figure size 432x288 with 1 Axes>"
      ]
     },
     "metadata": {
      "needs_background": "light"
     },
     "output_type": "display_data"
    }
   ],
   "source": [
    "# 問題4 \n",
    "# 8×8マスのチェス盤の小麦の数をヒートマップとして可視化してください。\n",
    "import numpy\n",
    "plt.xlabel(\"column\")\n",
    "plt.ylabel(\"row\")\n",
    "plt.title(\"heatmap\")\n",
    "plt.pcolor(np.array(small_board_ndarray), \n",
    "           vmin = np.min(small_board_ndarray),\n",
    "           vmax =np.max(small_board_ndarray),\n",
    "           alpha=0.95\n",
    "          )\n",
    "plt.show()"
   ]
  },
  {
   "cell_type": "code",
   "execution_count": 122,
   "metadata": {},
   "outputs": [
    {
     "name": "stdout",
     "output_type": "stream",
     "text": [
      "後半は前半の4294967296.0倍です\n"
     ]
    }
   ],
   "source": [
    "# 問題5\n",
    "# チェス盤の後半にある小麦の数は前半にある小麦の数の何倍かを求めてください。\n",
    "# 前半とは配列の0から3行目、後半は4から7行目です。\n",
    "# 関数の値は問題２から参照\n",
    "\n",
    "before_small_board_ndarray = small_board_ndarray[0:3, :].sum() #前半\n",
    "affter_small_board_ndarray = small_board_ndarray[4:7, :].sum() #後半\n",
    "divide_small_board_ndarray = affter_small_board_ndarray/before_small_board_ndarray\n",
    "\n",
    "print(\"後半は前半の{}倍です\".format(divide_small_board_ndarray))"
   ]
  },
  {
   "cell_type": "code",
   "execution_count": 190,
   "metadata": {},
   "outputs": [
    {
     "data": {
      "text/plain": [
       "array([[1.00000000e+00, 2.00000000e+00, 4.00000000e+00, 8.00000000e+00,\n",
       "        1.60000000e+01, 3.20000000e+01, 6.40000000e+01, 1.28000000e+02],\n",
       "       [2.56000000e+02, 5.12000000e+02, 1.02400000e+03, 2.04800000e+03,\n",
       "        4.09600000e+03, 8.19200000e+03, 1.63840000e+04, 3.27680000e+04],\n",
       "       [6.55360000e+04, 1.31072000e+05, 2.62144000e+05, 5.24288000e+05,\n",
       "        1.04857600e+06, 2.09715200e+06, 4.19430400e+06, 8.38860800e+06],\n",
       "       [1.67772160e+07, 3.35544320e+07, 6.71088640e+07, 1.34217728e+08,\n",
       "        2.68435456e+08, 5.36870912e+08, 1.07374182e+09, 2.14748365e+09],\n",
       "       [4.29496730e+09, 8.58993459e+09, 1.71798692e+10, 3.43597384e+10,\n",
       "        6.87194767e+10, 1.37438953e+11, 2.74877907e+11, 5.49755814e+11],\n",
       "       [1.09951163e+12, 2.19902326e+12, 4.39804651e+12, 8.79609302e+12,\n",
       "        1.75921860e+13, 3.51843721e+13, 7.03687442e+13, 1.40737488e+14],\n",
       "       [2.81474977e+14, 5.62949953e+14, 1.12589991e+15, 2.25179981e+15,\n",
       "        4.50359963e+15, 9.00719925e+15, 1.80143985e+16, 3.60287970e+16],\n",
       "       [7.20575940e+16, 1.44115188e+17, 2.88230376e+17, 5.76460752e+17,\n",
       "        1.15292150e+18, 2.30584301e+18, 4.61168602e+18, 9.22337204e+18]])"
      ]
     },
     "execution_count": 190,
     "metadata": {},
     "output_type": "execute_result"
    }
   ],
   "source": [
    "# 問題6\n",
    "# 問題2と同様の「n×mマスのチェス盤の小麦の数を記したndarrayを返す関数」を、np.append()を使ったものと、ブロードキャストを使ったもので新たに作成してください。\n",
    "\n",
    "#np.appendを使う関数\n",
    "def  chess(n, m):\n",
    "    n_squares = n * m\n",
    "    small_board_list = np.array([1]).astype(np.uint64)\n",
    "    for _ in range(n_squares -1):\n",
    "        small_board_list = np.append(small_board_list, 2*small_board_list[-1])\n",
    "    small_board_ndarray = np.array(small_board_list).reshape(n,m)\n",
    "    return small_board_ndarray\n",
    "\n",
    "small_board_ndarray = chess(8,8)\n",
    "small_board_ndarray\n",
    "\n"
   ]
  },
  {
   "cell_type": "code",
   "execution_count": 195,
   "metadata": {},
   "outputs": [
    {
     "name": "stdout",
     "output_type": "stream",
     "text": [
      "小麦の数は[[                  1                   2                   4\n",
      "                    8                  16                  32\n",
      "                   64                 128]\n",
      " [                256                 512                1024\n",
      "                 2048                4096                8192\n",
      "                16384               32768]\n",
      " [              65536              131072              262144\n",
      "               524288             1048576             2097152\n",
      "              4194304             8388608]\n",
      " [           16777216            33554432            67108864\n",
      "            134217728           268435456           536870912\n",
      "           1073741824          2147483648]\n",
      " [         4294967296          8589934592         17179869184\n",
      "          34359738368         68719476736        137438953472\n",
      "         274877906944        549755813888]\n",
      " [      1099511627776       2199023255552       4398046511104\n",
      "        8796093022208      17592186044416      35184372088832\n",
      "       70368744177664     140737488355328]\n",
      " [    281474976710656     562949953421312    1125899906842624\n",
      "     2251799813685248    4503599627370496    9007199254740992\n",
      "    18014398509481984   36028797018963968]\n",
      " [  72057594037927936  144115188075855872  288230376151711744\n",
      "   576460752303423488 1152921504606846976 2305843009213693952\n",
      "  4611686018427387904 9223372036854775808]]です\n",
      "小麦の形状は(8, 8)です\n"
     ]
    }
   ],
   "source": [
    "# 問題6続き\n",
    "# ブロードキャストを利用して実施する\n",
    "def  chess(n, m):\n",
    "    n_squares = n * m\n",
    "    small_board = np.arange(n * m).astype(np.uint64)\n",
    "    board_ndarray = 2 ** small_board.reshape(8,8)\n",
    "    return board_ndarray\n",
    "\n",
    "board_ndarray = chess(8,8)\n",
    "print(\"小麦の数は{}です\".format(board_ndarray))\n",
    "print(\"小麦の形状は{}です\".format(board_ndarray.shape))"
   ]
  },
  {
   "cell_type": "code",
   "execution_count": 193,
   "metadata": {
    "scrolled": true
   },
   "outputs": [
    {
     "name": "stdout",
     "output_type": "stream",
     "text": [
      "14.7 µs ± 299 ns per loop (mean ± std. dev. of 7 runs, 100000 loops each)\n"
     ]
    }
   ],
   "source": [
    "%%timeit\n",
    "# 問題7\n",
    "#3種類の方法を見てきました。\n",
    "#それぞれの計算時間をJupyter Notebookの%%timeitを用いて計測し、比較と考察を行ってください。\n",
    "import numpy as np\n",
    "\n",
    "#１番最初のfor分の処理速度\n",
    "def  chess(n, m):\n",
    "    n_squares = n * m\n",
    "    small_board_list = [1]\n",
    "    for _ in range(n_squares -1):\n",
    "        small_board_list.append(2 * small_board_list[-1])\n",
    "    small_board_ndarray = np.array(small_board_list).reshape(n,m)\n",
    "    return small_board_ndarray\n",
    "\n",
    "small_board_ndarray =chess(8,8)\n",
    "small_board_ndarray\n"
   ]
  },
  {
   "cell_type": "code",
   "execution_count": 192,
   "metadata": {},
   "outputs": [
    {
     "name": "stdout",
     "output_type": "stream",
     "text": [
      "374 µs ± 11.1 µs per loop (mean ± std. dev. of 7 runs, 1000 loops each)\n"
     ]
    }
   ],
   "source": [
    "%%timeit\n",
    "# 問題7 続き\n",
    "#np.appendを利用したfor分の処理速度\n",
    "def  chess(n, m):\n",
    "    n_squares = n * m\n",
    "    small_board_list = np.array([1]).astype(np.uint64)\n",
    "    for _ in range(n_squares -1):\n",
    "        small_board_list = np.append(small_board_list, 2*small_board_list[-1])\n",
    "    small_board_ndarray = np.array(small_board_list).reshape(n,m)\n",
    "    return small_board_ndarray\n",
    "\n",
    "\n",
    "small_board_ndarray = chess(8,8)\n",
    "small_board_ndarray"
   ]
  },
  {
   "cell_type": "code",
   "execution_count": 198,
   "metadata": {},
   "outputs": [
    {
     "name": "stdout",
     "output_type": "stream",
     "text": [
      "3.38 µs ± 61.5 ns per loop (mean ± std. dev. of 7 runs, 100000 loops each)\n"
     ]
    }
   ],
   "source": [
    "%%timeit\n",
    "# 問題7続き\n",
    "# ブロードキャストを利用した処理速度\n",
    "def  chess(n, m):\n",
    "    n_squares = n * m\n",
    "    small_board = np.arange(n * m).astype(np.uint64)\n",
    "    board_ndarray = 2 ** small_board.reshape(8,8)\n",
    "    return board_ndarray\n",
    "\n",
    "board_ndarray = chess(8,8)\n",
    "board_ndarray\n",
    "\n",
    "'''\n",
    "考察\n",
    "us = 1e-6\n",
    "ns = 1e-9\n",
    "\n",
    "結論から言うと\n",
    "ブロードキャスト＞Pythonリスト＞np.appendで速さが決定\n",
    "\n",
    "各々の速さを早い順に記載すると\n",
    "3.38 µs ± 61.5 ns per loop (mean ± std. dev. of 7 runs, 100000 loops each)\n",
    "14.7 µs ± 299 ns per loop (mean ± std. dev. of 7 runs, 100000 loops each)\n",
    "374 µs ± 11.1 µs per loop (mean ± std. dev. of 7 runs, 1000 loops each)\n",
    "\n",
    "最も処理が早いものは、10倍以上差を広げて圧勝。\n",
    "また、pythonのみで実装したものは、np.appendを利用したものより30倍以上差がある。\n",
    "\n",
    "まずは、ブロードキャストの構成を意識し、不可能であればpythonのappendを利用する。\n",
    "基本的にnp.appendは利用しないほうが良い。\n",
    "\n",
    "'''\n"
   ]
  },
  {
   "cell_type": "code",
   "execution_count": null,
   "metadata": {},
   "outputs": [],
   "source": []
  }
 ],
 "metadata": {
  "kernelspec": {
   "display_name": "Python 3",
   "language": "python",
   "name": "python3"
  },
  "language_info": {
   "codemirror_mode": {
    "name": "ipython",
    "version": 3
   },
   "file_extension": ".py",
   "mimetype": "text/x-python",
   "name": "python",
   "nbconvert_exporter": "python",
   "pygments_lexer": "ipython3",
   "version": "3.8.3"
  }
 },
 "nbformat": 4,
 "nbformat_minor": 4
}
