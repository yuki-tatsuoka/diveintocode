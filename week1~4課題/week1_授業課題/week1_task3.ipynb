{
 "cells": [
  {
   "cell_type": "markdown",
   "metadata": {},
   "source": [
    "# 前提条件\n",
    "漫画ドラえもんには「バイバイン」という道具が登場する、2のn乗に関する有名なエピソード[1]があります。\n",
    "\n",
    "\n",
    "[1] 藤子・Ｆ・不二雄(1979)『ドラえもん（１７）』小学館.\n",
    "\n",
    "\n",
    "「バイバイン」は薬品で、これを振掛けるとその物体は5分ごとに倍に増えるという働きがあります。作中では栗まんじゅうを増やしますが、食べきれなくなったためロケットを使い宇宙に捨てました。\n",
    "\n",
    "\n",
    "ここで度々話題になるのが、栗まんじゅうはその後宇宙でどのように増えていくのかについてです。様々な議論がされていますが、今回は単純に栗まんじゅうの体積がどう増えるかを計算してみましょう。\n",
    "\n"
   ]
  },
  {
   "cell_type": "markdown",
   "metadata": {},
   "source": [
    "# 【問題】栗まんじゅうが太陽系を覆う日\n",
    "1個の栗まんじゅうにバイバインを振りかけた場合、太陽系が栗まんじゅうで覆われるのは何分後でしょうか。これを計算するプログラムを作成してください。\n",
    "\n",
    "\n",
    "栗まんじゅうや太陽系の体積を調査した上で仮定して計算してください。栗まんじゅうの隙間や重力などは考えず、問題を単純化して構いません。\n",
    "\n",
    "\n",
    "ボールにバイバインを振りかけた時、東京ドームが一杯になる時間など他の状況にも適用できるような汎用的なプログラムを作成してください。また、グラフを表示するなど分かりやすいノートブックを作成してください。"
   ]
  },
  {
   "cell_type": "code",
   "execution_count": 112,
   "metadata": {},
   "outputs": [
    {
     "name": "stdout",
     "output_type": "stream",
     "text": [
      "1385分後に宇宙のサイズを超える\n"
     ]
    },
    {
     "data": {
      "image/png": "[encoded data removed]",
      "text/plain": [
       "<Figure size 432x288 with 1 Axes>"
      ]
     },
     "metadata": {
      "needs_background": "light"
     },
     "output_type": "display_data"
    }
   ],
   "source": [
    "import matplotlib.pyplot as plt\n",
    "\n",
    "\"\"\"\n",
    "参考文献\n",
    "https://www.sekkachi.com/entry/bibin_consideration\n",
    "※まんじゅう、宇宙の体積が記載されている。\n",
    "\"\"\"\n",
    "\n",
    "mannzyuu_size = 0.1 * 0.1 * 0.1 # 栗饅頭のサイズ[m^3]\n",
    "universal_size = 3 * 10 ** 80 #宇宙の体積[m^3]\n",
    "time_length = 0\n",
    "list_distance = [mannzyuu_size]\n",
    "\n",
    "#関数に当てはめた距離を時間で算出する関数を作る（for文で分バージョン）\n",
    "def time_cheker(distance, mannzyuu_size):\n",
    "    for time_length in range(10000):\n",
    "        list_distance.append(list_distance[-1]) #分単位なのでこちらを入れる\n",
    "        if time_length % 5 == 0:\n",
    "            list_distance.append(list_distance[-1]*2)\n",
    "            if distance < list_distance[-1]:\n",
    "                return  time_length, list_distance\n",
    "\n",
    "time_length, list_distance = time_cheker(universal_size, mannzyuu_size)\n",
    "print(\"{}分後に宇宙のサイズを超える\".format(time_length))\n",
    "\n",
    "# plot化　分単位なので、少し水平の期間がある\n",
    "plt.title(\"baibai game\")\n",
    "plt.xlabel(\"minutes\")\n",
    "plt.ylabel(\"distance\")\n",
    "plt.plot(list_distance)\n",
    "plt.show()"
   ]
  },
  {
   "cell_type": "code",
   "execution_count": 120,
   "metadata": {},
   "outputs": [
    {
     "name": "stdout",
     "output_type": "stream",
     "text": [
      "24時間後に宇宙のサイズを超える\n"
     ]
    },
    {
     "data": {
      "image/png": "[encoded data removed]",
      "text/plain": [
       "<Figure size 432x288 with 1 Axes>"
      ]
     },
     "metadata": {
      "needs_background": "light"
     },
     "output_type": "display_data"
    }
   ],
   "source": [
    "import matplotlib.pyplot as plt\n",
    "\n",
    "mannzyuu_size = 0.1 * 0.1 * 0.1 # 栗饅頭のサイズ[m^3]\n",
    "universal_size = 3 * 10 ** 80 #宇宙の体積[m^3]\n",
    "\n",
    "#関数に当てはめた距離を時間で算出する関数を作る（for文で時間に変換したバージョン）\n",
    "def time_cheker(distance, mannzyuu_size):\n",
    "    list_distance = [mannzyuu_size]\n",
    "    for time_length in range(1, 1000):\n",
    "        list_distance.append(list_distance[-1]*2**12)\n",
    "        if distance < list_distance[-1]:\n",
    "            return time_length, list_distance\n",
    "        \n",
    "time_length, list_distance = time_cheker(universal_size, mannzyuu_size)\n",
    "print(\"{}時間後に宇宙のサイズを超える\".format(time_length))\n",
    "\n",
    "#図式化_tat\n",
    "plt.title(\"baibai game\")\n",
    "plt.xlabel(\"minutes\")\n",
    "plt.ylabel(\"distance\")\n",
    "plt.plot(list_distance)\n",
    "plt.show()\n"
   ]
  },
  {
   "cell_type": "code",
   "execution_count": null,
   "metadata": {},
   "outputs": [],
   "source": []
  }
 ],
 "metadata": {
  "kernelspec": {
   "display_name": "Python 3",
   "language": "python",
   "name": "python3"
  },
  "language_info": {
   "codemirror_mode": {
    "name": "ipython",
    "version": 3
   },
   "file_extension": ".py",
   "mimetype": "text/x-python",
   "name": "python",
   "nbconvert_exporter": "python",
   "pygments_lexer": "ipython3",
   "version": "3.8.3"
  }
 },
 "nbformat": 4,
 "nbformat_minor": 4
}
