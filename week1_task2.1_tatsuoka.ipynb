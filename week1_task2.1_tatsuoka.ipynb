{
 "cells": [
  {
   "cell_type": "markdown",
   "metadata": {},
   "source": [
    "# 前提条件\n",
    "z「Pythonを使ってみよう」の問題では「1枚の紙を43回折り曲げた時の厚さを計算するプログラム」を作成し、43回折ることで月に届くことが確認できました。\n",
    "\n",
    "\n",
    "ここで「何回折ったらある厚さになるのか」という疑問が生まれます。こういったことを計算するプログラムを作成していきましょう。\n",
    "\n",
    "n回折った紙の厚さ $t_{n}$ は以下のように表せます。\n",
    "\n",
    "t\n",
    "n\n",
    "=\n",
    "t\n",
    "0\n",
    "×\n",
    "2\n",
    "n\n",
    "\n",
    "折る前の紙の厚さ $t_{0}$ は0.00008mとします。一般的なコピー用紙の厚さです。"
   ]
  },
  {
   "cell_type": "markdown",
   "metadata": {},
   "source": [
    "# 【問題1】富士山を超える最小の折る回数\n",
    "厚さが「富士山(3776m)」を超えるのは何回紙を折った時か計算するプログラムを作成してください。"
   ]
  },
  {
   "cell_type": "code",
   "execution_count": 1,
   "metadata": {},
   "outputs": [
    {
     "name": "stdout",
     "output_type": "stream",
     "text": [
      "1回で8e-05m\n",
      "2回で0.00016m\n",
      "3回で0.00032m\n",
      "4回で0.00064m\n",
      "5回で0.00128m\n",
      "6回で0.00256m\n",
      "7回で0.00512m\n",
      "8回で0.01024m\n",
      "9回で0.02048m\n",
      "10回で0.04096m\n",
      "11回で0.08192m\n",
      "12回で0.16384m\n",
      "13回で0.32768m\n",
      "14回で0.65536m\n",
      "15回で1.31072m\n",
      "16回で2.62144m\n",
      "17回で5.24288m\n",
      "18回で10.48576m\n",
      "19回で20.97152m\n",
      "20回で41.94304m\n",
      "21回で83.88608m\n",
      "22回で167.77216m\n",
      "23回で335.54432m\n",
      "24回で671.08864m\n",
      "25回で1342.17728m\n",
      "26回で2684.35456m\n",
      "富士山は27回おると超えます\n"
     ]
    }
   ],
   "source": [
    "THICKNESS = 0.00008\n",
    "fuji_height = 3776\n",
    "folder_thickness = THICKNESS #初期値\n",
    "count = 1\n",
    "\n",
    "#while文で実施してみる\n",
    "while folder_thickness < fuji_height:\n",
    "    print(\"{}回で{}m\".format(count, folder_thickness))\n",
    "    folder_thickness = THICKNESS * 2 ** count\n",
    "    count += 1\n",
    "print(\"富士山は{}回おると超えます\".format(count))"
   ]
  },
  {
   "cell_type": "code",
   "execution_count": 2,
   "metadata": {},
   "outputs": [
    {
     "name": "stdout",
     "output_type": "stream",
     "text": [
      "1回で8e-05m\n",
      "2回で0.00016m\n",
      "3回で0.00032m\n",
      "4回で0.00064m\n",
      "5回で0.00128m\n",
      "6回で0.00256m\n",
      "7回で0.00512m\n",
      "8回で0.01024m\n",
      "9回で0.02048m\n",
      "10回で0.04096m\n",
      "11回で0.08192m\n",
      "12回で0.16384m\n",
      "13回で0.32768m\n",
      "14回で0.65536m\n",
      "15回で1.31072m\n",
      "16回で2.62144m\n",
      "17回で5.24288m\n",
      "18回で10.48576m\n",
      "19回で20.97152m\n",
      "20回で41.94304m\n",
      "21回で83.88608m\n",
      "22回で167.77216m\n",
      "23回で335.54432m\n",
      "24回で671.08864m\n",
      "25回で1342.17728m\n",
      "26回で2684.35456m\n",
      "富士山は27回おると超えます\n"
     ]
    }
   ],
   "source": [
    "#for文でもやってみる。\n",
    "THICKNESS = 0.00008\n",
    "\n",
    "#for文\n",
    "for num in range(100):\n",
    "    folder_thickness = THICKNESS * 2 ** num\n",
    "    num += 1\n",
    "    if folder_thickness < fuji_height:\n",
    "        print(\"{}回で{}m\".format(num, folder_thickness))\n",
    "    elif folder_thickness > fuji_height :\n",
    "        print(\"富士山は{}回おると超えます\".format(num))\n",
    "        break"
   ]
  },
  {
   "cell_type": "markdown",
   "metadata": {},
   "source": [
    "# 【問題2】任意の厚さに対応した関数を作成\n",
    "距離を入力すると、何回折った時に超えるかを出力する関数を作成してください。引数として、折る前の厚さ $t_{0}$ も設定できるようにしましょう。\n",
    "\n",
    "\n",
    "この関数を利用して、「最も近い太陽以外の恒星」に到達するには紙を何回折る必要があるか計算してください。「最も近い太陽以外の恒星」の距離は調査してください。"
   ]
  },
  {
   "cell_type": "code",
   "execution_count": 34,
   "metadata": {},
   "outputs": [
    {
     "name": "stdout",
     "output_type": "stream",
     "text": [
      "1\n",
      "2\n",
      "3\n",
      "4\n",
      "5\n",
      "6\n",
      "7\n",
      "8\n",
      "9\n",
      "10\n",
      "11\n",
      "12\n",
      "13\n",
      "14\n",
      "15\n",
      "16\n",
      "17\n",
      "18\n",
      "19\n",
      "20\n",
      "21\n",
      "22\n",
      "23\n",
      "24\n",
      "25\n",
      "26\n",
      "27\n",
      "28\n",
      "29\n",
      "30\n",
      "31\n",
      "32\n",
      "33\n",
      "34\n",
      "35\n",
      "36\n",
      "37\n",
      "38\n",
      "39\n",
      "40\n",
      "41\n",
      "42\n",
      "43\n",
      "44\n",
      "45\n",
      "46\n",
      "47\n",
      "48\n",
      "49\n",
      "50\n",
      "51\n",
      "52\n",
      "53\n",
      "54\n",
      "55\n",
      "56\n",
      "57\n",
      "58\n",
      "59\n",
      "60\n",
      "61\n",
      "62\n",
      "63\n",
      "64\n",
      "65\n",
      "66\n",
      "67\n",
      "68\n",
      "69\n"
     ]
    }
   ],
   "source": [
    "# 参考文献\n",
    "# １光年：https://www.google.com/search?q=%EF%BC%91%E5%85%89%E5%B9%B4&rlz=1C5CHFA_enJP909JP914&oq=%EF%BC%91%E5%85%89%E5%B9%B4%E3%80%80&aqs=chrome..69i57j0l7.3500j0j7&sourceid=chrome&ie=UTF-8\n",
    "# 最も近い太陽以外の恒星の距離：https://ja.wikipedia.org/wiki/%E6%9C%80%E3%82%82%E8%BF%91%E3%81%84%E3%83%BB%E9%81%A0%E3%81%84%E5%A4%A9%E4%BD%93%E3%81%AE%E4%B8%80%E8%A6%A7\n",
    "\n",
    "#何回折ったら距離に到達するか調べる関数\n",
    "def fold_cheaker(distance):    \n",
    "    THICKNESS = 0.00008\n",
    "    folder_thickness = THICKNESS\n",
    "    distance = 4.243 * 9.461e+15 #今回調べる関数の値(最も近い太陽以外の恒星の距離)\n",
    "    count = 1\n",
    "    \n",
    "    while folder_thickness < distance:\n",
    "        folder_thickness = THICKNESS * 2 ** count \n",
    "        print(count)\n",
    "        count += 1\n",
    "\n",
    "fold_cheaker(distance)\n",
    "\n",
    "#return が使えないから不便。。。"
   ]
  },
  {
   "cell_type": "code",
   "execution_count": 32,
   "metadata": {},
   "outputs": [
    {
     "data": {
      "text/plain": [
       "69"
      ]
     },
     "execution_count": 32,
     "metadata": {},
     "output_type": "execute_result"
    }
   ],
   "source": [
    "#for文でもやってみる。（こっちがシンプル）\n",
    "\n",
    "THICKNESS = 0.00008\n",
    "folder_thickness = THICKNESS\n",
    "distance =  4.243 * 9.461e+15\n",
    "#今回調べる関数の値(最も近い太陽以外の恒星の距離)\n",
    "\n",
    "#何回折ったら距離に到達するか調べる関数\n",
    "def fold_cheaker(distance):\n",
    "    for num in range(1000):\n",
    "        num += 1\n",
    "        folder_thickness = THICKNESS * 2 ** num\n",
    "        if folder_thickness > distance:\n",
    "            return num\n",
    "\n",
    "fold_cheaker(distance)\n",
    "    "
   ]
  },
  {
   "cell_type": "markdown",
   "metadata": {},
   "source": [
    "# 【問題3】必要な紙の長さ\n",
    "実際のところ身近にある紙は43回はおろか10回も折れません。しかし、大きな紙ほどたくさん折ることができ、トイレットペーパーのような長い紙を一方向に折ることを考えた時の折れる回数を求める公式が存在します。\n",
    "\n",
    "\n",
    "厚さ $t_{0}$ の紙をn回折るために必要な紙の長さLは以下の公式で求まります。\n",
    "\n",
    "\n",
    "L\n",
    "=\n",
    "π\n",
    "t\n",
    "0/\n",
    "6\n",
    "(\n",
    "2\n",
    "n\n",
    "+\n",
    "4\n",
    ")\n",
    "(\n",
    "2\n",
    "n\n",
    "−\n",
    "1\n",
    ")\n",
    "\n",
    "この公式を利用して、実際に紙を折り任意の厚さに到達するために必要な紙の長さを求める関数を作成してください。\n",
    "\n",
    "\n",
    "そしてこれを使って「月」「富士山」「最も近い太陽以外の恒星」に届くために必要な紙の長さを求めてください。\n",
    "\n"
   ]
  },
  {
   "cell_type": "code",
   "execution_count": 61,
   "metadata": {},
   "outputs": [
    {
     "name": "stdout",
     "output_type": "stream",
     "text": [
      "富士山は紙を26おり到達するために必要な紙の長さは188646348487.24017m\n",
      "月は紙を43おり到達するために必要な紙の長さは3.240919444170781e+21m\n",
      "最も近い太陽以外の恒星は紙を69おり到達するために必要な紙の長さは188646348487.24017m\n"
     ]
    }
   ],
   "source": [
    "#回数と名前\n",
    "fuji = 26\n",
    "moon = 43\n",
    "nearlest_sum = 69\n",
    "name = (\"富士山\",\"月\",\"最も近い太陽以外の恒星\")\n",
    "\n",
    "import math\n",
    "\n",
    "#紙の長さを判定する関数：\n",
    "def length_cheker(number, THICKNESS=0.00008):\n",
    "    paper_length = ((math.pi * THICKNESS)/6) * (2 ** number + 4) * (2 ** number - 1)\n",
    "    return paper_length\n",
    "\n",
    "paper_length = length_cheker(fuji)\n",
    "print(\"{}は紙を{}おり到達するために必要な紙の長さは{}m\".format(name[0],fuji,paper_length))\n",
    "paper_length = length_cheker(moon)\n",
    "print(\"{}は紙を{}おり到達するために必要な紙の長さは{}m\".format(name[1],moon,paper_length))\n",
    "paper_length = length_cheker(fuji, THICKNESS=0.00008)\n",
    "print(\"{}は紙を{}おり到達するために必要な紙の長さは{}m\".format(name[2],nearlest_sum,paper_length))\n"
   ]
  },
  {
   "cell_type": "code",
   "execution_count": null,
   "metadata": {},
   "outputs": [],
   "source": []
  },
  {
   "cell_type": "code",
   "execution_count": null,
   "metadata": {},
   "outputs": [],
   "source": []
  }
 ],
 "metadata": {
  "kernelspec": {
   "display_name": "Python 3",
   "language": "python",
   "name": "python3"
  },
  "language_info": {
   "codemirror_mode": {
    "name": "ipython",
    "version": 3
   },
   "file_extension": ".py",
   "mimetype": "text/x-python",
   "name": "python",
   "nbconvert_exporter": "python",
   "pygments_lexer": "ipython3",
   "version": "3.8.3"
  }
 },
 "nbformat": 4,
 "nbformat_minor": 4
}
