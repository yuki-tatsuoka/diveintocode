{
 "cells": [
  {
   "cell_type": "code",
   "execution_count": 1,
   "metadata": {},
   "outputs": [],
   "source": [
    "from keras.datasets import mnist\n",
    "import numpy as np\n",
    "import sympy as sym\n",
    "\n",
    "(X_train, y_train), (X_test, y_test) = mnist.load_data()"
   ]
  },
  {
   "cell_type": "code",
   "execution_count": 2,
   "metadata": {},
   "outputs": [
    {
     "data": {
      "text/plain": [
       "((60000, 28, 28), (60000,), (10000, 28, 28), (10000,))"
      ]
     },
     "execution_count": 2,
     "metadata": {},
     "output_type": "execute_result"
    }
   ],
   "source": [
    "#\n",
    "X_train.shape, y_train.shape, X_test.shape, y_test.shape"
   ]
  },
  {
   "cell_type": "code",
   "execution_count": 3,
   "metadata": {},
   "outputs": [
    {
     "name": "stdout",
     "output_type": "stream",
     "text": [
      "(60000, 28, 28)\n",
      "(10000, 28, 28)\n",
      "uint8\n",
      "[[  0   0   0   0   0   0   0   0   0   0   0   0   0   0   0   0   0   0\n",
      "    0   0   0   0   0   0   0   0   0   0]\n",
      " [  0   0   0   0   0   0   0   0   0   0   0   0   0   0   0   0   0   0\n",
      "    0   0   0   0   0   0   0   0   0   0]\n",
      " [  0   0   0   0   0   0   0   0   0   0   0   0   0   0   0   0   0   0\n",
      "    0   0   0   0   0   0   0   0   0   0]\n",
      " [  0   0   0   0   0   0   0   0   0   0   0   0   0   0   0   0   0   0\n",
      "    0   0   0   0   0   0   0   0   0   0]\n",
      " [  0   0   0   0   0   0   0   0   0   0   0   0   0   0   0   0   0   0\n",
      "    0   0   0   0   0   0   0   0   0   0]\n",
      " [  0   0   0   0   0   0   0   0   0   0   0   0   3  18  18  18 126 136\n",
      "  175  26 166 255 247 127   0   0   0   0]\n",
      " [  0   0   0   0   0   0   0   0  30  36  94 154 170 253 253 253 253 253\n",
      "  225 172 253 242 195  64   0   0   0   0]\n",
      " [  0   0   0   0   0   0   0  49 238 253 253 253 253 253 253 253 253 251\n",
      "   93  82  82  56  39   0   0   0   0   0]\n",
      " [  0   0   0   0   0   0   0  18 219 253 253 253 253 253 198 182 247 241\n",
      "    0   0   0   0   0   0   0   0   0   0]\n",
      " [  0   0   0   0   0   0   0   0  80 156 107 253 253 205  11   0  43 154\n",
      "    0   0   0   0   0   0   0   0   0   0]\n",
      " [  0   0   0   0   0   0   0   0   0  14   1 154 253  90   0   0   0   0\n",
      "    0   0   0   0   0   0   0   0   0   0]\n",
      " [  0   0   0   0   0   0   0   0   0   0   0 139 253 190   2   0   0   0\n",
      "    0   0   0   0   0   0   0   0   0   0]\n",
      " [  0   0   0   0   0   0   0   0   0   0   0  11 190 253  70   0   0   0\n",
      "    0   0   0   0   0   0   0   0   0   0]\n",
      " [  0   0   0   0   0   0   0   0   0   0   0   0  35 241 225 160 108   1\n",
      "    0   0   0   0   0   0   0   0   0   0]\n",
      " [  0   0   0   0   0   0   0   0   0   0   0   0   0  81 240 253 253 119\n",
      "   25   0   0   0   0   0   0   0   0   0]\n",
      " [  0   0   0   0   0   0   0   0   0   0   0   0   0   0  45 186 253 253\n",
      "  150  27   0   0   0   0   0   0   0   0]\n",
      " [  0   0   0   0   0   0   0   0   0   0   0   0   0   0   0  16  93 252\n",
      "  253 187   0   0   0   0   0   0   0   0]\n",
      " [  0   0   0   0   0   0   0   0   0   0   0   0   0   0   0   0   0 249\n",
      "  253 249  64   0   0   0   0   0   0   0]\n",
      " [  0   0   0   0   0   0   0   0   0   0   0   0   0   0  46 130 183 253\n",
      "  253 207   2   0   0   0   0   0   0   0]\n",
      " [  0   0   0   0   0   0   0   0   0   0   0   0  39 148 229 253 253 253\n",
      "  250 182   0   0   0   0   0   0   0   0]\n",
      " [  0   0   0   0   0   0   0   0   0   0  24 114 221 253 253 253 253 201\n",
      "   78   0   0   0   0   0   0   0   0   0]\n",
      " [  0   0   0   0   0   0   0   0  23  66 213 253 253 253 253 198  81   2\n",
      "    0   0   0   0   0   0   0   0   0   0]\n",
      " [  0   0   0   0   0   0  18 171 219 253 253 253 253 195  80   9   0   0\n",
      "    0   0   0   0   0   0   0   0   0   0]\n",
      " [  0   0   0   0  55 172 226 253 253 253 253 244 133  11   0   0   0   0\n",
      "    0   0   0   0   0   0   0   0   0   0]\n",
      " [  0   0   0   0 136 253 253 253 212 135 132  16   0   0   0   0   0   0\n",
      "    0   0   0   0   0   0   0   0   0   0]\n",
      " [  0   0   0   0   0   0   0   0   0   0   0   0   0   0   0   0   0   0\n",
      "    0   0   0   0   0   0   0   0   0   0]\n",
      " [  0   0   0   0   0   0   0   0   0   0   0   0   0   0   0   0   0   0\n",
      "    0   0   0   0   0   0   0   0   0   0]\n",
      " [  0   0   0   0   0   0   0   0   0   0   0   0   0   0   0   0   0   0\n",
      "    0   0   0   0   0   0   0   0   0   0]]\n"
     ]
    }
   ],
   "source": [
    "print(X_train.shape) # (60000, 28, 28)\n",
    "print(X_test.shape) # (10000, 28, 28)\n",
    "print(X_train[0].dtype) # uint8\n",
    "print(X_train[0])"
   ]
  },
  {
   "cell_type": "code",
   "execution_count": 4,
   "metadata": {},
   "outputs": [
    {
     "data": {
      "text/plain": [
       "((60000, 784), (10000, 784))"
      ]
     },
     "execution_count": 4,
     "metadata": {},
     "output_type": "execute_result"
    }
   ],
   "source": [
    "# 平滑化\n",
    "X_train = X_train.reshape(-1, 784)\n",
    "X_test = X_test.reshape(-1, 784)\n",
    "X_train.shape, X_test.shape"
   ]
  },
  {
   "cell_type": "code",
   "execution_count": 5,
   "metadata": {},
   "outputs": [
    {
     "data": {
      "image/png": "[encoded data removed]",
      "text/plain": [
       "<Figure size 432x288 with 1 Axes>"
      ]
     },
     "metadata": {
      "needs_background": "light"
     },
     "output_type": "display_data"
    }
   ],
   "source": [
    "import matplotlib.pyplot as plt\n",
    "%matplotlib inline\n",
    "index = 1\n",
    "image = X_train[index].reshape(28,28)\n",
    "# X_train[index]: (784,)\n",
    "# image: (28, 28)\n",
    "plt.imshow(image, 'gray')\n",
    "plt.title('label : {}'.format(y_train[index]))\n",
    "plt.show()"
   ]
  },
  {
   "cell_type": "code",
   "execution_count": 6,
   "metadata": {},
   "outputs": [
    {
     "data": {
      "image/png": "[encoded data removed]",
      "text/plain": [
       "<Figure size 432x288 with 1 Axes>"
      ]
     },
     "metadata": {
      "needs_background": "light"
     },
     "output_type": "display_data"
    },
    {
     "name": "stdout",
     "output_type": "stream",
     "text": [
      "[[-105.35 -105.35 -105.35 -105.35 -105.35 -105.35 -105.35 -105.35 -105.35\n",
      "  -105.35 -105.35 -105.35 -105.35 -105.35 -105.35 -105.35 -105.35 -105.35\n",
      "  -105.35 -105.35 -105.35 -105.35 -105.35 -105.35 -105.35 -105.35 -105.35\n",
      "  -105.35]\n",
      " [-105.35 -105.35 -105.35 -105.35 -105.35 -105.35 -105.35 -105.35 -105.35\n",
      "  -105.35 -105.35 -105.35 -105.35 -105.35 -105.35 -105.35 -105.35 -105.35\n",
      "  -105.35 -105.35 -105.35 -105.35 -105.35 -105.35 -105.35 -105.35 -105.35\n",
      "  -105.35]\n",
      " [-105.35 -105.35 -105.35 -105.35 -105.35 -105.35 -105.35 -105.35 -105.35\n",
      "  -105.35 -105.35 -105.35 -105.35 -105.35 -105.35 -105.35 -105.35 -105.35\n",
      "  -105.35 -105.35 -105.35 -105.35 -105.35 -105.35 -105.35 -105.35 -105.35\n",
      "  -105.35]\n",
      " [-105.35 -105.35 -105.35 -105.35 -105.35 -105.35 -105.35 -105.35 -105.35\n",
      "  -105.35 -105.35 -105.35 -105.35 -105.35 -105.35 -105.35 -105.35 -105.35\n",
      "  -105.35 -105.35 -105.35 -105.35 -105.35 -105.35 -105.35 -105.35 -105.35\n",
      "  -105.35]\n",
      " [-105.35 -105.35 -105.35 -105.35 -105.35 -105.35 -105.35 -105.35 -105.35\n",
      "  -105.35 -105.35 -105.35 -105.35 -105.35 -105.35 -105.35 -105.35 -105.35\n",
      "  -105.35 -105.35 -105.35 -105.35 -105.35 -105.35 -105.35 -105.35 -105.35\n",
      "  -105.35]\n",
      " [-105.35 -105.35 -105.35 -105.35 -105.35 -105.35 -105.35 -105.35 -105.35\n",
      "  -105.35 -105.35 -105.35 -102.35  -87.35  -87.35  -87.35   20.65   30.65\n",
      "    69.65  -79.35   60.65  149.65  141.65   21.65 -105.35 -105.35 -105.35\n",
      "  -105.35]\n",
      " [-105.35 -105.35 -105.35 -105.35 -105.35 -105.35 -105.35 -105.35  -75.35\n",
      "   -69.35  -11.35   48.65   64.65  147.65  147.65  147.65  147.65  147.65\n",
      "   119.65   66.65  147.65  136.65   89.65  -41.35 -105.35 -105.35 -105.35\n",
      "  -105.35]\n",
      " [-105.35 -105.35 -105.35 -105.35 -105.35 -105.35 -105.35  -56.35  132.65\n",
      "   147.65  147.65  147.65  147.65  147.65  147.65  147.65  147.65  145.65\n",
      "   -12.35  -23.35  -23.35  -49.35  -66.35 -105.35 -105.35 -105.35 -105.35\n",
      "  -105.35]\n",
      " [-105.35 -105.35 -105.35 -105.35 -105.35 -105.35 -105.35  -87.35  113.65\n",
      "   147.65  147.65  147.65  147.65  147.65   92.65   76.65  141.65  135.65\n",
      "  -105.35 -105.35 -105.35 -105.35 -105.35 -105.35 -105.35 -105.35 -105.35\n",
      "  -105.35]\n",
      " [-105.35 -105.35 -105.35 -105.35 -105.35 -105.35 -105.35 -105.35  -25.35\n",
      "    50.65    1.65  147.65  147.65   99.65  -94.35 -105.35  -62.35   48.65\n",
      "  -105.35 -105.35 -105.35 -105.35 -105.35 -105.35 -105.35 -105.35 -105.35\n",
      "  -105.35]\n",
      " [-105.35 -105.35 -105.35 -105.35 -105.35 -105.35 -105.35 -105.35 -105.35\n",
      "   -91.35 -104.35   48.65  147.65  -15.35 -105.35 -105.35 -105.35 -105.35\n",
      "  -105.35 -105.35 -105.35 -105.35 -105.35 -105.35 -105.35 -105.35 -105.35\n",
      "  -105.35]\n",
      " [-105.35 -105.35 -105.35 -105.35 -105.35 -105.35 -105.35 -105.35 -105.35\n",
      "  -105.35 -105.35   33.65  147.65   84.65 -103.35 -105.35 -105.35 -105.35\n",
      "  -105.35 -105.35 -105.35 -105.35 -105.35 -105.35 -105.35 -105.35 -105.35\n",
      "  -105.35]\n",
      " [-105.35 -105.35 -105.35 -105.35 -105.35 -105.35 -105.35 -105.35 -105.35\n",
      "  -105.35 -105.35  -94.35   84.65  147.65  -35.35 -105.35 -105.35 -105.35\n",
      "  -105.35 -105.35 -105.35 -105.35 -105.35 -105.35 -105.35 -105.35 -105.35\n",
      "  -105.35]\n",
      " [-105.35 -105.35 -105.35 -105.35 -105.35 -105.35 -105.35 -105.35 -105.35\n",
      "  -105.35 -105.35 -105.35  -70.35  135.65  119.65   54.65    2.65 -104.35\n",
      "  -105.35 -105.35 -105.35 -105.35 -105.35 -105.35 -105.35 -105.35 -105.35\n",
      "  -105.35]\n",
      " [-105.35 -105.35 -105.35 -105.35 -105.35 -105.35 -105.35 -105.35 -105.35\n",
      "  -105.35 -105.35 -105.35 -105.35  -24.35  134.65  147.65  147.65   13.65\n",
      "   -80.35 -105.35 -105.35 -105.35 -105.35 -105.35 -105.35 -105.35 -105.35\n",
      "  -105.35]\n",
      " [-105.35 -105.35 -105.35 -105.35 -105.35 -105.35 -105.35 -105.35 -105.35\n",
      "  -105.35 -105.35 -105.35 -105.35 -105.35  -60.35   80.65  147.65  147.65\n",
      "    44.65  -78.35 -105.35 -105.35 -105.35 -105.35 -105.35 -105.35 -105.35\n",
      "  -105.35]\n",
      " [-105.35 -105.35 -105.35 -105.35 -105.35 -105.35 -105.35 -105.35 -105.35\n",
      "  -105.35 -105.35 -105.35 -105.35 -105.35 -105.35  -89.35  -12.35  146.65\n",
      "   147.65   81.65 -105.35 -105.35 -105.35 -105.35 -105.35 -105.35 -105.35\n",
      "  -105.35]\n",
      " [-105.35 -105.35 -105.35 -105.35 -105.35 -105.35 -105.35 -105.35 -105.35\n",
      "  -105.35 -105.35 -105.35 -105.35 -105.35 -105.35 -105.35 -105.35  143.65\n",
      "   147.65  143.65  -41.35 -105.35 -105.35 -105.35 -105.35 -105.35 -105.35\n",
      "  -105.35]\n",
      " [-105.35 -105.35 -105.35 -105.35 -105.35 -105.35 -105.35 -105.35 -105.35\n",
      "  -105.35 -105.35 -105.35 -105.35 -105.35  -59.35   24.65   77.65  147.65\n",
      "   147.65  101.65 -103.35 -105.35 -105.35 -105.35 -105.35 -105.35 -105.35\n",
      "  -105.35]\n",
      " [-105.35 -105.35 -105.35 -105.35 -105.35 -105.35 -105.35 -105.35 -105.35\n",
      "  -105.35 -105.35 -105.35  -66.35   42.65  123.65  147.65  147.65  147.65\n",
      "   144.65   76.65 -105.35 -105.35 -105.35 -105.35 -105.35 -105.35 -105.35\n",
      "  -105.35]\n",
      " [-105.35 -105.35 -105.35 -105.35 -105.35 -105.35 -105.35 -105.35 -105.35\n",
      "  -105.35  -81.35    8.65  115.65  147.65  147.65  147.65  147.65   95.65\n",
      "   -27.35 -105.35 -105.35 -105.35 -105.35 -105.35 -105.35 -105.35 -105.35\n",
      "  -105.35]\n",
      " [-105.35 -105.35 -105.35 -105.35 -105.35 -105.35 -105.35 -105.35  -82.35\n",
      "   -39.35  107.65  147.65  147.65  147.65  147.65   92.65  -24.35 -103.35\n",
      "  -105.35 -105.35 -105.35 -105.35 -105.35 -105.35 -105.35 -105.35 -105.35\n",
      "  -105.35]\n",
      " [-105.35 -105.35 -105.35 -105.35 -105.35 -105.35  -87.35   65.65  113.65\n",
      "   147.65  147.65  147.65  147.65   89.65  -25.35  -96.35 -105.35 -105.35\n",
      "  -105.35 -105.35 -105.35 -105.35 -105.35 -105.35 -105.35 -105.35 -105.35\n",
      "  -105.35]\n",
      " [-105.35 -105.35 -105.35 -105.35  -50.35   66.65  120.65  147.65  147.65\n",
      "   147.65  147.65  138.65   27.65  -94.35 -105.35 -105.35 -105.35 -105.35\n",
      "  -105.35 -105.35 -105.35 -105.35 -105.35 -105.35 -105.35 -105.35 -105.35\n",
      "  -105.35]\n",
      " [-105.35 -105.35 -105.35 -105.35   30.65  147.65  147.65  147.65  106.65\n",
      "    29.65   26.65  -89.35 -105.35 -105.35 -105.35 -105.35 -105.35 -105.35\n",
      "  -105.35 -105.35 -105.35 -105.35 -105.35 -105.35 -105.35 -105.35 -105.35\n",
      "  -105.35]\n",
      " [-105.35 -105.35 -105.35 -105.35 -105.35 -105.35 -105.35 -105.35 -105.35\n",
      "  -105.35 -105.35 -105.35 -105.35 -105.35 -105.35 -105.35 -105.35 -105.35\n",
      "  -105.35 -105.35 -105.35 -105.35 -105.35 -105.35 -105.35 -105.35 -105.35\n",
      "  -105.35]\n",
      " [-105.35 -105.35 -105.35 -105.35 -105.35 -105.35 -105.35 -105.35 -105.35\n",
      "  -105.35 -105.35 -105.35 -105.35 -105.35 -105.35 -105.35 -105.35 -105.35\n",
      "  -105.35 -105.35 -105.35 -105.35 -105.35 -105.35 -105.35 -105.35 -105.35\n",
      "  -105.35]\n",
      " [-105.35 -105.35 -105.35 -105.35 -105.35 -105.35 -105.35 -105.35 -105.35\n",
      "  -105.35 -105.35 -105.35 -105.35 -105.35 -105.35 -105.35 -105.35 -105.35\n",
      "  -105.35 -105.35 -105.35 -105.35 -105.35 -105.35 -105.35 -105.35 -105.35\n",
      "  -105.35]]\n"
     ]
    }
   ],
   "source": [
    "index = 0\n",
    "image = X_train[index].reshape(28,28)\n",
    "image = image.astype(np.float) # float型に変換\n",
    "image -= 105.35 # 意図的に負の小数値を作り出してみる\n",
    "plt.imshow(image, 'gray')\n",
    "plt.title('label : {}'.format(y_train[index]))\n",
    "plt.show()\n",
    "print(image) # 値を確認\n",
    "\n",
    "# plt.imshowには自動的に0~255に変換してくれてる（そもそもuintなのでそのままだとエラー）"
   ]
  },
  {
   "cell_type": "code",
   "execution_count": 7,
   "metadata": {},
   "outputs": [
    {
     "data": {
      "image/png": "[encoded data removed]",
      "text/plain": [
       "<Figure size 432x288 with 1 Axes>"
      ]
     },
     "metadata": {
      "needs_background": "light"
     },
     "output_type": "display_data"
    },
    {
     "data": {
      "image/png": "[encoded data removed]",
      "text/plain": [
       "<Figure size 432x288 with 1 Axes>"
      ]
     },
     "metadata": {
      "needs_background": "light"
     },
     "output_type": "display_data"
    }
   ],
   "source": [
    "# 何故？\n",
    "plt.imshow(image, 'gray', vmin = 0, vmax = 255)\n",
    "plt.show()\n",
    "\n",
    "# 元々マイナスの数字なので、範囲が-105~145だが\n",
    "#0~255にするので、色の情報を失っている可能性あり\n",
    "\n",
    "\n",
    "plt.imshow(image, 'gray', vmin = -105, vmax = 150)\n",
    "plt.show()"
   ]
  },
  {
   "cell_type": "code",
   "execution_count": 8,
   "metadata": {},
   "outputs": [
    {
     "name": "stdout",
     "output_type": "stream",
     "text": [
      "1.0\n",
      "0.0\n"
     ]
    }
   ],
   "source": [
    "# 前処理\n",
    "# DLでは0~1しか扱わないので画像データmaxの255でデータを割る\n",
    "X_train = X_train.astype(np.float)\n",
    "X_test = X_test.astype(np.float)\n",
    "\n",
    "X_train /= 255\n",
    "X_test /= 255\n",
    "print(X_train.max()) # 1.0\n",
    "print(X_train.min()) # 0.0"
   ]
  },
  {
   "cell_type": "code",
   "execution_count": 9,
   "metadata": {},
   "outputs": [
    {
     "name": "stdout",
     "output_type": "stream",
     "text": [
      "(60000,)\n",
      "(60000, 10)\n",
      "float64\n"
     ]
    }
   ],
   "source": [
    "# one-hot変換\n",
    "from sklearn.preprocessing import OneHotEncoder\n",
    "\n",
    "enc = OneHotEncoder(handle_unknown='ignore', sparse=False)\n",
    "y_train_one_hot = enc.fit_transform(y_train[:, np.newaxis])\n",
    "y_test_one_hot = enc.transform(y_test[:, np.newaxis])\n",
    "print(y_train.shape) # (60000,)\n",
    "print(y_train_one_hot.shape) # (60000, 10)\n",
    "print(y_train_one_hot.dtype) # float64"
   ]
  },
  {
   "cell_type": "code",
   "execution_count": 10,
   "metadata": {},
   "outputs": [
    {
     "name": "stdout",
     "output_type": "stream",
     "text": [
      "(48000, 784)\n",
      "(12000, 784)\n"
     ]
    }
   ],
   "source": [
    "from sklearn.model_selection import train_test_split\n",
    "X_train, X_val, y_train, y_val = train_test_split(X_train, y_train, test_size=0.2)\n",
    "print(X_train.shape) # (48000, 784)\n",
    "print(X_val.shape) # (12000, 784)"
   ]
  },
  {
   "cell_type": "code",
   "execution_count": 11,
   "metadata": {},
   "outputs": [],
   "source": [
    "# ３層のネットワークをここで作る\n",
    "class ScratchSimpleNeuralNetrowkClassifier():\n",
    "    \"\"\"\n",
    "    シンプルな三層ニューラルネットワーク分類器\n",
    "    Parameters\n",
    "    ----------\n",
    "    Attributes\n",
    "    ----------\n",
    "    \"\"\"\n",
    "    def __init__(self, verbose = True):\n",
    "        self.verbose = verbose\n",
    "        pass\n",
    "    def fit(self, X, y, X_val=None, y_val=None):\n",
    "        \"\"\"\n",
    "        ニューラルネットワーク分類器を学習する。\n",
    "        Parameters\n",
    "        ----------\n",
    "        X : 次の形のndarray, shape (n_samples, n_features)\n",
    "            訓練データの特徴量\n",
    "        y : 次の形のndarray, shape (n_samples, )\n",
    "            訓練データの正解値\n",
    "        X_val : 次の形のndarray, shape (n_samples, n_features)\n",
    "            検証データの特徴量\n",
    "        y_val : 次の形のndarray, shape (n_samples, )\n",
    "            検証データの正解値\n",
    "        \"\"\"\n",
    "        if self.verbose:\n",
    "            #verboseをTrueにした際は学習過程などを出力する\n",
    "            print()\n",
    "        pass\n",
    "    def predict(self, X):\n",
    "        \"\"\"\n",
    "        ニューラルネットワーク分類器を使い推定する。\n",
    "        Parameters\n",
    "        ----------\n",
    "        X : 次の形のndarray, shape (n_samples, n_features)\n",
    "            サンプル\n",
    "        Returns\n",
    "        -------\n",
    "            次の形のndarray, shape (n_samples, 1)\n",
    "            推定結果\n",
    "        \"\"\"\n",
    "        pass\n",
    "        return"
   ]
  },
  {
   "cell_type": "code",
   "execution_count": 12,
   "metadata": {},
   "outputs": [],
   "source": [
    "# ミニバッチ\n",
    "class GetMiniBatch:\n",
    "    \"\"\"\n",
    "    ミニバッチを取得するイテレータ\n",
    "    Parameters\n",
    "    ----------\n",
    "    X : 次の形のndarray, shape (n_samples, n_features)\n",
    "      訓練データ\n",
    "    y : 次の形のndarray, shape (n_samples, 1)\n",
    "      正解値\n",
    "    batch_size : int\n",
    "      バッチサイズ\n",
    "    seed : int\n",
    "      NumPyの乱数のシード\n",
    "    \"\"\"\n",
    "    def __init__(self, X, y, batch_size = 20, seed=0):\n",
    "        self.batch_size = batch_size\n",
    "        np.random.seed(seed)\n",
    "        shuffle_index = np.random.permutation(np.arange(X.shape[0]))\n",
    "        self._X = X[shuffle_index]\n",
    "        self._y = y[shuffle_index]\n",
    "        self._stop = np.ceil(X.shape[0]/self.batch_size).astype(np.int)\n",
    "    def __len__(self):\n",
    "        return self._stop\n",
    "    def __getitem__(self,item):\n",
    "        p0 = item*self.batch_size\n",
    "        p1 = item*self.batch_size + self.batch_size\n",
    "        return self._X[p0:p1], self._y[p0:p1]        \n",
    "    def __iter__(self):\n",
    "        self._counter = 0\n",
    "        return self\n",
    "    def __next__(self):\n",
    "        if self._counter >= self._stop:\n",
    "            raise StopIteration()\n",
    "        p0 = self._counter*self.batch_size\n",
    "        p1 = self._counter*self.batch_size + self.batch_size\n",
    "        self._counter += 1\n",
    "        return self._X[p0:p1], self._y[p0:p1]"
   ]
  },
  {
   "cell_type": "code",
   "execution_count": 13,
   "metadata": {},
   "outputs": [
    {
     "name": "stdout",
     "output_type": "stream",
     "text": [
      "2400\n",
      "(array([[0., 0., 0., ..., 0., 0., 0.],\n",
      "       [0., 0., 0., ..., 0., 0., 0.],\n",
      "       [0., 0., 0., ..., 0., 0., 0.],\n",
      "       ...,\n",
      "       [0., 0., 0., ..., 0., 0., 0.],\n",
      "       [0., 0., 0., ..., 0., 0., 0.],\n",
      "       [0., 0., 0., ..., 0., 0., 0.]]), array([4, 1, 6, 2, 6, 5, 2, 6, 9, 0, 8, 7, 5, 0, 5, 7, 9, 5, 6, 3],\n",
      "      dtype=uint8))\n"
     ]
    }
   ],
   "source": [
    "get_mini_batch = GetMiniBatch(X_train, y_train, batch_size=20)\n",
    "print(len(get_mini_batch)) # 2400\n",
    "print(get_mini_batch[5]) # 5番目のミニバッチが取得できる\n",
    "for mini_X_train, mini_y_train in get_mini_batch:\n",
    "    # このfor文内でミニバッチが使える\n",
    "    pass"
   ]
  },
  {
   "cell_type": "markdown",
   "metadata": {},
   "source": [
    "# 【問題1】重みの初期値を決めるコードの作成\n",
    "ニューラルネットワークの各層の重みの初期値を決めるコードを作成してください。\n",
    "\n",
    "\n",
    "重みの初期値は様々な方法が提案されていますが、今回はガウス分布による単純な初期化を行います。バイアスに関しても同様です。\n",
    "\n",
    "\n",
    "以下のコードを参考にしてください。標準偏差の値sigmaはハイパーパラメータです。発展的な重みの初期化方法については次のSprintで扱います。"
   ]
  },
  {
   "cell_type": "code",
   "execution_count": 14,
   "metadata": {},
   "outputs": [],
   "source": [
    "n_features = 784\n",
    "n_nodes1 = 400\n",
    "sigma = 0.01 # ガウス分布の標準偏差\n",
    "\n",
    "# 重みの初期値\n",
    "W1 = sigma * np.random.randn(n_features, n_nodes1)\n",
    "# W1: (784, 400)\n",
    "\n",
    "n_nodes2 = 200 # 自由(理由なし)\n",
    "W2 = sigma * np.random.randn(n_nodes1, n_nodes2)\n",
    "# W2: (400, 200)\n",
    "\n",
    "# バイアス\n",
    "bias1 = sigma * np.random.randn(n_features, n_nodes1)\n",
    "# baias1：（784, 400）\n",
    "\n",
    "bias2 = sigma * np.random.randn(n_nodes1, n_nodes1)\n",
    "# baias2：（400, 200）"
   ]
  },
  {
   "cell_type": "markdown",
   "metadata": {},
   "source": [
    "# 【問題2】フォワードプロパゲーションの実装\n",
    "三層のニューラルネットワークの フォワードプロパゲーション を作成してください。以下の説明ではノード数は1層目は400、2層目は200としますが、変更しても構いません。\n",
    "\n",
    "\n",
    "各層の数式を以下に示します。今回はそれぞれの記号が表す配列が、実装上どのようなndarrayのshapeになるかを併記してあります。"
   ]
  },
  {
   "cell_type": "code",
   "execution_count": 26,
   "metadata": {},
   "outputs": [],
   "source": [
    "# ３層のネットワークをここで作る\n",
    "class ScratchSimpleNeuralNetrowkClassifier():\n",
    "    \"\"\"\n",
    "    シンプルな三層ニューラルネットワーク分類器\n",
    "    Parameters\n",
    "    ----------\n",
    "    Attributes\n",
    "    ----------\n",
    "    \"\"\"\n",
    "    def __init__(self, sigma, n_nodes1, n_nodes2,n_output,batch_size, epoch, verbose = False):\n",
    "        self.verbose = verbose\n",
    "        self.sigma = sigma # ガウス分布の標準偏差\n",
    "        self.n_nodes1 = n_nodes1\n",
    "        self.n_nodes2 = n_nodes2\n",
    "        self.batch_size = batch_size\n",
    "        self.epoch = epoch\n",
    "        self.n_output = n_output\n",
    "        self.W1 = self.sigma * np.random.randn(n_features, self.n_nodes1)# W1: (784, 400)\n",
    "        self.W2 = self.sigma * np.random.randn(self.n_nodes1, self.n_nodes2) # (400, 200)\n",
    "        self.W3 =  self.sigma * np.random.randn(self.n_nodes2, self.n_output) #(200, 10)\n",
    "        self.bias1 = self.sigma * np.random.randn(self.n_nodes1) # baias1：（784,）\n",
    "        self.bias3 = self.sigma * np.random.randn(self.n_output) # (10,)\n",
    "        self.bias2 = self.sigma * np.random.randn(self.n_nodes2) # \n",
    "        self.train_score_list =[]\n",
    "        self.val_score_list = []\n",
    "        self.train_loss_list = []\n",
    "        self.val_loss_list = []\n",
    "    \n",
    "    def fit(self, X, y, X_val=None, y_val=None):\n",
    "        \"\"\"\n",
    "        ニューラルネットワーク分類器を学習する。\n",
    "        Parameters\n",
    "        ----------\n",
    "        X : 次の形のndarray, shape (n_samples, n_features)\n",
    "            訓練データの特徴量\n",
    "        y : 次の形のndarray, shape (n_samples, )\n",
    "            訓練データの正解値\n",
    "        X_val : 次の形のndarray, shape (n_samples, n_features)\n",
    "            検証データの特徴量\n",
    "        y_val : 次の形のndarray, shape (n_samples, )\n",
    "            検証データの正解値\n",
    "        \"\"\"\n",
    "        \n",
    "        #n_features = X.shape[1] #(784)\n",
    "         \n",
    "                \n",
    "        # ワンホット（ブロードキャスト版）\n",
    "        y_one_hot = y.reshape(-1,1) == np.arange(10) # (48000, 10)\n",
    "        y_val_one_hot = y_val.reshape(-1,1) == np.arange(10) # (12000, 10)\n",
    "        \n",
    "        \n",
    "        # エポックで学習\n",
    "        for epoch in range(self.epoch):\n",
    "            train_loss = 0\n",
    "            get_mini_batch = GetMiniBatch(X, y_one_hot, batch_size=self.batch_size)\n",
    "            # イテレーション\n",
    "            for mini_X_train, mini_y_train in get_mini_batch: # バッチサイズ20なら2400回繰り返し\n",
    "                self.forward(mini_X_train)\n",
    "                train_loss += self.log_loss(mini_X_train, mini_y_train)\n",
    "                self.back_propagation(mini_X_train, mini_y_train, alpha=0.01)\n",
    "           \n",
    "            # 問題6 accuracyのスコア\n",
    "            train_score = len(self.predict(X)[self.predict(X) == y]) / len(y)\n",
    "            self.train_score_list.append(train_score)\n",
    "            train_loss = train_loss/ len(get_mini_batch)\n",
    "            self.train_loss_list.append(train_loss)\n",
    "            \n",
    "            if self.verbose:\n",
    "            #verboseをTrueにした際は学習過程などを出力する\n",
    "                print(\"train loss {}, train_score{}\".format(train_loss,train_score))\n",
    "\n",
    "            \n",
    "        if X_val is not None and y_val is not None:\n",
    "            for epoch in range(self.epoch):\n",
    "                val_loss = 0\n",
    "                get_mini_batch = GetMiniBatch(X_val, y_val_one_hot, batch_size=self.batch_size)\n",
    "                for mini_X_train, mini_y_train in get_mini_batch:\n",
    "                    self.forward(mini_X_train)\n",
    "                    val_loss += self.log_loss(mini_X_train, mini_y_train)\n",
    "                    self.back_propagation(mini_X_train, mini_y_train, alpha=0.01)\n",
    "            \n",
    "                val_score = len(self.predict(X_val)[self.predict(X_val) == y_val]) / len(y_val)\n",
    "                self.val_score_list.append(val_score)\n",
    "                val_loss = val_loss / len(get_mini_batch)\n",
    "                self.val_loss_list.append(val_loss)\n",
    "            \n",
    "                if self.verbose:\n",
    "                #verboseをTrueにした際は学習過程などを出力する\n",
    "                    print(\"val loss {}, val_score{}\".format(val_loss, val_score))\n",
    "            \n",
    "                \n",
    "    \n",
    "    # 問題5\n",
    "    def predict(self, X):\n",
    "        \"\"\"\n",
    "        ニューラルネットワーク分類器を使い推定する。\n",
    "        Parameters\n",
    "        ----------\n",
    "        X : 次の形のndarray, shape (n_samples, n_features)\n",
    "            サンプル\n",
    "        Returns\n",
    "        -------\n",
    "            次の形のndarray, shape (n_samples, 1)\n",
    "            推定結果\n",
    "        \"\"\"\n",
    "        return np.argmax(self.forward(X), axis=1)\n",
    "   \n",
    "\n",
    "    # 問題2 \n",
    "    def forward(self, X):\n",
    "        self.a1 = X@self.W1 + self.bias1 #((20, 784), (784, 400)) + (400, ) (20, 400)\n",
    "        self.Z1 =  self.sigmoid(self.a1) \n",
    "        self.a2 = self.Z1@self.W2 + self.bias2 # (20, 400) (400, 200) + (200,) (20,200)\n",
    "        self.Z2 = np.tanh(self.a2)    \n",
    "        self.a3 = self.Z2@self.W3 + self.bias3  #  (20,200) (200,10)  + (10,) (20,10)\n",
    "        self.Z3= self.soft_max(self.a3) # (20,10) \n",
    "        return self.Z3\n",
    "        \n",
    "    # シグモイド関数\n",
    "    def sigmoid(self, X):\n",
    "        return 1/(1 + np.exp(-X))\n",
    "    \n",
    "    # ソフトマックス関数\n",
    "    def soft_max(self, X):\n",
    "        # オーバーフロー対策 \n",
    "        X_max = np.max(X) # (20,10)\n",
    "        return np.exp(X - X_max)/ np.sum(np.exp(X - X_max), axis=1, keepdims=True)\n",
    "        \n",
    "   # 問題3\n",
    "    def log_loss(self, X, y):\n",
    "        #y = (20, ) \n",
    "        # output_layer = (20,10) \n",
    "        self.loss = -(1/self.batch_size) * np.sum(y*np.log(self.forward(X)))\n",
    "        return self.loss\n",
    "    \n",
    "    # 問題4 \n",
    "    def back_propagation(self, X, y, alpha):\n",
    "        # Z = sotmax(A) (20,10)\n",
    "        # A = zx+b (20,10)\n",
    "        # ３層\n",
    "        delta_A3 = (1/self.batch_size)*(self.Z3 - y) # (20,10) (20, 10)\n",
    "        self.bias3 -= alpha * np.sum(delta_A3, axis=0) # (10,)\n",
    "        self.W3 -= alpha * self.Z2.T@delta_A3 # (200,20) (20,10) (200,10)\n",
    "        delta_Z2 = delta_A3@self.W3.T # (20,10) (10,200) (20,200)\n",
    "        \n",
    "        # ２層 \n",
    "        delta_A2 = delta_Z2*(1 - (self.Z2**2)) #(20,200) (20,200)\n",
    "        self.bias2 -= alpha * np.sum(delta_A2, axis=0) # (200,)\n",
    "        self.W2 -= alpha * self.Z1.T@delta_A2 # (400,20) (20,200) (400,200) \n",
    "        delta_Z1 = delta_A2@self.W2.T # (20,200) (200, 400) (20,400)\n",
    "        \n",
    "        #1層\n",
    "        # シグモイドの微分\n",
    "        delta_A1 = delta_Z1 * (1-self.Z1)*self.Z1 # (20,400) \n",
    "        self.bias1 -= alpha * np.sum(delta_A1, axis=0) # (400,)\n",
    "        self.W1 -= alpha * X.T@delta_A1 # (784, 20) (20,400) (784, 400)       "
   ]
  },
  {
   "cell_type": "code",
   "execution_count": 16,
   "metadata": {},
   "outputs": [
    {
     "data": {
      "text/plain": [
       "(10000,)"
      ]
     },
     "execution_count": 16,
     "metadata": {},
     "output_type": "execute_result"
    }
   ],
   "source": [
    "X_test.shape\n",
    "y_test.shape"
   ]
  },
  {
   "cell_type": "code",
   "execution_count": null,
   "metadata": {},
   "outputs": [],
   "source": []
  },
  {
   "cell_type": "code",
   "execution_count": 28,
   "metadata": {},
   "outputs": [
    {
     "name": "stdout",
     "output_type": "stream",
     "text": [
      "train loss 2.2992312037627447, train_score0.23510416666666667\n",
      "train loss 2.223309200157625, train_score0.3470416666666667\n",
      "train loss 1.3215123453880833, train_score0.7014791666666667\n",
      "train loss 0.7798981645024985, train_score0.7930625\n",
      "train loss 0.6130914190257762, train_score0.8371666666666666\n",
      "train loss 0.5301040502480712, train_score0.8554791666666667\n",
      "train loss 0.47812802961289547, train_score0.8726041666666666\n",
      "train loss 0.4302968885247707, train_score0.8840833333333333\n",
      "train loss 0.3984892288462972, train_score0.8914166666666666\n",
      "train loss 0.37723641570344846, train_score0.8966875\n",
      "train loss 0.35992122753839106, train_score0.901125\n",
      "train loss 0.34548824897680624, train_score0.9043125\n",
      "train loss 0.3337522086729263, train_score0.90725\n",
      "train loss 0.3240272739646914, train_score0.9100208333333333\n",
      "train loss 0.31555005421184906, train_score0.9122916666666666\n",
      "train loss 0.30773946878823166, train_score0.9143958333333333\n",
      "train loss 0.30020103619270994, train_score0.91675\n",
      "train loss 0.29269375551296517, train_score0.918375\n",
      "train loss 0.285111699596359, train_score0.9201041666666666\n",
      "train loss 0.2774726368858426, train_score0.922125\n",
      "train loss 0.2698853871803316, train_score0.9241458333333333\n",
      "train loss 0.26248933818178044, train_score0.9258125\n",
      "train loss 0.2553958508836765, train_score0.9276875\n",
      "train loss 0.24866246797573335, train_score0.9293333333333333\n",
      "train loss 0.24229894501861768, train_score0.9308125\n",
      "train loss 0.23628433036667057, train_score0.9320833333333334\n",
      "train loss 0.2305821814640783, train_score0.9334375\n",
      "train loss 0.22515150646562718, train_score0.9348958333333334\n",
      "train loss 0.2199537920423118, train_score0.9360416666666667\n",
      "train loss 0.21495678199959362, train_score0.9375416666666667\n",
      "val loss 0.2182131028548824, val_score0.9365\n",
      "val loss 0.21133886197340368, val_score0.9383\n",
      "val loss 0.20649944566969597, val_score0.9392\n",
      "val loss 0.2024834038775738, val_score0.9398\n",
      "val loss 0.198940161821377, val_score0.9405\n",
      "val loss 0.1957144373004301, val_score0.9417\n",
      "val loss 0.19272143628581004, val_score0.9429\n",
      "val loss 0.1899092124544516, val_score0.9442\n",
      "val loss 0.18724333764317344, val_score0.9449\n",
      "val loss 0.18469961427491682, val_score0.9452\n",
      "val loss 0.1822602417057526, val_score0.9459\n",
      "val loss 0.17991164168403906, val_score0.9469\n",
      "val loss 0.1776431503557239, val_score0.9472\n",
      "val loss 0.17544619299815, val_score0.9482\n",
      "val loss 0.17331374141808303, val_score0.9482\n",
      "val loss 0.171239943833902, val_score0.949\n",
      "val loss 0.1692198640147889, val_score0.9497\n",
      "val loss 0.16724929210391146, val_score0.9504\n",
      "val loss 0.16532460402352803, val_score0.9508\n",
      "val loss 0.16344265475849357, val_score0.9521\n",
      "val loss 0.1616006958428249, val_score0.9529\n",
      "val loss 0.1597963104911043, val_score0.9534\n",
      "val loss 0.15802736182031132, val_score0.9542\n",
      "val loss 0.15629195093982826, val_score0.9544\n",
      "val loss 0.15458838259766078, val_score0.9547\n",
      "val loss 0.15291513670483842, val_score0.9553\n",
      "val loss 0.1512708445061092, val_score0.956\n",
      "val loss 0.14965426848019703, val_score0.9564\n",
      "val loss 0.14806428527553583, val_score0.9568\n",
      "val loss 0.14649987114501872, val_score0.9571\n"
     ]
    }
   ],
   "source": [
    "from sklearn.metrics import accuracy_score\n",
    "nn = ScratchSimpleNeuralNetrowkClassifier(sigma=0.01, n_nodes1=400, n_nodes2=200,n_output=10,batch_size=20, epoch=30, verbose=True)\n",
    "nn.fit(X_train, y_train, X_test, y_test)"
   ]
  },
  {
   "cell_type": "code",
   "execution_count": 29,
   "metadata": {},
   "outputs": [
    {
     "name": "stdout",
     "output_type": "stream",
     "text": [
      "[7 2 1 ... 4 5 6]\n",
      "0.9571\n"
     ]
    },
    {
     "data": {
      "text/plain": [
       "(10000,)"
      ]
     },
     "execution_count": 29,
     "metadata": {},
     "output_type": "execute_result"
    }
   ],
   "source": [
    "a = nn.predict(X_test)\n",
    "print(a)\n",
    "print(len(a[a == y_test]) / len(X_test))\n",
    "y_test.shape"
   ]
  },
  {
   "cell_type": "code",
   "execution_count": 30,
   "metadata": {},
   "outputs": [
    {
     "name": "stdout",
     "output_type": "stream",
     "text": [
      "2400\n",
      "(array([[0., 0., 0., ..., 0., 0., 0.],\n",
      "       [0., 0., 0., ..., 0., 0., 0.],\n",
      "       [0., 0., 0., ..., 0., 0., 0.],\n",
      "       ...,\n",
      "       [0., 0., 0., ..., 0., 0., 0.],\n",
      "       [0., 0., 0., ..., 0., 0., 0.],\n",
      "       [0., 0., 0., ..., 0., 0., 0.]]), array([4, 1, 6, 2, 6, 5, 2, 6, 9, 0, 8, 7, 5, 0, 5, 7, 9, 5, 6, 3],\n",
      "      dtype=uint8))\n"
     ]
    },
    {
     "data": {
      "text/plain": [
       "((20, 784), (784, 400))"
      ]
     },
     "execution_count": 30,
     "metadata": {},
     "output_type": "execute_result"
    }
   ],
   "source": [
    "get_mini_batch = GetMiniBatch(X_train, y_train, batch_size=20)\n",
    "print(len(get_mini_batch)) # 2400\n",
    "print(get_mini_batch[5]) # 5番目のミニバッチが取得できる\n",
    "for mini_X_train, mini_y_train in get_mini_batch:\n",
    "    pass\n",
    "\n",
    "# バッチサイズの20個を60000件の中から１個取り出している(max3000個)\n",
    "get_mini_batch[0][0].shape, W1.shape"
   ]
  },
  {
   "cell_type": "code",
   "execution_count": 31,
   "metadata": {},
   "outputs": [
    {
     "data": {
      "text/plain": [
       "(20, 400)"
      ]
     },
     "execution_count": 31,
     "metadata": {},
     "output_type": "execute_result"
    }
   ],
   "source": [
    "(get_mini_batch[0][0]@W1).shape"
   ]
  },
  {
   "cell_type": "code",
   "execution_count": 32,
   "metadata": {},
   "outputs": [
    {
     "data": {
      "text/plain": [
       "(20, 400)"
      ]
     },
     "execution_count": 32,
     "metadata": {},
     "output_type": "execute_result"
    }
   ],
   "source": [
    "bias1 = np.zeros((n_nodes1))\n",
    "#get_mini_batch[0][0]@bias1\n",
    "get_mini_batch[0][0].shape, bias1.shape\n",
    "\n",
    "(get_mini_batch[0][0]).shape\n",
    "((get_mini_batch[0][0]@W1) + bias1).shape"
   ]
  },
  {
   "cell_type": "code",
   "execution_count": 33,
   "metadata": {},
   "outputs": [
    {
     "data": {
      "text/plain": [
       "(20, 400)"
      ]
     },
     "execution_count": 33,
     "metadata": {},
     "output_type": "execute_result"
    }
   ],
   "source": [
    "nn = (get_mini_batch[0][0]@W1) + bias1\n",
    "np.tanh(nn).shape"
   ]
  },
  {
   "cell_type": "code",
   "execution_count": 34,
   "metadata": {},
   "outputs": [],
   "source": [
    "for k in range(10):\n",
    "    np.exp(X_train[:, k])/ np.sum(np.exp(X_train))"
   ]
  },
  {
   "cell_type": "code",
   "execution_count": 35,
   "metadata": {},
   "outputs": [
    {
     "data": {
      "text/plain": [
       "(48000,)"
      ]
     },
     "execution_count": 35,
     "metadata": {},
     "output_type": "execute_result"
    }
   ],
   "source": [
    "np.exp(X_train[:, 1]).shape"
   ]
  },
  {
   "cell_type": "code",
   "execution_count": 36,
   "metadata": {},
   "outputs": [
    {
     "data": {
      "text/plain": [
       "(48000, 784)"
      ]
     },
     "execution_count": 36,
     "metadata": {},
     "output_type": "execute_result"
    }
   ],
   "source": [
    "np.exp(X_train).shape\n",
    "#20,10"
   ]
  },
  {
   "cell_type": "code",
   "execution_count": 37,
   "metadata": {},
   "outputs": [
    {
     "data": {
      "text/plain": [
       "45474167.09579028"
      ]
     },
     "execution_count": 37,
     "metadata": {},
     "output_type": "execute_result"
    }
   ],
   "source": [
    "np.sum(np.exp(X_train))"
   ]
  },
  {
   "cell_type": "code",
   "execution_count": 38,
   "metadata": {},
   "outputs": [
    {
     "data": {
      "text/plain": [
       "array([[2.19905072e-08, 2.19905072e-08, 2.19905072e-08, ...,\n",
       "        2.19905072e-08, 2.19905072e-08, 2.19905072e-08],\n",
       "       [2.19905072e-08, 2.19905072e-08, 2.19905072e-08, ...,\n",
       "        2.19905072e-08, 2.19905072e-08, 2.19905072e-08],\n",
       "       [2.19905072e-08, 2.19905072e-08, 2.19905072e-08, ...,\n",
       "        2.19905072e-08, 2.19905072e-08, 2.19905072e-08],\n",
       "       ...,\n",
       "       [2.19905072e-08, 2.19905072e-08, 2.19905072e-08, ...,\n",
       "        2.19905072e-08, 2.19905072e-08, 2.19905072e-08],\n",
       "       [2.19905072e-08, 2.19905072e-08, 2.19905072e-08, ...,\n",
       "        2.19905072e-08, 2.19905072e-08, 2.19905072e-08],\n",
       "       [2.19905072e-08, 2.19905072e-08, 2.19905072e-08, ...,\n",
       "        2.19905072e-08, 2.19905072e-08, 2.19905072e-08]])"
      ]
     },
     "execution_count": 38,
     "metadata": {},
     "output_type": "execute_result"
    }
   ],
   "source": [
    "(np.exp(X_train)/np.sum(np.exp(X_train)))"
   ]
  },
  {
   "cell_type": "code",
   "execution_count": 39,
   "metadata": {},
   "outputs": [
    {
     "data": {
      "text/plain": [
       "(48000, 784)"
      ]
     },
     "execution_count": 39,
     "metadata": {},
     "output_type": "execute_result"
    }
   ],
   "source": [
    "(np.exp(X_train)/np.sum(np.exp(X_train), axis=0)).shape"
   ]
  },
  {
   "cell_type": "code",
   "execution_count": 40,
   "metadata": {},
   "outputs": [
    {
     "data": {
      "text/plain": [
       "(48000, 784)"
      ]
     },
     "execution_count": 40,
     "metadata": {},
     "output_type": "execute_result"
    }
   ],
   "source": [
    "np.log(np.exp(X_train)).shape"
   ]
  },
  {
   "cell_type": "code",
   "execution_count": 41,
   "metadata": {},
   "outputs": [
    {
     "data": {
      "text/plain": [
       "((48000, 784), (10000, 784))"
      ]
     },
     "execution_count": 41,
     "metadata": {},
     "output_type": "execute_result"
    }
   ],
   "source": [
    "# 平滑化\n",
    "X_train = X_train.reshape(-1, 784)\n",
    "X_test = X_test.reshape(-1, 784)\n",
    "X_train.shape, X_test.shape"
   ]
  },
  {
   "cell_type": "code",
   "execution_count": 42,
   "metadata": {},
   "outputs": [
    {
     "data": {
      "text/plain": [
       "array([[False, False, False, ..., False, False, False],\n",
       "       [False, False, False, ...,  True, False, False],\n",
       "       [False, False, False, ..., False, False, False],\n",
       "       ...,\n",
       "       [False, False, False, ..., False, False, False],\n",
       "       [False, False, False, ..., False, False, False],\n",
       "       [False, False, False, ..., False, False, False]])"
      ]
     },
     "execution_count": 42,
     "metadata": {},
     "output_type": "execute_result"
    }
   ],
   "source": [
    "y_train.reshape(-1,1) == np.arange(10)"
   ]
  },
  {
   "cell_type": "code",
   "execution_count": 43,
   "metadata": {},
   "outputs": [
    {
     "data": {
      "text/plain": [
       "array([[ 0.79254585, -0.14509158, -1.28713287, ..., -2.81962169,\n",
       "        -1.14406001,  1.47568564],\n",
       "       [-1.32275668,  1.60840454,  1.18336099, ...,  0.67863041,\n",
       "         1.51854652, -0.70275234],\n",
       "       [ 0.44494317, -1.38090756,  0.34876935, ..., -0.4658047 ,\n",
       "         0.50559737,  0.89300135],\n",
       "       ...,\n",
       "       [-0.43481017, -0.22796111,  1.54043006, ...,  1.46430167,\n",
       "         1.25701103,  1.86759362],\n",
       "       [-0.14210812, -3.07987899, -0.32067736, ..., -0.53407238,\n",
       "         0.28473852, -1.91870176],\n",
       "       [-0.4993296 ,  0.47490048,  0.56264197, ..., -0.02634771,\n",
       "         0.22502908,  0.98097986]])"
      ]
     },
     "execution_count": 43,
     "metadata": {},
     "output_type": "execute_result"
    }
   ],
   "source": [
    "a = np.zeros((20, 10))\n",
    "log = np.zeros((20,10))\n",
    "np.random.randn(200, 10)"
   ]
  },
  {
   "cell_type": "code",
   "execution_count": 44,
   "metadata": {},
   "outputs": [
    {
     "ename": "NameError",
     "evalue": "name 'X' is not defined",
     "output_type": "error",
     "traceback": [
      "\u001b[0;31m---------------------------------------------------------------------------\u001b[0m",
      "\u001b[0;31mNameError\u001b[0m                                 Traceback (most recent call last)",
      "\u001b[0;32m<ipython-input-44-718076a99941>\u001b[0m in \u001b[0;36m<module>\u001b[0;34m\u001b[0m\n\u001b[0;32m----> 1\u001b[0;31m \u001b[0mnp\u001b[0m\u001b[0;34m.\u001b[0m\u001b[0mexp\u001b[0m\u001b[0;34m(\u001b[0m\u001b[0mX\u001b[0m \u001b[0;34m-\u001b[0m \u001b[0mX_max\u001b[0m\u001b[0;34m)\u001b[0m\u001b[0;34m/\u001b[0m \u001b[0mnp\u001b[0m\u001b[0;34m.\u001b[0m\u001b[0msum\u001b[0m\u001b[0;34m(\u001b[0m\u001b[0mnp\u001b[0m\u001b[0;34m.\u001b[0m\u001b[0mexp\u001b[0m\u001b[0;34m(\u001b[0m\u001b[0mX\u001b[0m \u001b[0;34m-\u001b[0m \u001b[0mX_max\u001b[0m\u001b[0;34m)\u001b[0m\u001b[0;34m,\u001b[0m \u001b[0maxis\u001b[0m\u001b[0;34m=\u001b[0m\u001b[0;36m0\u001b[0m\u001b[0;34m)\u001b[0m\u001b[0;34m\u001b[0m\u001b[0;34m\u001b[0m\u001b[0m\n\u001b[0m",
      "\u001b[0;31mNameError\u001b[0m: name 'X' is not defined"
     ]
    }
   ],
   "source": [
    "np.exp(X - X_max)/ np.sum(np.exp(X - X_max), axis=0)"
   ]
  },
  {
   "cell_type": "code",
   "execution_count": 45,
   "metadata": {},
   "outputs": [
    {
     "data": {
      "text/plain": [
       "(20, 10)"
      ]
     },
     "execution_count": 45,
     "metadata": {},
     "output_type": "execute_result"
    }
   ],
   "source": [
    "(np.zeros((20,10))/20).shape"
   ]
  },
  {
   "cell_type": "code",
   "execution_count": 46,
   "metadata": {},
   "outputs": [
    {
     "name": "stderr",
     "output_type": "stream",
     "text": [
      "<ipython-input-46-8d51c995a679>:1: RuntimeWarning: divide by zero encountered in true_divide\n",
      "  np.sum((2 / np.zeros((20,10))), axis=0).shape\n"
     ]
    },
    {
     "data": {
      "text/plain": [
       "(10,)"
      ]
     },
     "execution_count": 46,
     "metadata": {},
     "output_type": "execute_result"
    }
   ],
   "source": [
    "np.sum((2 / np.zeros((20,10))), axis=0).shape"
   ]
  },
  {
   "cell_type": "code",
   "execution_count": 47,
   "metadata": {},
   "outputs": [
    {
     "data": {
      "text/plain": [
       "array([355,  97, 406, ..., 711, 464,  75])"
      ]
     },
     "execution_count": 47,
     "metadata": {},
     "output_type": "execute_result"
    }
   ],
   "source": [
    "np.argmax(X_test, axis=1)\n",
    "\n",
    "#np.argmax(self.foward(X), axis=0)"
   ]
  },
  {
   "cell_type": "markdown",
   "metadata": {},
   "source": [
    "# 【問題3】交差エントロピー誤差の実装\n",
    "目的関数（損失関数）を作成します。\n",
    "\n",
    "\n",
    "多クラス分類の目的関数である交差エントロピー誤差 \n",
    "L\n",
    " は次の数式です。"
   ]
  },
  {
   "cell_type": "code",
   "execution_count": 48,
   "metadata": {},
   "outputs": [],
   "source": [
    " # 問題3\n",
    "def log_loss(self, X, y):\n",
    "    #y = (20, ) \n",
    "    # output_layer = (20,10) \n",
    "    self.loss = -(1/self.batch_size) * np.sum(y*np.log(self.forward(X)))\n",
    "    return self.loss\n",
    "    \n",
    "   "
   ]
  },
  {
   "cell_type": "markdown",
   "metadata": {},
   "source": [
    "# 【問題4】バックプロパゲーションの実装\n",
    "三層のニューラルネットワークのバックプロパゲーションを作成してください。確率的勾配降下法を行う部分です。\n",
    "\n",
    "\n",
    "数式を以下に示します。\n",
    "\n",
    "\n",
    "まず、i層目の重みとバイアスの更新式です。 \n",
    "W\n",
    "i\n",
    " と \n",
    "B\n",
    "i\n",
    " に対し、更新後の \n",
    "W\n",
    "′\n",
    "i\n",
    " と \n",
    "B\n",
    "′\n",
    "i\n",
    " は次の数式で求められます。\n",
    "\n",
    "\n"
   ]
  },
  {
   "cell_type": "code",
   "execution_count": 49,
   "metadata": {},
   "outputs": [],
   "source": [
    " # 問題4 \n",
    "def back_propagation(self, X, y, alpha):\n",
    "    # Z = sotmax(A) (20,10)\n",
    "    # A = zx+b (20,10)\n",
    "    # ３層\n",
    "    delta_A3 = (1/self.batch_size)*(self.Z3 - y) # (20,10) (20, 10)\n",
    "    self.bias3 -= alpha * np.sum(delta_A3, axis=0) # (10,)\n",
    "    self.W3 -= alpha * self.Z2.T@delta_A3 # (200,20) (20,10) (200,10)\n",
    "    delta_Z2 = delta_A3@self.W3.T # (20,10) (10,200) (20,200)\n",
    "        \n",
    "    # ２層 \n",
    "    delta_A2 = delta_Z2*(1 - (self.Z2**2)) #(20,200) (20,200)\n",
    "    self.bias2 -= alpha * np.sum(delta_A2, axis=0) # (200,)\n",
    "    self.W2 -= alpha * self.Z1.T@delta_A2 # (400,20) (20,200) (400,200) \n",
    "    delta_Z1 = delta_A2@self.W2.T # (20,200) (200, 400) (20,400)\n",
    "        \n",
    "    #1層\n",
    "    # シグモイドの微分\n",
    "    delta_A1 = delta_Z1 * (1-self.Z1)*self.Z1 # (20,400) \n",
    "    self.bias1 -= alpha * np.sum(delta_A1, axis=0) # (400,)\n",
    "    self.W1 -= alpha * X.T@delta_A1 # (784, 20) (20,400) (784, 400)"
   ]
  },
  {
   "cell_type": "markdown",
   "metadata": {},
   "source": [
    "# 【問題5】推定\n",
    "推定を行うメソッドを作成してください。\n",
    "\n",
    "\n",
    "フォワードプロパゲーションによって出力された10個の確率の中で、最も高いものはどれかを判定します。\n",
    "\n"
   ]
  },
  {
   "cell_type": "code",
   "execution_count": 50,
   "metadata": {},
   "outputs": [],
   "source": [
    "def predict(self, X):\n",
    "        \"\"\"\n",
    "        ニューラルネットワーク分類器を使い推定する。\n",
    "        Parameters\n",
    "        ----------\n",
    "        X : 次の形のndarray, shape (n_samples, n_features)\n",
    "            サンプル\n",
    "        Returns\n",
    "        -------\n",
    "            次の形のndarray, shape (n_samples, 1)\n",
    "            推定結果\n",
    "        \"\"\"\n",
    "        return np.argmax(self.forward(X), axis=1)"
   ]
  },
  {
   "cell_type": "markdown",
   "metadata": {},
   "source": [
    "# 【問題6】学習と推定\n",
    "MNISTのデータを学習・推定し、Accuracyを計算してください。\n",
    "\n"
   ]
  },
  {
   "cell_type": "code",
   "execution_count": 53,
   "metadata": {},
   "outputs": [
    {
     "name": "stdout",
     "output_type": "stream",
     "text": [
      "train loss 2.299240577180339, train_score0.10391666666666667\n",
      "train loss 2.200932481321529, train_score0.3679791666666667\n",
      "train loss 1.3155192218453537, train_score0.6859375\n",
      "train loss 0.8033320589912045, train_score0.7790833333333333\n",
      "train loss 0.6321418364639254, train_score0.8339166666666666\n",
      "train loss 0.5328054276589469, train_score0.8575625\n",
      "train loss 0.46709195747024085, train_score0.8765208333333333\n",
      "train loss 0.41952215012561617, train_score0.8861041666666667\n",
      "train loss 0.39047992167144374, train_score0.8932083333333334\n",
      "train loss 0.36961050261507084, train_score0.8988541666666666\n",
      "train loss 0.3535688376887054, train_score0.9023125\n",
      "train loss 0.3411305453047734, train_score0.9052708333333334\n",
      "train loss 0.3310593724481137, train_score0.9083125\n",
      "train loss 0.3224257241641212, train_score0.9104375\n",
      "train loss 0.31461689833536705, train_score0.912125\n",
      "train loss 0.3072217651969324, train_score0.9143125\n",
      "train loss 0.299969660236312, train_score0.9163125\n",
      "train loss 0.292702030733571, train_score0.9183958333333333\n",
      "train loss 0.2853592508648166, train_score0.9200833333333334\n",
      "train loss 0.2779684529977094, train_score0.9220416666666666\n",
      "train loss 0.2706190373463062, train_score0.9236041666666667\n",
      "train loss 0.26342438975473925, train_score0.9255625\n",
      "train loss 0.25648322284615066, train_score0.927375\n",
      "train loss 0.24985715923619903, train_score0.92925\n",
      "train loss 0.24356830871278135, train_score0.93075\n",
      "train loss 0.2376083160224855, train_score0.9320208333333333\n",
      "train loss 0.23194994509248665, train_score0.9333541666666667\n",
      "train loss 0.2265570051479153, train_score0.9348958333333334\n",
      "train loss 0.22139155720969542, train_score0.9361041666666666\n",
      "train loss 0.21641856386019853, train_score0.9377291666666666\n",
      "val loss 0.21991364839211988, val_score0.9374\n",
      "val loss 0.21273156880584995, val_score0.9382\n",
      "val loss 0.20788355922932136, val_score0.9397\n",
      "val loss 0.203887912277865, val_score0.9406\n",
      "val loss 0.20036000358201933, val_score0.9413\n",
      "val loss 0.19714296120151534, val_score0.9422\n",
      "val loss 0.19415424237663764, val_score0.9427\n",
      "val loss 0.191343689420203, val_score0.9433\n",
      "val loss 0.18867801703358486, val_score0.9442\n",
      "val loss 0.18613375374191793, val_score0.9448\n",
      "val loss 0.18369356697886619, val_score0.9453\n",
      "val loss 0.18134417692955773, val_score0.9458\n",
      "val loss 0.17907509862208523, val_score0.9465\n",
      "val loss 0.17687784719884547, val_score0.947\n",
      "val loss 0.1747454159991008, val_score0.9475\n",
      "val loss 0.17267192214278038, val_score0.9484\n",
      "val loss 0.170652358583639, val_score0.9491\n",
      "val loss 0.16868241587346894, val_score0.9495\n",
      "val loss 0.1667583507778188, val_score0.9503\n",
      "val loss 0.16487688714093318, val_score0.9509\n",
      "val loss 0.16303513945492523, val_score0.9518\n",
      "val loss 0.16123055276317352, val_score0.9526\n",
      "val loss 0.15946085456227763, val_score0.9531\n",
      "val loss 0.157724015693942, val_score0.954\n",
      "val loss 0.1560182180985061, val_score0.9547\n",
      "val loss 0.1543418278959385, val_score0.9553\n",
      "val loss 0.15269337266824293, val_score0.9554\n",
      "val loss 0.1510715221028211, val_score0.9557\n",
      "val loss 0.14947507135999313, val_score0.9563\n",
      "val loss 0.14790292667572988, val_score0.9567\n"
     ]
    }
   ],
   "source": [
    "from sklearn.metrics import accuracy_score\n",
    "nn = ScratchSimpleNeuralNetrowkClassifier(sigma=0.01, n_nodes1=400, n_nodes2=200,n_output=10,batch_size=20, epoch=30, verbose=True)\n",
    "nn.fit(X_train, y_train, X_test, y_test)"
   ]
  },
  {
   "cell_type": "markdown",
   "metadata": {},
   "source": [
    "# 【問題7】学習曲線のプロット\n",
    "学習曲線をプロットしてください。\n",
    "\n",
    "\n",
    "ニューラルネットワークは過学習が発生しやすいため、学習曲線の確認が重要です。訓練データと検証データに対するエポックごとの損失（交差エントロピー誤差）を記録できるようにする必要があります。"
   ]
  },
  {
   "cell_type": "code",
   "execution_count": 54,
   "metadata": {},
   "outputs": [
    {
     "data": {
      "text/plain": [
       "[<matplotlib.lines.Line2D at 0x7fdd4e23bf10>]"
      ]
     },
     "execution_count": 54,
     "metadata": {},
     "output_type": "execute_result"
    },
    {
     "data": {
      "image/png": "[encoded data removed]",
      "text/plain": [
       "<Figure size 432x288 with 1 Axes>"
      ]
     },
     "metadata": {
      "needs_background": "light"
     },
     "output_type": "display_data"
    }
   ],
   "source": [
    "# accuracyスコア\n",
    "import matplotlib.pyplot as plt\n",
    "\n",
    "epoch = 30\n",
    "plt.plot(np.arange(epoch), nn.train_score_list)\n",
    "plt.plot(np.arange(epoch), nn.val_score_list)\n",
    "\n",
    "#train_score_list =[]\n",
    "#val_score_list = []\n",
    "#train_loss_list = [\n",
    "#val_loss_list = []"
   ]
  },
  {
   "cell_type": "code",
   "execution_count": null,
   "metadata": {},
   "outputs": [],
   "source": []
  },
  {
   "cell_type": "code",
   "execution_count": 55,
   "metadata": {},
   "outputs": [
    {
     "data": {
      "text/plain": [
       "[<matplotlib.lines.Line2D at 0x7fdd4ec592b0>]"
      ]
     },
     "execution_count": 55,
     "metadata": {},
     "output_type": "execute_result"
    },
    {
     "data": {
      "image/png": "[encoded data removed]",
      "text/plain": [
       "<Figure size 432x288 with 1 Axes>"
      ]
     },
     "metadata": {
      "needs_background": "light"
     },
     "output_type": "display_data"
    }
   ],
   "source": [
    "# trainデータ\n",
    "epoch = 30\n",
    "\n",
    "plt.plot(np.arange(epoch), nn.train_loss_list)\n",
    "plt.plot(np.arange(epoch), nn.val_loss_list)"
   ]
  },
  {
   "cell_type": "code",
   "execution_count": null,
   "metadata": {},
   "outputs": [],
   "source": [
    "# 考察\n",
    "# valでもepochを回しているので、スタートからlossは低い状態\n",
    "# 最近ではvalで最適化することもあるため、今回はそちらを採用"
   ]
  },
  {
   "cell_type": "code",
   "execution_count": null,
   "metadata": {},
   "outputs": [],
   "source": []
  },
  {
   "cell_type": "code",
   "execution_count": null,
   "metadata": {},
   "outputs": [],
   "source": []
  }
 ],
 "metadata": {
  "kernelspec": {
   "display_name": "Python 3",
   "language": "python",
   "name": "python3"
  },
  "language_info": {
   "codemirror_mode": {
    "name": "ipython",
    "version": 3
   },
   "file_extension": ".py",
   "mimetype": "text/x-python",
   "name": "python",
   "nbconvert_exporter": "python",
   "pygments_lexer": "ipython3",
   "version": "3.8.3"
  }
 },
 "nbformat": 4,
 "nbformat_minor": 4
}
