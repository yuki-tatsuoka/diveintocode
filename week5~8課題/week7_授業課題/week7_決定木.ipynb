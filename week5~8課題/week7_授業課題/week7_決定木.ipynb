{
 "cells": [
  {
   "cell_type": "markdown",
   "metadata": {},
   "source": [
    "# 【問題1】不純度を求める関数\n",
    "ノード の ジニ不純度 を計算する関数を作成してください。ノード $t$ に対するジニ不純度 $I(t)$ は以下の数式で求まります。クラスが混じり合っているほどジニ不純度は高くなります。\n"
   ]
  },
  {
   "cell_type": "markdown",
   "metadata": {},
   "source": [
    "#### ひとまず動く物が完成したので提出\n",
    "#### 何か意見ございましたらよろしくお願いします。"
   ]
  },
  {
   "cell_type": "code",
   "execution_count": 610,
   "metadata": {},
   "outputs": [],
   "source": [
    "class ScratchDecesionTreeClassifierDepth1():\n",
    "\n",
    "    def __init__(self, verbose=False):\n",
    "        # ハイパーパラメータを属性として記録\n",
    "        self.verbose = verbose\n",
    "        self.gini_score = []\n",
    "    \n",
    "    # 問題3 学習 \n",
    "    def fit(self, X, y):  \n",
    "        # 閾値を設定する\n",
    "        self.threshold_list = np.arange(0, 10, 0.1)\n",
    "        self.threshold_index = [] \n",
    "        max_infomation_gain = 0\n",
    "        \n",
    "        # 問題1,2の内容をfor文で回して、gainの最大値を所得する\n",
    "        # 特徴量分の値を所得する\n",
    "        for i in range(len(self.threshold_list)):\n",
    "            self._gini(X, y, 0, self.threshold_list[i]) \n",
    "            self._information_gain(y)\n",
    "            \n",
    "            # 最大値の更新と最大値のthresholdを保存する\n",
    "            if  max_infomation_gain < self._information_gain(y):\n",
    "                max_infomation_gain = self._information_gain(y)\n",
    "                self.threshold_index.append(i)\n",
    "                \n",
    "            if self.verbose:\n",
    "                # verboseをTrueにした際は学習過程を出力\n",
    "                print(\"{}/{}, max_inofomation_gain{}\".format(i+1, len(self.threshold_list), max_infomation_gain))\n",
    "        \n",
    "        # 情報利得の最大化のthresholdを代入\n",
    "        self._gini(X, y, 0, self.threshold_list[-1])\n",
    "       \n",
    "    def predict(self, X):\n",
    "        \"\"\"\n",
    "        決定木分類器を使いラベルを推定する\n",
    "        \"\"\"\n",
    "        # fitで求めた閾値より下回った物をpredに決定させる\n",
    "        pred = np.where(X[:, 0] < self.threshold_list[self.threshold_index[-1]], 0, 1)\n",
    "        return pred\n",
    "    \n",
    "    # 問題1の計算式\n",
    "    def _gini(self, X, y, feature_index, threshold):\n",
    "        '''\n",
    "        K： クラスの数\n",
    "        node_index：ノードのインデックス\n",
    "        div_target：ノード内にあるクラスのインデックスを表示可能\n",
    "        node_t_samples：ノードの特定のクラス（0,1,2）に対するサンプル数\n",
    "        node_all_samples：ノードの全てのサンプル数\n",
    "        '''\n",
    "    # 閾値を設けてノードに分割する(ノード1,2)\n",
    "        div_target = [y[X[:, feature_index] <= threshold], y[X[:, feature_index] > threshold]] \n",
    "    \n",
    "    # 出力された２つのノードをgroupに入れる  \n",
    "    # 参照URL：https://hktech.hatenablog.com/entry/2018/10/05/004235\n",
    "        for group in div_target:\n",
    "            sum_impure = 0\n",
    "            self.node_all_samples = len(group)\n",
    "            classes = np.unique(group)\n",
    "        \n",
    "        # 分割されたノードの中のクラスを計測してジニ係数を求める\n",
    "            for cls in classes:\n",
    "                node_t_samples = len(group[group == cls])\n",
    "                impure = (node_t_samples/self.node_all_samples)**2\n",
    "                sum_impure += impure\n",
    "            self.gini = 1 - sum_impure\n",
    "            self.gini_score.append(self.gini) \n",
    "        return self.gini\n",
    "\n",
    "    # 問題2の親のノードのgini係数\n",
    "    def _parent(self,X, y):\n",
    "        K = np.unique(y)\n",
    "        N_t_samples = y.shape[0]/K.size\n",
    "        N_t_all_samples = len(y)\n",
    "        parent_gini = 1 - (N_t_samples/N_t_all_samples)**2*K.size\n",
    "        return parent_gini \n",
    "    \n",
    "    # 問題2のゲインの最大化の式\n",
    "    def _information_gain(self, y):\n",
    "        information_gain = self._parent(X,y) - ((self.node_all_samples/len(y))*self.gini_score[0])\\\n",
    "-(self.node_all_samples/len(y))*self.gini_score[1]\n",
    "        return information_gain\n",
    "    "
   ]
  },
  {
   "cell_type": "code",
   "execution_count": 561,
   "metadata": {
    "scrolled": true
   },
   "outputs": [
    {
     "name": "stdout",
     "output_type": "stream",
     "text": [
      "1\n",
      "0.5\n"
     ]
    },
    {
     "data": {
      "text/plain": [
       "(0.5, [1, 0.5])"
      ]
     },
     "execution_count": 561,
     "metadata": {},
     "output_type": "execute_result"
    }
   ],
   "source": [
    "# 問題1の計算過程を記載したもの\n",
    "def gini(X, y, feature_index, threshold):\n",
    "    # 分割したノードの種類(ノード１、２、３)\n",
    "    div_target = [y[X[:, feature_index] <= threshold],y[X[:, feature_index] >threshold]]\n",
    "    \n",
    "    gini_score = []\n",
    "    \n",
    "    # ノードをgroupに入れる \n",
    "    for group in div_target:\n",
    "        sum_impure = 0\n",
    "        node_all_samples = len(group)\n",
    "        #print(\"node_all_samples\", node_all_samples)\n",
    "        classes = np.unique(group)\n",
    "        \n",
    "        for cls in classes:\n",
    "            node_t_samples = len(group[group == cls])\n",
    "            impure = (node_t_samples/node_all_samples)**2 # ２乗の式\n",
    "            sum_impure += impure #同じノード内の足し算\n",
    "            #print(sum_impure)\n",
    "        gini = 1 - sum_impure\n",
    "        print(gini)\n",
    "        gini_score.append(gini)\n",
    "    return gini ,gini_score\n",
    "    \n",
    "threshold_list = [-10,-9]\n",
    "gini(X, y, feature_index=0, threshold=-10)"
   ]
  },
  {
   "cell_type": "code",
   "execution_count": 605,
   "metadata": {},
   "outputs": [
    {
     "data": {
      "text/plain": [
       "'\\n# WEBの手本\\n\\ndef gini_score(data, target, feat_idx, threshold):\\n    gini = 0\\n    sample_num = len(target)\\n   \\n    div_target = [target[data[:, feat_idx] >= threshold], target[data[:, feat_idx] < threshold]]\\n    #print(div_target)\\n    for group in div_target:\\n        print(group)\\n        score = 0\\n        classes = np.unique(group)\\n        for cls in classes:\\n            p = np.sum(group == cls)/len(group)\\n            score += p * p\\n        gini += (1- score) * (len(group)/sample_num)\\n    return gini\\n\\nprint(gini_score(X,y,1,2))\\ntarget = y[X[:, 0] <= 3]\\nprint(target)\\ny[[target] == 0]\\nX.shape, y.shape\\nX_train.shape, y_train.shape\\n'"
      ]
     },
     "execution_count": 605,
     "metadata": {},
     "output_type": "execute_result"
    }
   ],
   "source": [
    "'''\n",
    "# WEBの手本\n",
    "\n",
    "def gini_score(data, target, feat_idx, threshold):\n",
    "    gini = 0\n",
    "    sample_num = len(target)\n",
    "   \n",
    "    div_target = [target[data[:, feat_idx] >= threshold], target[data[:, feat_idx] < threshold]]\n",
    "    #print(div_target)\n",
    "    for group in div_target:\n",
    "        print(group)\n",
    "        score = 0\n",
    "        classes = np.unique(group)\n",
    "        for cls in classes:\n",
    "            p = np.sum(group == cls)/len(group)\n",
    "            score += p * p\n",
    "        gini += (1- score) * (len(group)/sample_num)\n",
    "    return gini\n",
    "\n",
    "print(gini_score(X,y,1,2))\n",
    "target = y[X[:, 0] <= 3]\n",
    "print(target)\n",
    "y[[target] == 0]\n",
    "X.shape, y.shape\n",
    "X_train.shape, y_train.shape\n",
    "'''"
   ]
  },
  {
   "cell_type": "code",
   "execution_count": 563,
   "metadata": {},
   "outputs": [
    {
     "data": {
      "text/plain": [
       "'\\nfeature_index = 0\\nthreshold = 2\\nthreshold2 = 5\\n\\n# node_indexが1の場合\\n#[node_index1 for node_index1 in X if X[:, 0] >= 2 and X[:, 0] < 3]\\n        \\n#node_indexが2の場合\\n#[node_index2 for node_index2 in X if X[:, 0] >= 3 and X[:, 0] <= 5]\\n        \\n#node_indexが3の場合\\n#[node_index3 for node_index3 in X if X[:, 0] > 5]\\n'"
      ]
     },
     "execution_count": 563,
     "metadata": {},
     "output_type": "execute_result"
    }
   ],
   "source": [
    "'''\n",
    "# 検討した内容\n",
    "feature_index = 0\n",
    "threshold = 2\n",
    "threshold2 = 5\n",
    "\n",
    "# node_indexが1の場合\n",
    "#[node_index1 for node_index1 in X if X[:, 0] >= 2 and X[:, 0] < 3]\n",
    "        \n",
    "#node_indexが2の場合\n",
    "#[node_index2 for node_index2 in X if X[:, 0] >= 3 and X[:, 0] <= 5]\n",
    "        \n",
    "#node_indexが3の場合\n",
    "#[node_index3 for node_index3 in X if X[:, 0] > 5]\n",
    "'''"
   ]
  },
  {
   "cell_type": "code",
   "execution_count": 606,
   "metadata": {},
   "outputs": [
    {
     "data": {
      "text/plain": [
       "0.5"
      ]
     },
     "execution_count": 606,
     "metadata": {},
     "output_type": "execute_result"
    }
   ],
   "source": [
    "# 問題2 親ノードのジニ係数を所得する\n",
    "import numpy as np\n",
    "\n",
    "def parent(X, y):\n",
    "    # t = t(1,2,3)\n",
    "    K = np.unique(y)\n",
    "    N_t_samples = y.shape[0]/K.size\n",
    "    N_t_all_samples = len(y)\n",
    "    gini = 1 - (N_t_samples/N_t_all_samples)**2*K.size\n",
    "    return gini\n",
    "\n",
    "parent(X,y)"
   ]
  },
  {
   "cell_type": "code",
   "execution_count": 607,
   "metadata": {},
   "outputs": [],
   "source": [
    "#データセット2\n",
    "X = np.array([[-0.44699 , -2.8073  ],[-1.4621  , -2.4586  ],\n",
    "       [ 0.10645 ,  1.9242  ],[-3.5944  , -4.0112  ],\n",
    "       [-0.9888  ,  4.5718  ],[-3.1625  , -3.9606  ],\n",
    "       [ 0.56421 ,  0.72888 ],[-0.60216 ,  8.4636  ],\n",
    "       [-0.61251 , -0.75345 ],[-0.73535 , -2.2718  ],\n",
    "       [-0.80647 , -2.2135  ],[ 0.86291 ,  2.3946  ],\n",
    "       [-3.1108  ,  0.15394 ],[-2.9362  ,  2.5462  ],\n",
    "       [-0.57242 , -2.9915  ],[ 1.4771  ,  3.4896  ],\n",
    "       [ 0.58619 ,  0.37158 ],[ 0.6017  ,  4.3439  ],\n",
    "       [-2.1086  ,  8.3428  ],[-4.1013  , -4.353   ],\n",
    "       [-1.9948  , -1.3927  ],[ 0.35084 , -0.031994],\n",
    "       [ 0.96765 ,  7.8929  ],[-1.281   , 15.6824  ],\n",
    "       [ 0.96765 , 10.083   ],[ 1.3763  ,  1.3347  ],\n",
    "       [-2.234   , -2.5323  ],[-2.9452  , -1.8219  ],\n",
    "       [ 0.14654 , -0.28733 ],[ 0.5461  ,  5.8245  ],\n",
    "       [-0.65259 ,  9.3444  ],[ 0.59912 ,  5.3524  ],\n",
    "       [ 0.50214 , -0.31818 ],[-3.0603  , -3.6461  ],\n",
    "       [-6.6797  ,  0.67661 ],[-2.353   , -0.72261 ],\n",
    "       [ 1.1319  ,  2.4023  ],[-0.12243 ,  9.0162  ],\n",
    "       [-2.5677  , 13.1779  ],[ 0.057313,  5.4681  ]])\n",
    "y = np.array([0, 0, 0, 0, 0, 0, 0, 0, 0, 0, 0, 0, 0, 0, 0, 0, 0, 0, 0, 0, 1, 1,\n",
    "       1, 1, 1, 1, 1, 1, 1, 1, 1, 1, 1, 1, 1, 1, 1, 1, 1, 1])"
   ]
  },
  {
   "cell_type": "code",
   "execution_count": 609,
   "metadata": {},
   "outputs": [
    {
     "data": {
      "image/png": "[encoded data removed]",
      "text/plain": [
       "<Figure size 432x288 with 1 Axes>"
      ]
     },
     "metadata": {
      "needs_background": "light"
     },
     "output_type": "display_data"
    }
   ],
   "source": [
    "# データの可視化\n",
    "from sklearn.datasets import load_iris\n",
    "import matplotlib.pyplot as plt\n",
    "import seaborn as sns\n",
    "\n",
    "#iris = load_iris()\n",
    "#X = iris.data[:, 2:][0:100]\n",
    "#y = iris.target[0:100]\n",
    "\n",
    "sns.scatterplot(X[:, 0], X[:, 1], hue=y)\n",
    "plt.show()\n",
    "\n",
    "df = np.concatenate([X,y[:, np.newaxis]], axis=1)\n",
    "\n",
    "\n"
   ]
  },
  {
   "cell_type": "markdown",
   "metadata": {},
   "source": [
    "# 【問題2】情報利得を求める関数\n",
    "次に、ノード間の 情報利得 を計算する関数を作成してください。問題1で作成したジニ不純度 $I(t)$ を計算する関数を呼び出して使います。情報利得$IG$は以下の数式で求まります。うまく分けられている時ほど情報利得は大きくなります。\n",
    "\n",
    "\n",
    "ここで分岐は2つのみであるため、分岐先を「左側のノード・右側のノード」と呼びます。\n",
    "\n"
   ]
  },
  {
   "cell_type": "code",
   "execution_count": null,
   "metadata": {},
   "outputs": [],
   "source": [
    "def _information_gain(self, y):\n",
    "        information_gain = self._parent(X,y) - ((self.node_all_samples/len(y))*self.gini_score[0])\\\n",
    "-(self.node_all_samples/len(y))*self.gini_score[1]\n",
    "        return information_gain"
   ]
  },
  {
   "cell_type": "markdown",
   "metadata": {},
   "source": [
    "# 【問題3】学習\n",
    "空間の分割を行い、決定木のグラフを生成するコードを作成してください。今は深さ1の決定木なので、分割を1回だけ行います。ここでグラフを生成するとは、1回の分割の際の条件としてどの特徴量がいくつ以上の時とするかを求めるということです。\n",
    "\n",
    "\n",
    "訓練データに対して全ての組み合わせの分割を行い、その中でノード間の情報利得が最大となる分割をそのノードの分割基準として記録します。\n",
    "\n",
    "\n",
    "クラスが混ざらない不純度が0のノード、または指定された深さのノードが 葉ノード となります。葉ノードにはクラスを記録しておき、これを推定時に分類するクラスとします。クラスが混ざらない場合はそのままのクラスを記録し、混ざっている場合は多数決により決めます。\n",
    "\n",
    "\n",
    "《組み合わせの取り方》\n",
    "\n",
    "\n",
    "全ての組み合わせの取り方は、最も単純には各特徴量の値自体をしきい値にして分割を行う方法があります。片側の端は今回のスクラッチはこの方法で行なってください。\n",
    "\n",
    "\n",
    "他には中間の値をしきい値にする方法もあり、scikit-learnではこの方法が用いられています。\n",
    "\n",
    "\n",
    "《補足》\n",
    "\n",
    "\n",
    "問題2の情報利得を計算する関数はこの問題3で利用する上では、親ノードの不純度 $I(p)$ は固定されるため、左右のノードの不純度の合計を計算するだけでも同じ結果が得られることになります。しかし、ここでは親ノードを考慮した情報利得を計算する実装を行なってください。\n",
    "\n",
    "\n",
    "\n"
   ]
  },
  {
   "cell_type": "code",
   "execution_count": 611,
   "metadata": {},
   "outputs": [],
   "source": [
    "def fit(self, X, y):  \n",
    "        # 閾値を設定する\n",
    "        self.threshold_list = np.arange(0, 10, 0.1)\n",
    "        self.threshold_index = [] \n",
    "        max_infomation_gain = 0\n",
    "        \n",
    "        # 問題1,2の内容をfor文で回して、gainの最大値を所得する\n",
    "        # 特徴量分の値を所得する\n",
    "        for i in range(len(self.threshold_list)):\n",
    "            self._gini(X, y, 0, self.threshold_list[i]) \n",
    "            self._information_gain(y)\n",
    "            \n",
    "            # 最大値の更新と最大値のthresholdを保存する\n",
    "            if  max_infomation_gain < self._information_gain(y):\n",
    "                max_infomation_gain = self._information_gain(y)\n",
    "                self.threshold_index.append(i)\n",
    "                \n",
    "            if self.verbose:\n",
    "                # verboseをTrueにした際は学習過程を出力\n",
    "                print(\"{}/{}, max_inofomation_gain{}\".format(i+1, len(self.threshold_list), max_infomation_gain))\n",
    "        \n",
    "        # 情報利得の最大化のthresholdを代入\n",
    "        self._gini(X, y, 0, self.threshold_list[-1])"
   ]
  },
  {
   "cell_type": "markdown",
   "metadata": {},
   "source": [
    "# 【問題4】推定\n",
    "推定する仕組みを実装してください。ScratchDecesionTreeClassifierDepth1クラスの雛形に含まれるpredictメソッドに書き加えてください。\n",
    "\n",
    "\n",
    "入力されたデータの値を学習した条件で判定していき、どの葉ノードに到達するかを見ます。葉ノードにはクラスが記録されているので、これが推定値となります。\n"
   ]
  },
  {
   "cell_type": "code",
   "execution_count": null,
   "metadata": {},
   "outputs": [],
   "source": [
    "def predict(self, X):\n",
    "    \"\"\"\n",
    "    決定木分類器を使いラベルを推定する\n",
    "    \"\"\"\n",
    "    # fitで求めた閾値より下回った物をpredに決定させる\n",
    "    pred = np.where(X[:, 0] < self.threshold_list[self.threshold_index[-1]], 0, 1)\n",
    "    return pred"
   ]
  },
  {
   "cell_type": "markdown",
   "metadata": {},
   "source": [
    "# 【問題5】学習と推定\n",
    "機械学習スクラッチ入門のSprintで用意したシンプルデータセット2の2値分類に対してスクラッチ実装の学習と推定を行なってください。\n",
    "\n",
    "\n",
    "scikit-learnによる実装と比べ、正しく動いているかを確認してください。\n",
    "\n",
    "\n",
    "AccuracyやPrecision、Recallなどの指標値はscikit-learnを使用してください。\n"
   ]
  },
  {
   "cell_type": "code",
   "execution_count": 595,
   "metadata": {},
   "outputs": [],
   "source": [
    "class ScratchDecesionTreeClassifierDepth1():\n",
    "\n",
    "    def __init__(self, verbose=False):\n",
    "        # ハイパーパラメータを属性として記録\n",
    "        self.verbose = verbose\n",
    "        self.gini_score = []\n",
    "    \n",
    "    # 問題3 学習 \n",
    "    def fit(self, X, y):  \n",
    "        # 閾値を設定する\n",
    "        self.threshold_list = np.arange(0, 10, 0.1)\n",
    "        self.threshold_index = [] \n",
    "        max_infomation_gain = 0\n",
    "        \n",
    "        # 問題1,2の内容をfor文で回して、gainの最大値を所得する\n",
    "        # 特徴量分の値を所得する\n",
    "        for i in range(len(self.threshold_list)):\n",
    "            self._gini(X, y, 0, self.threshold_list[i]) \n",
    "            self._information_gain(y)\n",
    "            \n",
    "            # 最大値の更新と最大値のthresholdを保存する\n",
    "            if  max_infomation_gain < self._information_gain(y):\n",
    "                max_infomation_gain = self._information_gain(y)\n",
    "                self.threshold_index.append(i)\n",
    "                \n",
    "            if self.verbose:\n",
    "                # verboseをTrueにした際は学習過程を出力\n",
    "                print(\"{}/{}, max_inofomation_gain{}\".format(i+1, len(self.threshold_list), max_infomation_gain))\n",
    "        \n",
    "        # 情報利得の最大化のthresholdを代入\n",
    "        self._gini(X, y, 0, self.threshold_list[-1])\n",
    "       \n",
    "    def predict(self, X):\n",
    "        \"\"\"\n",
    "        決定木分類器を使いラベルを推定する\n",
    "        \"\"\"\n",
    "        # fitで求めた閾値より下回った物をpredに決定させる\n",
    "        pred = np.where(X[:, 0] < self.threshold_list[self.threshold_index[-1]], 0, 1)\n",
    "        return pred\n",
    "    \n",
    "    # 問題1の計算式\n",
    "    def _gini(self, X, y, feature_index, threshold):\n",
    "        '''\n",
    "        K： クラスの数\n",
    "        node_index：ノードのインデックス\n",
    "        div_target：ノード内にあるクラスのインデックスを表示可能\n",
    "        node_t_samples：ノードの特定のクラス（0,1,2）に対するサンプル数\n",
    "        node_all_samples：ノードの全てのサンプル数\n",
    "        '''\n",
    "    # 閾値を設けてノードに分割する(ノード1,2)\n",
    "        div_target = [y[X[:, feature_index] <= threshold], y[X[:, feature_index] > threshold]] \n",
    "    \n",
    "    # 出力された２つのノードをgroupに入れる  \n",
    "    # 参照URL：https://hktech.hatenablog.com/entry/2018/10/05/004235\n",
    "        for group in div_target:\n",
    "            sum_impure = 0\n",
    "            self.node_all_samples = len(group)\n",
    "            classes = np.unique(group)\n",
    "        \n",
    "        # 分割されたノードの中のクラスを計測してジニ係数を求める\n",
    "            for cls in classes:\n",
    "                node_t_samples = len(group[group == cls])\n",
    "                impure = (node_t_samples/self.node_all_samples)**2\n",
    "                sum_impure += impure\n",
    "            self.gini = 1 - sum_impure\n",
    "            self.gini_score.append(self.gini) \n",
    "        return self.gini\n",
    "\n",
    "    # 問題2の親のノードのgini係数\n",
    "    def _parent(self,X, y):\n",
    "        K = np.unique(y)\n",
    "        N_t_samples = y.shape[0]/K.size\n",
    "        N_t_all_samples = len(y)\n",
    "        parent_gini = 1 - (N_t_samples/N_t_all_samples)**2*K.size\n",
    "        return parent_gini \n",
    "    \n",
    "    # 問題2のゲインの最大化の式\n",
    "    def _information_gain(self, y):\n",
    "        information_gain = self._parent(X,y) - ((self.node_all_samples/len(y))*self.gini_score[0])\\\n",
    "-(self.node_all_samples/len(y))*self.gini_score[1]\n",
    "        return information_gain\n",
    "    "
   ]
  },
  {
   "cell_type": "code",
   "execution_count": 600,
   "metadata": {
    "scrolled": false
   },
   "outputs": [],
   "source": [
    "from sklearn.model_selection import train_test_split\n",
    "\n",
    "X_train, X_test, y_train, y_test = train_test_split(X, y, random_state=42)\n",
    "model = ScratchDecesionTreeClassifierDepth1(None)\n",
    "\n",
    "model.fit(X_train, y_train)"
   ]
  },
  {
   "cell_type": "code",
   "execution_count": 601,
   "metadata": {},
   "outputs": [
    {
     "data": {
      "text/plain": [
       "array([0, 0, 1, 0, 0, 0, 0, 0, 0, 0])"
      ]
     },
     "execution_count": 601,
     "metadata": {},
     "output_type": "execute_result"
    }
   ],
   "source": [
    "pred = model.predict(X_test)\n",
    "pred"
   ]
  },
  {
   "cell_type": "markdown",
   "metadata": {},
   "source": [
    "# 【問題6】決定領域の可視化\n",
    "決定領域を可視化してください。\n"
   ]
  },
  {
   "cell_type": "code",
   "execution_count": 603,
   "metadata": {
    "scrolled": true
   },
   "outputs": [
    {
     "data": {
      "image/png": "[encoded data removed]",
      "text/plain": [
       "<Figure size 432x288 with 1 Axes>"
      ]
     },
     "metadata": {
      "needs_background": "light"
     },
     "output_type": "display_data"
    }
   ],
   "source": [
    "'''\n",
    "from sklearn.datasets import load_iris\n",
    "iris = load_iris()\n",
    "y = iris.target[:100]\n",
    "X = iris.data[:100,:2]\n",
    "\n",
    "X_train, X_test, y_train, y_test = train_test_split(X, y, random_state=42)\n",
    "\n",
    "model.fit(X_train, y_train)\n",
    "'''\n",
    "import matplotlib.pyplot as plt\n",
    "from matplotlib.colors import ListedColormap\n",
    "import matplotlib.patches as mpatches\n",
    "def decision_region(X, y, model, step=0.01, title='decision region', xlabel='xlabel', ylabel='ylabel', target_names=['versical', 'versicolor']):\n",
    "    \"\"\"\n",
    "    2値分類を2次元の特徴量で学習したモデルの決定領域を描く。\n",
    "    背景の色が学習したモデルによる推定値から描画される。\n",
    "    散布図の点は訓練データまたは検証データである。\n",
    "    Parameters\n",
    "    ----------------\n",
    "    X : ndarray, shape(n_samples, 2)\n",
    "        特徴量\n",
    "    y : ndarray, shape(n_samples,)\n",
    "        ラベル\n",
    "    model : object\n",
    "        学習したモデルのインスンタスを入れる\n",
    "    step : float, (default : 0.1)\n",
    "        推定値を計算する間隔を設定する\n",
    "    title : str\n",
    "        グラフのタイトルの文章を与える\n",
    "    xlabel, ylabel : str\n",
    "        軸ラベルの文章を与える\n",
    "    target_names= : list of str\n",
    "        凡例の一覧を与える\n",
    "    \"\"\"\n",
    "    # setting\n",
    "    scatter_color = ['red', 'blue']\n",
    "    contourf_color = ['pink', 'skyblue']\n",
    "    n_class = 2\n",
    "    # pred\n",
    "    mesh_f0, mesh_f1  = np.meshgrid(np.arange(np.min(X[:,0])-0.5, np.max(X[:,0])+0.5, step), np.arange(np.min(X[:,1])-0.5, np.max(X[:,1])+0.5, step))\n",
    "    mesh = np.c_[np.ravel(mesh_f0),np.ravel(mesh_f1)]\n",
    "    y_pred = model.predict(mesh).reshape(mesh_f0.shape)\n",
    "    # plot\n",
    "    plt.title(title)\n",
    "    plt.xlabel(xlabel)\n",
    "    plt.ylabel(ylabel)\n",
    "    plt.contourf(mesh_f0, mesh_f1, y_pred, n_class-1, cmap=ListedColormap(contourf_color))\n",
    "    plt.contour(mesh_f0, mesh_f1, y_pred, n_class-1, colors='y', linewidths=3, alpha=0.5)\n",
    "    for i, target in enumerate(set(y)):\n",
    "        plt.scatter(X[y==target][:, 0], X[y==target][:, 1], s=80, color=scatter_color[i], label=target_names[i], marker='o')\n",
    "    #plt.scatter(X[model_sc.support_vector, 0],X[model_sc.support_vector, 1], s=80, color='yellow', label='SVM', marker='o') \n",
    "    patches = [mpatches.Patch(color=scatter_color[i], label=target_names[i]) for i in range(n_class)]\n",
    "    plt.legend(handles=patches)\n",
    "    plt.legend()\n",
    "    plt.show()\n",
    "    \n",
    "decision_region(X_train, y_train, model)"
   ]
  },
  {
   "cell_type": "code",
   "execution_count": 604,
   "metadata": {},
   "outputs": [
    {
     "data": {
      "image/png": "[encoded data removed]",
      "text/plain": [
       "<Figure size 720x432 with 1 Axes>"
      ]
     },
     "metadata": {
      "needs_background": "light"
     },
     "output_type": "display_data"
    }
   ],
   "source": [
    "plt.figure(figsize=(10, 6))\n",
    "plt.scatter(X[y == 0][:, 0], X[y == 0][:, 1], color='b', label='0')\n",
    "plt.scatter(X[y == 1][:, 0], X[y == 1][:, 1], color='r', label='1')\n",
    "plt.legend()\n",
    "x1_min, x1_max = X[:,0].min(), X[:,0].max(),\n",
    "x2_min, x2_max = X[:,1].min(), X[:,1].max(),\n",
    "xx1, xx2 = np.meshgrid(np.linspace(x1_min, x1_max), np.linspace(x2_min, x2_max))\n",
    "grid = np.c_[xx1.ravel(), xx2.ravel()]\n",
    "probs = model.predict(grid).reshape(xx1.shape)\n",
    "plt.contour(xx1, xx2, probs, [0.2], linewidths=1, colors='black');"
   ]
  },
  {
   "cell_type": "markdown",
   "metadata": {},
   "source": [
    "### アドバンスもあるがひとまず必須課題を実施する\n",
    "### 月曜以降に挑戦する内容\n",
    "1. 閾値を特徴量分に変更する\n",
    "2. ゲインの最大化の式を見直す\n",
    "3. 深さ2以上の課題に取り組む（再帰的課題をクリアする）\n",
    "→クラス内でクラスを呼び出す"
   ]
  },
  {
   "cell_type": "code",
   "execution_count": null,
   "metadata": {},
   "outputs": [],
   "source": []
  }
 ],
 "metadata": {
  "kernelspec": {
   "display_name": "Python 3",
   "language": "python",
   "name": "python3"
  },
  "language_info": {
   "codemirror_mode": {
    "name": "ipython",
    "version": 3
   },
   "file_extension": ".py",
   "mimetype": "text/x-python",
   "name": "python",
   "nbconvert_exporter": "python",
   "pygments_lexer": "ipython3",
   "version": "3.8.3"
  }
 },
 "nbformat": 4,
 "nbformat_minor": 4
}
