{
 "cells": [
  {
   "cell_type": "markdown",
   "metadata": {},
   "source": [
    "# 問題1】仮定関数\n",
    "以下の数式で表される線形回帰の仮定関数を実装してください。メソッドの雛形を用意してあります。\n",
    "\n",
    "$\n",
    "h\n",
    "θ\n",
    "(\n",
    "x\n",
    ")\n",
    "=\n",
    "θ\n",
    "0\n",
    "x\n",
    "0\n",
    "+\n",
    "θ\n",
    "1\n",
    "x\n",
    "1\n",
    "+\n",
    ".\n",
    ".\n",
    ".\n",
    "+\n",
    "θ\n",
    "j\n",
    "x\n",
    "j\n",
    "+\n",
    ".\n",
    ".\n",
    ".\n",
    "+\n",
    "θ\n",
    "n\n",
    "x\n",
    "n\n",
    ".\n",
    "(\n",
    "x\n",
    "0\n",
    "=\n",
    "1\n",
    ")\n",
    "$\n"
   ]
  },
  {
   "cell_type": "code",
   "execution_count": 442,
   "metadata": {},
   "outputs": [],
   "source": [
    "# 重回帰分析の式が鍵\n",
    "# xとyの合計値を計算する 課題はshapeの形式と順番\n",
    "# np.dot()\n",
    "import numpy as np\n",
    "\n",
    "def _linear_hypothesis(X):\n",
    "    # θ = 回帰係数 \n",
    "    # n = 特徴量の数（おそらくn_features）\n",
    "    theta = np.random.rand(X.shape[1], 1)\n",
    "    hypothesis = np.dot(X, theta).reshape(-1)\n",
    "    return  hypothesis"
   ]
  },
  {
   "cell_type": "code",
   "execution_count": 443,
   "metadata": {},
   "outputs": [
    {
     "name": "stdout",
     "output_type": "stream",
     "text": [
      "(150,)\n",
      "(1460,)\n"
     ]
    }
   ],
   "source": [
    "# 色々検証\n",
    "\n",
    "from sklearn.datasets import load_iris\n",
    "alpha = 0.001\n",
    "iris = load_iris()\n",
    "\n",
    "x =iris.data\n",
    "y =iris.target\n",
    "\n",
    "print(_linear_hypothesis(x).shape)\n",
    "\n",
    "e = np.arange(0,150)\n",
    "f = np.arange(0,600).reshape(150,4)\n",
    "np.dot(e,f)\n",
    "y.shape\n",
    "\n",
    "df = pd.read_csv('/Users/yuki.tatsuoka/Downloads/house-prices-advanced-regression-techniques (1)/train.csv')\n",
    "y = df['SalePrice'].to_numpy()\n",
    "x = df.loc[:, ['GrLivArea','YearBuilt']].to_numpy()\n",
    "\n",
    "print(_linear_hypothesis(x).shape)\n"
   ]
  },
  {
   "cell_type": "markdown",
   "metadata": {},
   "source": [
    "# 【問題2】最急降下法\n",
    "最急降下法により学習させる実装を行なってください。以下の式で表されるパラメータの更新式のメソッド_gradient_descentを追加し、fit\n",
    "メソッドから呼び出すようにしてください。"
   ]
  },
  {
   "cell_type": "code",
   "execution_count": 363,
   "metadata": {},
   "outputs": [],
   "source": [
    "# 提出用\n",
    "def _gradient_descent(self, X,  error, y):\n",
    "    tmp = (error - y).reshape(-1,1)\n",
    "    for i in range(X.shape[1])\n",
    "    self_theta[i] = self.theta[i] - (self.lr/X.shape[0]) * (np.sum(np.dot(error.T, X), axis=0))\n"
   ]
  },
  {
   "cell_type": "code",
   "execution_count": 296,
   "metadata": {},
   "outputs": [],
   "source": [
    "#  検証用\n",
    "def _gradient_descent(X, y,lr=0.001):\n",
    "    theta = np.random.rand(X.shape[1], 1)\n",
    "    hypothesis = np.dot(X, theta)\n",
    "    error =  _linear_hypothesis(X) - y.reshape(-1,1)\n",
    "    print(error.shape)\n",
    "    theta = theta - (lr/y.shape[0]) * (np.sum(np.dot(error.T, X)))\n",
    "    print(np.dot(error.T, X))\n",
    "    print(np.sum(np.dot(error.T, X)))\n",
    "    print((1/y.shape[0]) * (np.sum(np.dot(error.T, X))))\n",
    "    return theta\n",
    "    # 1/mとxjとΣが少し曖昧\n",
    "    # インデックスは配列的に検討不要?"
   ]
  },
  {
   "cell_type": "code",
   "execution_count": 417,
   "metadata": {},
   "outputs": [],
   "source": [
    "#  検証用\n",
    "def _gradient_descent3(X, y,lr=0.001):\n",
    "    theta = np.random.rand(X.shape[1], 1)\n",
    "    hypothesis = np.dot(x, theta)\n",
    "    \n",
    "    error =  _linear_hypothesis(X) - y.reshape(-1,1)\n",
    "    print(error.shape)\n",
    "    theta = theta - lr* np.mean((np.sum(error * X, axis=0)))\n",
    "    print('-'*50)\n",
    "    print((error*X).shape)\n",
    "    print('-'*50)\n",
    "    print(np.sum(error*X, axis=0))\n",
    "    return theta\n",
    "   #print(1/y.shape[0] * np.sum(error, X))\n",
    "   "
   ]
  },
  {
   "cell_type": "code",
   "execution_count": 418,
   "metadata": {
    "scrolled": true
   },
   "outputs": [
    {
     "name": "stdout",
     "output_type": "stream",
     "text": [
      "(1460, 1)\n",
      "--------------------------------------------------\n",
      "(1460, 2)\n",
      "--------------------------------------------------\n",
      "[-4.38319797e+11 -5.16073808e+11]\n"
     ]
    },
    {
     "data": {
      "text/plain": [
       "(2, 1)"
      ]
     },
     "execution_count": 418,
     "metadata": {},
     "output_type": "execute_result"
    }
   ],
   "source": [
    "# 検証\n",
    "\n",
    "\n",
    "a = _gradient_descent3(x,y)\n",
    "\n",
    "a.shape\n"
   ]
  },
  {
   "cell_type": "code",
   "execution_count": 523,
   "metadata": {},
   "outputs": [],
   "source": [
    "import numpy as np\n",
    "import matplotlib.pyplot as plt\n",
    "\n",
    "class ScratchLinearRegression():\n",
    "\n",
    "    def __init__(self, num_iter, lr, no_bias, verbose):\n",
    "        # ハイパーパラメータを属性として記録\n",
    "        self.iter = num_iter # 学習回数 = データ数/分割したサイズ　\n",
    "        self.lr = lr\n",
    "        self.no_bias = no_bias\n",
    "        self.verbose = verbose\n",
    "        # 損失を記録する配列を用意\n",
    "        self.loss = np.zeros(self.iter) # 学習回数をnp.zerosに入れている。　この説明？？？\n",
    "        self.val_loss = np.zeros(self.iter) # 学習回数をnp.zerosに入れている。この説明？？？\n",
    "        self.theta = np.random.rand(X.shape[1], 1)\n",
    "        \n",
    "    # 仮定関数の策定\n",
    "    def _linear_hypothesis(self, X):\n",
    "        # θ = 回帰係数\n",
    "        # n = 特徴量の数（おそらくn_features）\n",
    "        hypothesis = np.dot(X, self.theta)\n",
    "        return  hypothesis\n",
    "\n",
    "    def fit(self, X, y, X_val, y_val, lr=0.01):\n",
    "        self.list_loss = []\n",
    "        self.list_val_loss = []\n",
    "        \n",
    "        # 処理が回らなければerrorをfor文のi番目で処理して１次元を計算する\n",
    "        pred = self._linear_hypothesis(X)\n",
    "        \n",
    "        for i in range(self.iter):     \n",
    "            error = pred[0] - y[0] \n",
    "            self._gradient_descent(X, error, y)\n",
    "            train_pred = self._linear_hypothesis(X)\n",
    "            train_loss,_ = self.cost_function(train_pred, y)\n",
    "            self.list_loss.append(train_loss)\n",
    "            \n",
    "            if self.verbose:\n",
    "            #verboseをTrueにした際は学習過程を出力　\n",
    "                print('itelation {}, val_loss{}'.format(i, train_loss)) # 計算式を入れる\n",
    "\n",
    "        if X_val.all() ==True and y_val.all() == True:\n",
    "            for i in range(self.iter): \n",
    "                error = pred[0] - y_val[0] \n",
    "                self._gradient_descent(X_val, error, y_val)\n",
    "                val_pred = self._linear_hypothesis(X_val)\n",
    "                _,val_loss = self.cost_function(val_pred, y_val)\n",
    "                self.list_val_loss.append(val_loss)\n",
    "            \n",
    "                if self.verbose:\n",
    "                #verboseをTrueにした際は学習過程を出力　\n",
    "                    print('itelation {}, val_loss{}'.format(i, val_loss)) # 計算式を入れる\n",
    "        \n",
    "    \n",
    "    def predict(self, X):\n",
    "        y_pred = self._linear_hypothesis(X)\n",
    "        return y_pred\n",
    "    \n",
    "    def _gradient_descent(self, X,  error, y):\n",
    "        tmp = error - y\n",
    "        tmp= tmp.reshape(-1,1)\n",
    "        sum_tmp =  np.sum(np.dot(tmp.T, X), axis=0)\n",
    "        for i in range(X.shape[1]):\n",
    "            self.theta[i] = self.theta[i] - ((self.lr/X.shape[0]) * sum_tmp[i])\n",
    "\n",
    "        # 処理が回らなければerrorをfor文のi番目で処理して１次元を計算する\n",
    "     \n",
    "    def cost_function(self, y_pred, y):\n",
    "        loss = y.shape[0] * np.sum((y_pred[0] - y[0])**2) / 2\n",
    "        self.loss = loss\n",
    "        self.val_loss = loss\n",
    "        return self.loss, self.val_loss\n",
    "        \n",
    "        #学習曲線を表示する \n"
   ]
  },
  {
   "cell_type": "code",
   "execution_count": null,
   "metadata": {},
   "outputs": [],
   "source": []
  },
  {
   "cell_type": "markdown",
   "metadata": {},
   "source": [
    "# 【問題3】推定\n",
    "推定する仕組みを実装してください。ScratchLinearRegressionクラスの雛形に含まれるpredictメソッドに書き加えてください。\n",
    "\n",
    "\n",
    "\n"
   ]
  },
  {
   "cell_type": "code",
   "execution_count": 189,
   "metadata": {},
   "outputs": [],
   "source": [
    "# 一部抜粋\n",
    "def predict(self, X):\n",
    "    y_pred = self._linear_hypothesis(X)\n",
    "    return y_pred"
   ]
  },
  {
   "cell_type": "markdown",
   "metadata": {},
   "source": [
    "# 【問題4】平均二乗誤差\n",
    "線形回帰の指標値として用いられる平均二乗誤差（mean square error, MSE）の関数を作成してください。\n",
    "\n",
    "\n",
    "平均二乗誤差関数は回帰問題全般で使える関数のため、ScratchLinearRegressionクラスのメソッドではなく、別の関数として作成してください。雛形を用意してあります。\n",
    "\n",
    "\n",
    "平均二乗誤差は以下の数式で表されます。"
   ]
  },
  {
   "cell_type": "code",
   "execution_count": 16,
   "metadata": {},
   "outputs": [],
   "source": [
    "def MSE(self, y_pred, y):\n",
    "    mse = (1/y.shape[0]) * np.sum(np.square(y_pred - y))\n",
    "    return mse"
   ]
  },
  {
   "cell_type": "markdown",
   "metadata": {},
   "source": [
    "# 【問題5】目的関数\n",
    "以下の数式で表される線形回帰の 目的関数（損失関数） を実装してください。そして、これをself.loss, self.val_lossに記録するようにしてください。\n",
    "\n",
    "\n",
    "目的関数（損失関数） \n",
    "J\n",
    "(\n",
    "θ\n",
    ")\n",
    " は次の式です。\n",
    "\n"
   ]
  },
  {
   "cell_type": "code",
   "execution_count": 17,
   "metadata": {},
   "outputs": [],
   "source": [
    "def cost_function(y_pred, y):\n",
    "    loss = (1/2*y.shape[0]) * np.sum(np.square(y_pred - y))\n",
    "    return loss"
   ]
  },
  {
   "cell_type": "markdown",
   "metadata": {},
   "source": [
    "# 【問題6】学習と推定\n",
    "機械学習スクラッチ入門のSprintで用意したHouse Pricesコンペティションのデータに対してスクラッチ実装の学習と推定を行なってください。\n",
    "\n",
    "\n",
    "scikit-learnによる実装と比べ、正しく動いているかを確認してください。"
   ]
  },
  {
   "cell_type": "code",
   "execution_count": 524,
   "metadata": {
    "scrolled": false
   },
   "outputs": [],
   "source": [
    "import pandas as pd\n",
    "from sklearn.model_selection import train_test_split\n",
    "\n",
    "df = pd.read_csv('/Users/yuki.tatsuoka/Downloads/house-prices-advanced-regression-techniques (1)/train.csv')\n",
    "y = df['SalePrice'].to_numpy()\n",
    "X = df.loc[:, ['GrLivArea','YearBuilt']].to_numpy()\n",
    "\n",
    "X_train, X_test, y_train, y_test = train_test_split(X, y, random_state=42)\n",
    "\n",
    "# 実装\n",
    "model = ScratchLinearRegression(1000,1e-10, False, False)\n",
    "\n",
    "model.fit(X_train, y_train, X_test, y_test)\n",
    "\n",
    "#model.predict(X_test)\n",
    "\n",
    "\n"
   ]
  },
  {
   "cell_type": "markdown",
   "metadata": {},
   "source": [
    "# 【問題7】学習曲線のプロット\n",
    "学習曲線を表示する関数を作成し、実行してください。グラフを見て損失が適切に下がっているかどうか確認してください。\n",
    "\n",
    "\n",
    "線形回帰クラスの雛形ではself.loss, self.val_lossに損失を記録しておくようになっているため、入力にはこれを利用してください。\n",
    "\n"
   ]
  },
  {
   "cell_type": "code",
   "execution_count": 525,
   "metadata": {},
   "outputs": [
    {
     "data": {
      "image/png": "[encoded data removed]",
      "text/plain": [
       "<Figure size 432x288 with 1 Axes>"
      ]
     },
     "metadata": {
      "needs_background": "light"
     },
     "output_type": "display_data"
    }
   ],
   "source": [
    "\n",
    "plt.plot(np.arange(1000), model.list_loss, label=\"train_loss\")\n",
    "plt.plot(np.arange(1000), model.list_val_loss,label=\"val_loss\")\n",
    "plt.legend()\n",
    "plt.show()\n",
    "\n",
    "#あってるのか不明。。。"
   ]
  },
  {
   "cell_type": "markdown",
   "metadata": {},
   "source": [
    "# 【問題8】（アドバンス課題）バイアス項の除去\n",
    "バイアス項 \n",
    "θ\n",
    "0\n",
    " を抜くと学習がどう変化するか検証してください。また、線形回帰モデルにおけるバイアス項の役割の考察・調査を行ってください。"
   ]
  },
  {
   "cell_type": "code",
   "execution_count": null,
   "metadata": {},
   "outputs": [],
   "source": []
  },
  {
   "cell_type": "markdown",
   "metadata": {},
   "source": [
    "# 【問題9】（アドバンス課題）特徴量の多次元化\n",
    "特徴量の二乗や三乗を入力に利用すると学習結果がどう変化するか検証してください。"
   ]
  },
  {
   "cell_type": "code",
   "execution_count": null,
   "metadata": {},
   "outputs": [],
   "source": []
  },
  {
   "cell_type": "markdown",
   "metadata": {},
   "source": [
    "# 【問題10】（アドバンス課題）更新式の導出\n",
    "最急降下法の更新式は以下でした。この式が導出される過程を説明してください。\n",
    "\n"
   ]
  },
  {
   "cell_type": "code",
   "execution_count": null,
   "metadata": {},
   "outputs": [],
   "source": []
  },
  {
   "cell_type": "markdown",
   "metadata": {},
   "source": [
    "# 【問題11】（アドバンス課題）局所最適解の問題\n",
    "最急降下法には一般的に局所最適解の問題があります。しかし、線形回帰では学習を続ければ必ず最適解を求めることができます。それはなぜか数式やグラフを用いて説明してください。"
   ]
  },
  {
   "cell_type": "code",
   "execution_count": null,
   "metadata": {},
   "outputs": [],
   "source": []
  }
 ],
 "metadata": {
  "kernelspec": {
   "display_name": "Python 3",
   "language": "python",
   "name": "python3"
  },
  "language_info": {
   "codemirror_mode": {
    "name": "ipython",
    "version": 3
   },
   "file_extension": ".py",
   "mimetype": "text/x-python",
   "name": "python",
   "nbconvert_exporter": "python",
   "pygments_lexer": "ipython3",
   "version": "3.8.3"
  }
 },
 "nbformat": 4,
 "nbformat_minor": 4
}
